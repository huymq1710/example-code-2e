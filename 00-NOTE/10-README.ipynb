{
 "cells": [
  {
   "cell_type": "markdown",
   "source": [
    "# Chapter 10. Design Patterns with First-Class Functions\n",
    "\n",
    "Mặc dù các mẫu thiết kế độc lập với ngôn ngữ nhưng điều đó không có nghĩa là mọi mẫu đều áp dụng cho mọi ngôn ngữ.\n",
    "- 16/23 mẫu trong cuốn sách Mẫu thiết kế ban đầu trở nên \"vô hình hoặc đơn giản hơn\" trong ngôn ngữ động\n",
    "\n",
    "Mục tiêu của chương này là chỉ ra cách—trong một số trường hợp—các hàm có thể thực hiện công việc giống như các lớp, với mã dễ đọc và ngắn gọn hơn.\n"
   ],
   "metadata": {
    "collapsed": false,
    "pycharm": {
     "name": "#%% md\n"
    }
   }
  },
  {
   "cell_type": "markdown",
   "source": [
    "## Case Study: Refactoring Strategy\n",
    "\n",
    "functions as first-class objects\n",
    "\n",
    "Implement Strategy using the “classic” structure described in Design Patterns."
   ],
   "metadata": {
    "collapsed": false,
    "pycharm": {
     "name": "#%% md\n"
    }
   }
  },
  {
   "cell_type": "markdown",
   "source": [
    "### Classic Strategy\n",
    "\n",
    "Hình 10-1. Sơ đồ lớp UML để xử lý  order discount được triển khai với Strategy design pattern.\n",
    "\n",
    "![img.png](image/10-1.png)\n",
    "\n",
    "- Khách có > 1000đ , giảm 5%/order\n",
    "- Mua >20 items/order, giảm 10%\n",
    "- Mua >10 items riêng biệt, giảm 7%"
   ],
   "metadata": {
    "collapsed": false,
    "pycharm": {
     "name": "#%% md\n"
    }
   }
  },
  {
   "cell_type": "markdown",
   "source": [
    "Strategy pattern:\n",
    "\n",
    "\"Định nghĩa một nhóm các thuật toán, đóng gói từng thuật toán và làm cho chúng có thể hoán đổi cho nhau. Strategy cho phép thuật toán thay đổi độc lập với các client sử dụng nó.\""
   ],
   "metadata": {
    "collapsed": false,
    "pycharm": {
     "name": "#%% md\n"
    }
   }
  },
  {
   "cell_type": "code",
   "execution_count": 1,
   "metadata": {
    "collapsed": true,
    "pycharm": {
     "name": "#%%\n"
    }
   },
   "outputs": [],
   "source": [
    "# Mặc định trong Python sẽ không cung cấp Abstract class cho chúng ta sử dụng.\n",
    "# Nhưng Python có một mô-đun gọi là Abstract Base Classes (ABC) để giúp chúng ta làm điều đó.\n",
    "from abc import ABC, abstractmethod\n",
    "from collections.abc import Sequence\n",
    "from decimal import Decimal\n",
    "from typing import NamedTuple, Optional\n",
    "\n",
    "\n",
    "class Customer(NamedTuple):\n",
    "    name: str\n",
    "    fidelity: int # điểm\n",
    "\n",
    "\n",
    "class LineItem(NamedTuple):\n",
    "    product: str\n",
    "    quantity: int\n",
    "    price: Decimal\n",
    "\n",
    "    def total(self) -> Decimal:\n",
    "        return self.price * self.quantity\n",
    "\n",
    "\n",
    "class Order(NamedTuple):  # the Context\n",
    "    customer: Customer\n",
    "    cart: Sequence[LineItem]\n",
    "    promotion: Optional['Promotion'] = None\n",
    "\n",
    "    def total(self) -> Decimal:\n",
    "        totals = (item.total() for item in self.cart)\n",
    "        return sum(totals, start=Decimal(0))\n",
    "\n",
    "    def due(self) -> Decimal: # Giá khi đã giảm\n",
    "        if self.promotion is None:\n",
    "            discount = Decimal(0)\n",
    "        else:\n",
    "            discount = self.promotion.discount(self)\n",
    "        return self.total() - discount\n",
    "\n",
    "    def __repr__(self):\n",
    "        return f'<Order total: {self.total():.2f} due: {self.due():.2f}>'\n",
    "\n",
    "\n",
    "class Promotion(ABC):  # the Strategy: an abstract base class\n",
    "    @abstractmethod\n",
    "    def discount(self, order: Order) -> Decimal:\n",
    "        \"\"\"Return discount as a positive dollar amount\"\"\"\n",
    "\n",
    "\n",
    "\n",
    "class FidelityPromo(Promotion):  # first Concrete Strategy\n",
    "    \"\"\"5% discount for customers with 1000 or more fidelity points\"\"\"\n",
    "\n",
    "    def discount(self, order: Order) -> Decimal:\n",
    "        rate = Decimal('0.05')\n",
    "        if order.customer.fidelity >= 1000:\n",
    "            return order.total() * rate\n",
    "        return Decimal(0)\n",
    "\n",
    "\n",
    "class BulkItemPromo(Promotion):  # second Concrete Strategy\n",
    "    \"\"\"10% discount for each LineItem with 20 or more units\"\"\"\n",
    "\n",
    "    def discount(self, order: Order) -> Decimal:\n",
    "        discount = Decimal(0)\n",
    "        for item in order.cart:\n",
    "            if item.quantity >= 20:\n",
    "                discount += item.total() * Decimal('0.1')\n",
    "        return discount\n",
    "\n",
    "\n",
    "class LargeOrderPromo(Promotion):  # third Concrete Strategy\n",
    "    \"\"\"7% discount for orders with 10 or more distinct items\"\"\"\n",
    "\n",
    "    def discount(self, order: Order) -> Decimal:\n",
    "        distinct_items = {item.product for item in order.cart}\n",
    "        if len(distinct_items) >= 10:\n",
    "            return order.total() * Decimal('0.07')\n",
    "        return Decimal(0)"
   ]
  },
  {
   "cell_type": "code",
   "execution_count": 2,
   "outputs": [
    {
     "data": {
      "text/plain": "<Order total: 42.00 due: 42.00>"
     },
     "execution_count": 2,
     "metadata": {},
     "output_type": "execute_result"
    }
   ],
   "source": [
    "joe = Customer('John Doe', 0)\n",
    "ann = Customer('Ann Smith', 1100)\n",
    "\n",
    "cart = (LineItem('banana', 4, Decimal('.5')),\n",
    "        LineItem('apple', 10, Decimal('1.5')),\n",
    "        LineItem('watermelon', 5, Decimal(5)))\n",
    "\n",
    "Order(joe, cart, FidelityPromo())"
   ],
   "metadata": {
    "collapsed": false,
    "pycharm": {
     "name": "#%%\n"
    }
   }
  },
  {
   "cell_type": "code",
   "execution_count": 3,
   "outputs": [
    {
     "data": {
      "text/plain": "<Order total: 42.00 due: 39.90>"
     },
     "execution_count": 3,
     "metadata": {},
     "output_type": "execute_result"
    }
   ],
   "source": [
    "Order(ann, cart, FidelityPromo())"
   ],
   "metadata": {
    "collapsed": false,
    "pycharm": {
     "name": "#%%\n"
    }
   }
  },
  {
   "cell_type": "code",
   "execution_count": 4,
   "outputs": [
    {
     "data": {
      "text/plain": "<Order total: 30.00 due: 28.50>"
     },
     "execution_count": 4,
     "metadata": {},
     "output_type": "execute_result"
    }
   ],
   "source": [
    "banana_cart = (LineItem('banana', 30, Decimal('.5')),\n",
    "               LineItem('apple', 10, Decimal('1.5')))\n",
    "\n",
    "Order(joe, banana_cart, BulkItemPromo())"
   ],
   "metadata": {
    "collapsed": false,
    "pycharm": {
     "name": "#%%\n"
    }
   }
  },
  {
   "cell_type": "code",
   "execution_count": 5,
   "outputs": [
    {
     "data": {
      "text/plain": "(LineItem(product='0', quantity=1, price=Decimal('1')),\n LineItem(product='1', quantity=1, price=Decimal('1')),\n LineItem(product='2', quantity=1, price=Decimal('1')),\n LineItem(product='3', quantity=1, price=Decimal('1')),\n LineItem(product='4', quantity=1, price=Decimal('1')),\n LineItem(product='5', quantity=1, price=Decimal('1')),\n LineItem(product='6', quantity=1, price=Decimal('1')),\n LineItem(product='7', quantity=1, price=Decimal('1')),\n LineItem(product='8', quantity=1, price=Decimal('1')),\n LineItem(product='9', quantity=1, price=Decimal('1')))"
     },
     "execution_count": 5,
     "metadata": {},
     "output_type": "execute_result"
    }
   ],
   "source": [
    "long_cart = tuple(LineItem(str(sku), 1, Decimal(1)) for sku in range(10))\n",
    "\n",
    "long_cart"
   ],
   "metadata": {
    "collapsed": false,
    "pycharm": {
     "name": "#%%\n"
    }
   }
  },
  {
   "cell_type": "code",
   "execution_count": 6,
   "outputs": [
    {
     "data": {
      "text/plain": "<Order total: 10.00 due: 9.30>"
     },
     "execution_count": 6,
     "metadata": {},
     "output_type": "execute_result"
    }
   ],
   "source": [
    "Order(joe, long_cart, LargeOrderPromo())"
   ],
   "metadata": {
    "collapsed": false,
    "pycharm": {
     "name": "#%%\n"
    }
   }
  },
  {
   "cell_type": "markdown",
   "source": [
    "Ví dụ 10-1 hoạt động hoàn hảo, nhưng chức năng tương tự có thể được triển khai với ít mã hơn trong Python bằng cách sử dụng functions as objects.\n",
    "\n",
    "### Function-Oriented Strategy"
   ],
   "metadata": {
    "collapsed": false,
    "pycharm": {
     "name": "#%% md\n"
    }
   }
  },
  {
   "cell_type": "markdown",
   "source": [
    "Each concrete strategy in Example 10-1 is a class with a single method + no state --> a lot like plain functions"
   ],
   "metadata": {
    "collapsed": false,
    "pycharm": {
     "name": "#%% md\n"
    }
   }
  },
  {
   "cell_type": "code",
   "execution_count": 7,
   "outputs": [],
   "source": [
    "# Example 10-3. Order class with discount strategies implemented as functions\n",
    "\n",
    "from collections.abc import Sequence\n",
    "from dataclasses import dataclass\n",
    "from decimal import Decimal\n",
    "from typing import Optional, Callable, NamedTuple\n",
    "\n",
    "\n",
    "class Customer(NamedTuple):\n",
    "    name: str\n",
    "    fidelity: int\n",
    "\n",
    "\n",
    "class LineItem(NamedTuple):\n",
    "    product: str\n",
    "    quantity: int\n",
    "    price: Decimal\n",
    "\n",
    "    def total(self):\n",
    "        return self.price * self.quantity\n",
    "\n",
    "\n",
    "@dataclass(frozen=True)\n",
    "class Order:  # the Context\n",
    "    customer: Customer\n",
    "    cart: Sequence[LineItem]\n",
    "    # This type hint says:\n",
    "    # promotion may be None, or it may be a callable that takes an Order argument and returns a Decimal.\n",
    "    promotion: Optional[Callable[['Order'], Decimal]] = None\n",
    "\n",
    "    def total(self) -> Decimal:\n",
    "        totals = (item.total() for item in self.cart)\n",
    "        return sum(totals, start=Decimal(0))\n",
    "\n",
    "    def due(self) -> Decimal:\n",
    "        if self.promotion is None:\n",
    "            discount = Decimal(0)\n",
    "        else:\n",
    "            discount = self.promotion(self)\n",
    "        return self.total() - discount\n",
    "\n",
    "    def __repr__(self):\n",
    "        return f'<Order total: {self.total():.2f} due: {self.due():.2f}>'\n",
    "\n",
    "# No abstract class\n",
    "\n",
    "def fidelity_promo(order: Order) -> Decimal:\n",
    "    \"\"\"5% discount for customers with 1000 or more fidelity points\"\"\"\n",
    "    if order.customer.fidelity >= 1000:\n",
    "        return order.total() * Decimal('0.05')\n",
    "    return Decimal(0)\n",
    "\n",
    "def bulk_item_promo(order: Order) -> Decimal:\n",
    "    \"\"\"10% discount for each LineItem with 20 or more units\"\"\"\n",
    "    discount = Decimal(0)\n",
    "    for item in order.cart:\n",
    "        if item.quantity >= 20:\n",
    "            discount += item.total() * Decimal('0.1')\n",
    "    return discount\n",
    "\n",
    "\n",
    "def large_order_promo(order: Order) -> Decimal:\n",
    "    \"\"\"7% discount for orders with 10 or more distinct items\"\"\"\n",
    "    distinct_items = {item.product for item in order.cart}\n",
    "    if len(distinct_items) >= 10:\n",
    "        return order.total() * Decimal('0.07')\n",
    "    return Decimal(0)"
   ],
   "metadata": {
    "collapsed": false,
    "pycharm": {
     "name": "#%%\n"
    }
   }
  },
  {
   "cell_type": "markdown",
   "source": [
    "WHY SELF.PROMOTION(SELF)?\n",
    "\n",
    "In the `Order` class, `promotion` is not a method. It’s an instance attribute that happens to be callable.\n",
    "- `self.promotion`, truy xuất giá trị có thể gọi đó\n",
    "- Để gọi nó, chúng ta phải cung cấp một thể hiện của `Order`, trong trường hợp này là `self`."
   ],
   "metadata": {
    "collapsed": false,
    "pycharm": {
     "name": "#%% md\n"
    }
   }
  },
  {
   "cell_type": "code",
   "execution_count": 8,
   "outputs": [
    {
     "data": {
      "text/plain": "<Order total: 42.00 due: 42.00>"
     },
     "execution_count": 8,
     "metadata": {},
     "output_type": "execute_result"
    }
   ],
   "source": [
    "Order(joe, cart, fidelity_promo)"
   ],
   "metadata": {
    "collapsed": false,
    "pycharm": {
     "name": "#%%\n"
    }
   }
  },
  {
   "cell_type": "code",
   "execution_count": 9,
   "outputs": [
    {
     "data": {
      "text/plain": "<Order total: 42.00 due: 39.90>"
     },
     "execution_count": 9,
     "metadata": {},
     "output_type": "execute_result"
    }
   ],
   "source": [
    "Order(ann, cart, fidelity_promo)"
   ],
   "metadata": {
    "collapsed": false,
    "pycharm": {
     "name": "#%%\n"
    }
   }
  },
  {
   "cell_type": "code",
   "execution_count": 10,
   "outputs": [
    {
     "data": {
      "text/plain": "<Order total: 10.00 due: 9.30>"
     },
     "execution_count": 10,
     "metadata": {},
     "output_type": "execute_result"
    }
   ],
   "source": [
    "Order(joe, long_cart, large_order_promo)"
   ],
   "metadata": {
    "collapsed": false,
    "pycharm": {
     "name": "#%%\n"
    }
   }
  },
  {
   "cell_type": "markdown",
   "source": [
    "--> “Strategy objects often make good flyweights.”\n",
    "(Flyweight là một đối tượng được chia sẻ có thể được sử dụng đồng thời trong nhiều ngữ cảnh.)\n",
    "\n",
    "VD: không cần tạo concrete strategy object mới với mỗi đơn đặt hàng mới\n",
    "\n",
    "--> \"Một nhược điểm của Strategy pattern—runtime cost\""
   ],
   "metadata": {
    "collapsed": false,
    "pycharm": {
     "name": "#%% md\n"
    }
   }
  },
  {
   "cell_type": "markdown",
   "source": [
    "Sẽ cần kết hợp Strategy và Flyweight design patterns với concrete strategies phức tạp (lưu state).\n",
    "\n",
    "Nhưng thông thường, concrete strategies ko có state, nó thường xử lý data từ context hơn.\n",
    "- dùng functions thay vì class (như ví dụ 10-3)\n",
    "- không cần Flyweight"
   ],
   "metadata": {
    "collapsed": false,
    "pycharm": {
     "name": "#%% md\n"
    }
   }
  },
  {
   "cell_type": "markdown",
   "source": [
    "Okay. Giờ thêm chức năng mới \"metastrategy\", chọn mức giảm giá tốt nhất cho 1 `Order`:\n",
    "- Tạo `best_promo` function: `Order(joe, long_cart, best_promo)`"
   ],
   "metadata": {
    "collapsed": false,
    "pycharm": {
     "name": "#%% md\n"
    }
   }
  },
  {
   "cell_type": "markdown",
   "source": [
    "### Choosing the Best Strategy: Simple Approach"
   ],
   "metadata": {
    "collapsed": false,
    "pycharm": {
     "name": "#%% md\n"
    }
   }
  },
  {
   "cell_type": "code",
   "execution_count": 11,
   "outputs": [
    {
     "data": {
      "text/plain": "<Order total: 10.00 due: 9.30>"
     },
     "execution_count": 11,
     "metadata": {},
     "output_type": "execute_result"
    }
   ],
   "source": [
    "# Example 10-6. best_promo finds the maximum discount iterating over a list of functions\n",
    "\n",
    "promos = [fidelity_promo, bulk_item_promo, large_order_promo]\n",
    "\n",
    "\n",
    "def best_promo(order: Order) -> Decimal:\n",
    "    \"\"\"Compute the best discount available\"\"\"\n",
    "    # Using a generator expression,\n",
    "    # we apply each of the functions from promos to the order,\n",
    "    # and return the maximum discount computed.\n",
    "    return max(promo(order) for promo in promos)\n",
    "\n",
    "Order(joe, long_cart, best_promo)"
   ],
   "metadata": {
    "collapsed": false,
    "pycharm": {
     "name": "#%%\n"
    }
   }
  },
  {
   "cell_type": "markdown",
   "source": [
    "Vấn đề: Mỗi lần có 1 promotion strategy mới, lại phải thêm vào promos list"
   ],
   "metadata": {
    "collapsed": false,
    "pycharm": {
     "name": "#%% md\n"
    }
   }
  },
  {
   "cell_type": "markdown",
   "source": [
    "### Finding Strategies in a Module\n",
    "\n",
    "Modules in Python are also first-class objects."
   ],
   "metadata": {
    "collapsed": false,
    "pycharm": {
     "name": "#%% md\n"
    }
   }
  },
  {
   "cell_type": "code",
   "execution_count": 16,
   "outputs": [
    {
     "data": {
      "text/plain": "<Order total: 10.00 due: 9.30>"
     },
     "execution_count": 16,
     "metadata": {},
     "output_type": "execute_result"
    }
   ],
   "source": [
    "# Example 10-7. The promos list is built by introspection (sự quan sát) of the module global namespace\n",
    "\n",
    "from decimal import Decimal\n",
    "from strategy import Order\n",
    "\n",
    "# Import the promotion functions\n",
    "# so they are available in the global namespace\n",
    "from strategy import (\n",
    "    fidelity_promo, bulk_item_promo, large_order_promo\n",
    ")\n",
    "\n",
    "# filter out best_promo itself,\n",
    "# to avoid an infinite recursion when best_promo is called.\n",
    "promos = [promo for name, promo in globals().items()\n",
    "                if name.endswith('_promo') and\n",
    "                name != 'best_promo'\n",
    "]\n",
    "\n",
    "\n",
    "def best_promo1(order: Order) -> Decimal:\n",
    "    \"\"\"Compute the best discount available\"\"\"\n",
    "    return max(promo(order) for promo in promos)\n",
    "\n",
    "Order(joe, long_cart, best_promo)"
   ],
   "metadata": {
    "collapsed": false,
    "pycharm": {
     "name": "#%%\n"
    }
   }
  },
  {
   "cell_type": "code",
   "execution_count": 17,
   "outputs": [
    {
     "data": {
      "text/plain": "<Order total: 10.00 due: 9.30>"
     },
     "execution_count": 17,
     "metadata": {},
     "output_type": "execute_result"
    }
   ],
   "source": [
    "# Example 10-8. The promos list is built by introspection of a new promotions module\n",
    "\n",
    "from decimal import Decimal\n",
    "import inspect\n",
    "\n",
    "from strategy import Order\n",
    "import promotions\n",
    "\n",
    "\n",
    "promos = [func for _, func in inspect.getmembers(promotions, inspect.isfunction)]\n",
    "\n",
    "\n",
    "def best_promo(order: Order) -> Decimal:\n",
    "    \"\"\"Compute the best discount available\"\"\"\n",
    "    return max(promo(order) for promo in promos)\n",
    "\n",
    "Order(joe, long_cart, best_promo)"
   ],
   "metadata": {
    "collapsed": false,
    "pycharm": {
     "name": "#%%\n"
    }
   }
  },
  {
   "cell_type": "markdown",
   "source": [
    "Phần sau chỉ cách để filter func rõ ràng và chính xác hơn bằng cách sử dụng `deco`"
   ],
   "metadata": {
    "collapsed": false,
    "pycharm": {
     "name": "#%% md\n"
    }
   }
  },
  {
   "cell_type": "markdown",
   "source": [
    "## Decorator-Enhanced Strategy Pattern\n",
    "\n",
    "Vấn đề là ở Ví dụ 10.6 , khi thêm 1 promotional strategy mới, quên add và list promos\n",
    "- Ví dụ 10-9 giải quyết vấn đề này bằng kỹ thuật có trong \"Registration Decorators\".\n"
   ],
   "metadata": {
    "collapsed": false,
    "pycharm": {
     "name": "#%% md\n"
    }
   }
  },
  {
   "cell_type": "code",
   "execution_count": 18,
   "outputs": [
    {
     "data": {
      "text/plain": "[<function __main__.fidelity(order: strategy.Order) -> decimal.Decimal>,\n <function __main__.bulk_item(order: strategy.Order) -> decimal.Decimal>,\n <function __main__.large_order(order: strategy.Order) -> decimal.Decimal>]"
     },
     "execution_count": 18,
     "metadata": {},
     "output_type": "execute_result"
    }
   ],
   "source": [
    "# Example 10-9. The promos list is filled by the Promotion decorator\n",
    "\n",
    "Promotion = Callable[[Order], Decimal]\n",
    "\n",
    "promos: list[Promotion] = []\n",
    "\n",
    "def promotion(promo: Promotion) -> Promotion:\n",
    "    promos.append(promo)\n",
    "    return promo\n",
    "\n",
    "\n",
    "def best_promo(order: Order) -> Decimal:\n",
    "    \"\"\"Compute the best discount available\"\"\"\n",
    "    return max(promo(order) for promo in promos)\n",
    "\n",
    "@promotion\n",
    "def fidelity(order: Order) -> Decimal:\n",
    "    \"\"\"5% discount for customers with 1000 or more fidelity points\"\"\"\n",
    "    if order.customer.fidelity >= 1000:\n",
    "        return order.total() * Decimal('0.05')\n",
    "    return Decimal(0)\n",
    "\n",
    "\n",
    "@promotion\n",
    "def bulk_item(order: Order) -> Decimal:\n",
    "    \"\"\"10% discount for each LineItem with 20 or more units\"\"\"\n",
    "    discount = Decimal(0)\n",
    "    for item in order.cart:\n",
    "        if item.quantity >= 20:\n",
    "            discount += item.total() * Decimal('0.1')\n",
    "    return discount\n",
    "\n",
    "\n",
    "@promotion\n",
    "def large_order(order: Order) -> Decimal:\n",
    "    \"\"\"7% discount for orders with 10 or more distinct items\"\"\"\n",
    "    distinct_items = {item.product for item in order.cart}\n",
    "    if len(distinct_items) >= 10:\n",
    "        return order.total() * Decimal('0.07')\n",
    "    return Decimal(0)\n",
    "\n",
    "promos"
   ],
   "metadata": {
    "collapsed": false,
    "pycharm": {
     "name": "#%%\n"
    }
   }
  },
  {
   "cell_type": "markdown",
   "source": [
    "## The Command Pattern\n",
    "\n",
    "Command, một mẫu design pattern khác, mà có thể được đơn giản hóa bằng cách sử dụng các hàm được truyền dưới dạng đối số\n",
    "\n",
    "Hình 10-2: Sắp xếp các class trong Command pattern\n",
    "- Cho menu-driven text editor\n",
    "- Mỗi command có thể có receiver khác nhau:\n",
    "    - `PasteCommand`, receiver là Document\n",
    "    - `OpenCommand`, receiver là Application\n",
    "\n",
    "\n",
    "![img.png](image/10-2.png)"
   ],
   "metadata": {
    "collapsed": false,
    "pycharm": {
     "name": "#%% md\n"
    }
   }
  },
  {
   "cell_type": "markdown",
   "source": [
    "Mục tiêu của Command\n",
    "- Tách invoker (1 object gọi 1 operation) với receiver (object thực hiện)\n",
    "    - Ở ví dụ:\n",
    "        - Mỗi invoker là là một mục menu trong ứng dụng đồ họa\n",
    "        - Mỗi receiver là Docmument/Application\n",
    "- Ideal: Put Command object ở giữa\n",
    "    - Implement 1 interface với 1 method duy nhất\n",
    "        - invoker ko cần biết interface của receiver\n",
    "        - receiver có thể được dùng qua các Command subclasses khác nhau\n",
    "- “Commands are an object-oriented replacement for callbacks.” (not always)"
   ],
   "metadata": {
    "collapsed": false,
    "pycharm": {
     "name": "#%% md\n"
    }
   }
  },
  {
   "cell_type": "markdown",
   "source": [
    "Như Strategy pattern ở phần trước:\n",
    "- Thay vì tạo 1 Command instance -> dùng 1 function\n",
    "- Thay vì gọi `command.execute()` -> dùng `command()` via `__call__` method."
   ],
   "metadata": {
    "collapsed": false,
    "pycharm": {
     "name": "#%% md\n"
    }
   }
  },
  {
   "cell_type": "code",
   "execution_count": 20,
   "outputs": [],
   "source": [
    "# Example 10-10. Each instance of MacroCommand has an internal list of commands\n",
    "\n",
    "class MacroCommand:\n",
    "    \"\"\"A command that executes a list of commands\"\"\"\n",
    "\n",
    "    # m = MacroCommand()\n",
    "    def __init__(self, commands):\n",
    "        self.commands = list(commands)\n",
    "\n",
    "    # m()\n",
    "    def __call__(self):\n",
    "        for command in self.commands:\n",
    "            command()"
   ],
   "metadata": {
    "collapsed": false,
    "pycharm": {
     "name": "#%%\n"
    }
   }
  },
  {
   "cell_type": "markdown",
   "source": [
    "More advanced uses of the Command pattern—to support undo\n",
    "\n",
    "After all, every Python callable implements a single-method interface, and that method is named `__call__`."
   ],
   "metadata": {
    "collapsed": false,
    "pycharm": {
     "name": "#%% md\n"
    }
   }
  },
  {
   "cell_type": "markdown",
   "source": [
    "# Chapter Summary\n",
    "\n",
    "- 16 trong số 23 mẫu có cách triển khai trong Lisp hoặc Dylan (Dynamic Languages) đơn giản hơn về mặt chất lượng so với trong C++. (trang 9 https://fpy.li/10-4)\n",
    "- Sử dụng Strategy pattern là 1 starting point\n",
    "    - Giải pháp thêm vào là first-class functions.\n",
    "- Funcs và callable objects cung cấp một cách tự nhiên hơn để implement callbacks (trong Python) hơn là dùng Strategy/Command patterns.\n",
    "    - Tái cấu trúc Strategy / thảo luận Command ở trên là 1 ví dụ tổng quát khi cần:\n",
    "        - Có yêu cầu viết design pattern/API mà implement 1 interface với single method và method đó rất chung chung (VD: “execute,” “run,” “do_it.”)\n",
    "                - Tốn ít code hơn với việc sử dụng  functions as first-class objects."
   ],
   "metadata": {
    "collapsed": false,
    "pycharm": {
     "name": "#%% md\n"
    }
   }
  }
 ],
 "metadata": {
  "kernelspec": {
   "display_name": "Python 3",
   "language": "python",
   "name": "python3"
  },
  "language_info": {
   "codemirror_mode": {
    "name": "ipython",
    "version": 2
   },
   "file_extension": ".py",
   "mimetype": "text/x-python",
   "name": "python",
   "nbconvert_exporter": "python",
   "pygments_lexer": "ipython2",
   "version": "2.7.6"
  }
 },
 "nbformat": 4,
 "nbformat_minor": 0
}
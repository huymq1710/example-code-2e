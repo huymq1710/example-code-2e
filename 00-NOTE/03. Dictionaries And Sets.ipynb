{
 "cells": [
  {
   "cell_type": "markdown",
   "source": [
    "## Variations of dict (Một vài biến thể của dict)"
   ],
   "metadata": {
    "collapsed": false,
    "pycharm": {
     "name": "#%% md\n"
    }
   }
  },
  {
   "cell_type": "markdown",
   "source": [
    "An overview of mapping types included in the standard library, besides `defaultdict`\n",
    "\n",
    "### 1. collections.OrderedDict\n",
    "\n",
    "The most common reason to use OrderedDict is writing code that is backward compatible (tương thích ngược) with earlier Python versions\n",
    "\n",
    "### 2. collections.ChainMap\n",
    "\n",
    "A ChainMap instance: holds a list of mappings that can be searched as one."
   ],
   "metadata": {
    "collapsed": false,
    "pycharm": {
     "name": "#%% md\n"
    }
   }
  },
  {
   "cell_type": "code",
   "execution_count": 4,
   "outputs": [
    {
     "name": "stdout",
     "output_type": "stream",
     "text": [
      "1\n",
      "{'a': 1, 'b': 3, 'c': -1}\n",
      "{'a': 2, 'b': 4, 'c': 6}\n"
     ]
    }
   ],
   "source": [
    "# The search is performed on each input mapping in the order and succeeds as soon as the key is found\n",
    "\n",
    "d1 = dict(a=1, b=3)\n",
    "d2 = dict(a=2, b=4, c=6)\n",
    "from collections import ChainMap\n",
    "chain = ChainMap(d1, d2)\n",
    "print(chain['a'])\n",
    "\n",
    "# The ChainMap instance does not copy the input mappings, but holds references to them.\n",
    "# Updates or insertions to a ChainMap only affect the first input mapping.\n",
    "chain['c'] = -1\n",
    "print(d1)\n",
    "print(d2)"
   ],
   "metadata": {
    "collapsed": false,
    "pycharm": {
     "name": "#%%\n"
    }
   }
  },
  {
   "cell_type": "markdown",
   "source": [
    "ChainMap rất hữu ích để triển khai trình thông dịch cho các ngôn ngữ có phạm vi lồng nhau, trong đó mỗi mapping biểu thị một scope contex, từ phạm vi bao quanh trong cùng đến phạm vi ngoài cùng."
   ],
   "metadata": {
    "collapsed": false,
    "pycharm": {
     "name": "#%% md\n"
    }
   }
  },
  {
   "cell_type": "code",
   "execution_count": 5,
   "outputs": [],
   "source": [
    "import builtins\n",
    "pylookup = ChainMap(locals(), globals(), vars(builtins))"
   ],
   "metadata": {
    "collapsed": false,
    "pycharm": {
     "name": "#%%\n"
    }
   }
  },
  {
   "cell_type": "markdown",
   "source": [
    "### 3. collections.Counter\n",
    "\n",
    "A mapping that holds an integer count for each key. Updating an existing key adds to its count.\n",
    "This can be used to *count instances of hashable objects or as a multiset* (discussed later in this section)."
   ],
   "metadata": {
    "collapsed": false,
    "pycharm": {
     "name": "#%% md\n"
    }
   }
  },
  {
   "cell_type": "code",
   "execution_count": 6,
   "outputs": [
    {
     "name": "stdout",
     "output_type": "stream",
     "text": [
      "Counter({'a': 5, 'b': 2, 'r': 2, 'c': 1, 'd': 1})\n",
      "Counter({'a': 10, 'z': 3, 'b': 2, 'r': 2, 'c': 1, 'd': 1})\n"
     ]
    },
    {
     "data": {
      "text/plain": "[('a', 10), ('z', 3), ('b', 2)]"
     },
     "execution_count": 6,
     "metadata": {},
     "output_type": "execute_result"
    }
   ],
   "source": [
    "from collections import Counter\n",
    "ct = Counter('abracadabra')\n",
    "print(ct)\n",
    "\n",
    "ct.update('aaaaazzz')\n",
    "print(ct)\n",
    "ct.most_common(3)"
   ],
   "metadata": {
    "collapsed": false,
    "pycharm": {
     "name": "#%%\n"
    }
   }
  },
  {
   "cell_type": "markdown",
   "source": [
    "### 4. shelve.Shelf\n",
    "Provides persistent (lien tuc) storage for a mapping of string keys to Python objects serialized in the `pickle` binary format\n",
    "\n",
    "*WARNING*\n",
    "Python’s `pickle` is easy to use in the simplest cases, but has several drawbacks. Read Ned Batchelder’s “Pickle’s nine flaws” (https://nedbatchelder.com/blog/202006/pickles_nine_flaws.html) before adopting any solution involving `pickle`. In his post, Ned mentions other serialization formats to consider.\n",
    "\n",
    "`OrderedDict`, `ChainMap`, `Counter`, and `Shelf` are ready to use but can also be customized by subclassing. In contrast, `UserDict` is intended only as a base class to be extended.\n",
    "\n",
    "### 5. Subclassing UserDict Instead of dict\n",
    "Lý do chính mà dùng `UserDict` thay vì `dict` là vì tích hợp sẵn có một số implementation shortcuts buộc chúng ta phải ghi đè các phương thức mà chúng ta có thể kế thừa từ `UserDict` mà không gặp vấn đề gì.\n",
    "\n",
    "Lưu ý rằng `UserDic`t không kế thừa từ `dict`, nhưng sử dụng thành phần: nó có một `internal dict instance`, called `data`, chứa các actual items"
   ],
   "metadata": {
    "collapsed": false,
    "pycharm": {
     "name": "#%% md\n"
    }
   }
  },
  {
   "cell_type": "code",
   "execution_count": 7,
   "outputs": [],
   "source": [
    "# StrKeyDict always converts nonstring keys to str on insertion, update, and lookup\n",
    "import collections\n",
    "\n",
    "\n",
    "class StrKeyDict(collections.UserDict): # StrKeyDict extends UserDict\n",
    "\n",
    "    def __missing__(self, key):\n",
    "        if isinstance(key, str):\n",
    "            raise KeyError(key)\n",
    "        return self[str(key)]\n",
    "\n",
    "    def __contains__(self, key):         # __contains__ is simpler: we can assume all stored keys are str, and we can check on self.data instead of invoking self.keys() as we did in StrKeyDict0\n",
    "        return str(key) in self.data\n",
    "\n",
    "    def __setitem__(self, key, item):    # __setitem__ converts any key to a str. This method is easier to overwrite when we can delegate to the self.data attribute.\n",
    "        self.data[str(key)] = item"
   ],
   "metadata": {
    "collapsed": false,
    "pycharm": {
     "name": "#%%\n"
    }
   }
  },
  {
   "cell_type": "markdown",
   "source": [
    "Because `UserDict` extends `abc.MutableMapping`, the remaining methods that make `StrKeyDict` a full-fledged (đầy đủ) mapping are inherited from `UserDict`, `MutableMapping`, or `Mapping`\n",
    "--> Have several useful concrete (cụ thể) methods\n",
    "  - `MutableMapping.update`\n",
    "  - `Mapping.get`"
   ],
   "metadata": {
    "collapsed": false,
    "pycharm": {
     "name": "#%% md\n"
    }
   }
  },
  {
   "cell_type": "markdown",
   "source": [
    "We know there are immutable sequence types, but how about an immutable mapping? Well, there isn’t a real one in the standard library, but a stand-in is available."
   ],
   "metadata": {
    "collapsed": false,
    "pycharm": {
     "name": "#%% md\n"
    }
   }
  },
  {
   "cell_type": "markdown",
   "source": [
    "## Immutable Mappings"
   ],
   "metadata": {
    "collapsed": false,
    "pycharm": {
     "name": "#%% md\n"
    }
   }
  },
  {
   "cell_type": "markdown",
   "source": [
    "The mapping types provided by the standard library are all mutable, but you may need to prevent users from changing a mapping\n",
    "\n",
    "--> The `types` module provides a wrapper(bọc) class called `MappingProxyType`, which, given a mapping, returns a `mappingproxy` instance that is a _read-only_ but dynamic proxy for the original mapping. This mean, `updates` to the original mapping can be seen in the mappingproxy, but changes cannot be made through it.\n",
    "\n",
    "Ví dụ thực tế: Hàm tạo trong một subclass `Board` sẽ fill một private mapping với pin object, và hiển thị nó cho API clientsthông qua thuộc tính `.pins` công khai được triển khai dưới dạng `mappingproxy` --> clients ko thể thêm hay xoá.\n",
    "\n"
   ],
   "metadata": {
    "collapsed": false,
    "pycharm": {
     "name": "#%% md\n"
    }
   }
  },
  {
   "cell_type": "code",
   "execution_count": 8,
   "outputs": [
    {
     "ename": "TypeError",
     "evalue": "'mappingproxy' object does not support item assignment",
     "output_type": "error",
     "traceback": [
      "\u001B[0;31m---------------------------------------------------------------------------\u001B[0m",
      "\u001B[0;31mTypeError\u001B[0m                                 Traceback (most recent call last)",
      "Cell \u001B[0;32mIn[8], line 7\u001B[0m\n\u001B[1;32m      4\u001B[0m d \u001B[38;5;241m=\u001B[39m {\u001B[38;5;241m1\u001B[39m: \u001B[38;5;124m'\u001B[39m\u001B[38;5;124mA\u001B[39m\u001B[38;5;124m'\u001B[39m}\n\u001B[1;32m      5\u001B[0m d_proxy \u001B[38;5;241m=\u001B[39m MappingProxyType(d)\n\u001B[0;32m----> 7\u001B[0m d_proxy[\u001B[38;5;241m2\u001B[39m] \u001B[38;5;241m=\u001B[39m \u001B[38;5;124m'\u001B[39m\u001B[38;5;124mx\u001B[39m\u001B[38;5;124m'\u001B[39m\n",
      "\u001B[0;31mTypeError\u001B[0m: 'mappingproxy' object does not support item assignment"
     ]
    }
   ],
   "source": [
    "# Example 3-10. MappingProxyType builds a read-only mappingproxy instance from a dict\n",
    "\n",
    "from types import MappingProxyType\n",
    "d = {1: 'A'}\n",
    "d_proxy = MappingProxyType(d)\n",
    "\n",
    "d_proxy[2] = 'x' # Update ?"
   ],
   "metadata": {
    "collapsed": false,
    "pycharm": {
     "name": "#%%\n"
    }
   }
  },
  {
   "cell_type": "code",
   "execution_count": 9,
   "outputs": [
    {
     "data": {
      "text/plain": "mappingproxy({1: 'A', 2: 'B'})"
     },
     "execution_count": 9,
     "metadata": {},
     "output_type": "execute_result"
    }
   ],
   "source": [
    "d[2] = 'B' # Update\n",
    "d_proxy"
   ],
   "metadata": {
    "collapsed": false,
    "pycharm": {
     "name": "#%%\n"
    }
   }
  },
  {
   "cell_type": "markdown",
   "source": [
    "## Dictionary Views\n",
    "\n",
    "allow high-performance operations on a dict, without unnecessary copying of data."
   ],
   "metadata": {
    "collapsed": false,
    "pycharm": {
     "name": "#%% md\n"
    }
   }
  },
  {
   "cell_type": "markdown",
   "source": [
    "The dict instance methods `.keys()`, `.values()`, and `.items()` return instances of classes called `dict_keys`, `dict_values`, and `dict_items`\n",
    "\n",
    "These _dictionary views_ are read-only projections (phép chiếu) of the internal data structures used in the dict implementation --> avoid the memory overhead of the equivalent Python 2 methods that returned lists duplicating data"
   ],
   "metadata": {
    "collapsed": false,
    "pycharm": {
     "name": "#%% md\n"
    }
   }
  },
  {
   "cell_type": "code",
   "execution_count": 13,
   "outputs": [
    {
     "data": {
      "text/plain": "dict_values([10, 20, 30])"
     },
     "execution_count": 13,
     "metadata": {},
     "output_type": "execute_result"
    }
   ],
   "source": [
    "# Example 3-11. The .values() method returns a view of the values in a dict\n",
    "\n",
    "d = dict(a=10, b=20, c=30)\n",
    "values = d.values()\n",
    "values"
   ],
   "metadata": {
    "collapsed": false,
    "pycharm": {
     "name": "#%%\n"
    }
   }
  },
  {
   "cell_type": "code",
   "execution_count": 14,
   "outputs": [
    {
     "name": "stdout",
     "output_type": "stream",
     "text": [
      "3\n"
     ]
    }
   ],
   "source": [
    "print(len(values))"
   ],
   "metadata": {
    "collapsed": false,
    "pycharm": {
     "name": "#%%\n"
    }
   }
  },
  {
   "cell_type": "code",
   "execution_count": 15,
   "outputs": [
    {
     "data": {
      "text/plain": "[10, 20, 30]"
     },
     "execution_count": 15,
     "metadata": {},
     "output_type": "execute_result"
    }
   ],
   "source": [
    "# Views are iterable, so it’s easy to create lists from them\n",
    "list(values)"
   ],
   "metadata": {
    "collapsed": false,
    "pycharm": {
     "name": "#%%\n"
    }
   }
  },
  {
   "cell_type": "code",
   "execution_count": 16,
   "outputs": [
    {
     "data": {
      "text/plain": "<dict_reversevalueiterator at 0x7f9eb06a0040>"
     },
     "execution_count": 16,
     "metadata": {},
     "output_type": "execute_result"
    }
   ],
   "source": [
    "# Views implement __reversed__, returning a custom iterator.\n",
    "reversed(values)"
   ],
   "metadata": {
    "collapsed": false,
    "pycharm": {
     "name": "#%%\n"
    }
   }
  },
  {
   "cell_type": "code",
   "execution_count": 17,
   "outputs": [
    {
     "ename": "TypeError",
     "evalue": "'dict_values' object is not subscriptable",
     "output_type": "error",
     "traceback": [
      "\u001B[0;31m---------------------------------------------------------------------------\u001B[0m",
      "\u001B[0;31mTypeError\u001B[0m                                 Traceback (most recent call last)",
      "Cell \u001B[0;32mIn[17], line 1\u001B[0m\n\u001B[0;32m----> 1\u001B[0m \u001B[43mvalues\u001B[49m\u001B[43m[\u001B[49m\u001B[38;5;241;43m0\u001B[39;49m\u001B[43m]\u001B[49m\n",
      "\u001B[0;31mTypeError\u001B[0m: 'dict_values' object is not subscriptable"
     ]
    }
   ],
   "source": [
    "# We can’t use [] to get individual items from a view.\n",
    "values[0]"
   ],
   "metadata": {
    "collapsed": false,
    "pycharm": {
     "name": "#%%\n"
    }
   }
  },
  {
   "cell_type": "code",
   "execution_count": 18,
   "outputs": [
    {
     "data": {
      "text/plain": "dict_values([10, 20, 30, 99])"
     },
     "execution_count": 18,
     "metadata": {},
     "output_type": "execute_result"
    }
   ],
   "source": [
    "# A view object is a dynamic proxy. If the source dict is updated, you can immediately see the changes through an existing view.\n",
    "d['z'] = 99\n",
    "values"
   ],
   "metadata": {
    "collapsed": false,
    "pycharm": {
     "name": "#%%\n"
    }
   }
  },
  {
   "cell_type": "markdown",
   "source": [
    "## Practical Consequences of How dict Works"
   ],
   "metadata": {
    "collapsed": false,
    "pycharm": {
     "name": "#%% md\n"
    }
   }
  },
  {
   "cell_type": "markdown",
   "source": [
    "The hash table implementation of Python’s `dict` is very efficient, but it’s important to understand the practical effects of this design:\n",
    "- Keys must be hashable objects.\n",
    "- Item access by key is very fast, by computing the hash code of the key and deriving an index offset\n",
    "- Key ordering is preserved (được bảo vệ)\n",
    "- Although its new compact layout, dicts inevitably have a significant memory overhead.\n",
    "- To save memory, avoid creating instance attributes outside of the `__init__` method."
   ],
   "metadata": {
    "collapsed": false,
    "pycharm": {
     "name": "#%% md\n"
    }
   }
  },
  {
   "cell_type": "markdown",
   "source": [
    "## Set Theory\n",
    "\n",
    "NOTE\n",
    "In this book, I use the word “set” to refer both to `set` and `frozenset`. When talking specifically about the `set` class, I use constant width font: `set`.\n",
    "\n",
    "A set is a collection of unique objects."
   ],
   "metadata": {
    "collapsed": false,
    "pycharm": {
     "name": "#%% md\n"
    }
   }
  },
  {
   "cell_type": "code",
   "execution_count": 19,
   "outputs": [
    {
     "data": {
      "text/plain": "{'bacon', 'eggs', 'spam'}"
     },
     "execution_count": 19,
     "metadata": {},
     "output_type": "execute_result"
    }
   ],
   "source": [
    "l = ['spam', 'spam', 'eggs', 'spam', 'bacon', 'eggs']\n",
    "set(l)"
   ],
   "metadata": {
    "collapsed": false,
    "pycharm": {
     "name": "#%%\n"
    }
   }
  },
  {
   "cell_type": "code",
   "execution_count": 20,
   "outputs": [
    {
     "data": {
      "text/plain": "['spam', 'eggs', 'bacon']"
     },
     "execution_count": 20,
     "metadata": {},
     "output_type": "execute_result"
    }
   ],
   "source": [
    "# If you want to remove duplicates but also preserve the order of the first occurrence\n",
    "dict.fromkeys(l).keys()\n",
    "list(dict.fromkeys(l).keys())"
   ],
   "metadata": {
    "collapsed": false,
    "pycharm": {
     "name": "#%%\n"
    }
   }
  },
  {
   "cell_type": "markdown",
   "source": [
    "Set elements must be hashable.\n",
    "\n",
    "The `set` type is not hashable, so you can’t build a `set` with nested `set` instances.\n",
    "\n",
    "But `frozenset` is hashable, so you can have `frozenset` elements inside a `set`."
   ],
   "metadata": {
    "collapsed": false,
    "pycharm": {
     "name": "#%% md\n"
    }
   }
  },
  {
   "cell_type": "markdown",
   "source": [
    "Sử dụng Set thông minh có thể giảm lượng code và chaỵ nhanh hơn.\n",
    "a | b returns their union,\n",
    "a & b computes the intersection,\n",
    "a - b the difference,\n",
    "a ^ b the symmetric difference\n",
    "\n",
    "VD: Have a large set of email addresses (the haystack) and a smaller set of addresses (the needles)\n",
    "Need to count how many needles occur in the haystack ? --> Use `&`\n",
    "\n",
    "`found = len(needles & haystack)` --> need set object\n",
    "\n",
    "\n",
    "```\n",
    "found = len(set(needles) & set(haystack))\n",
    "\n",
    "# another way:\n",
    "found = len(set(needles).intersection(haystack))\n",
    "```\n",
    "\n",
    "=\n",
    "\n",
    "```\n",
    "found = 0\n",
    "for n in needles:\n",
    "    if n in haystack:\n",
    "        found += 1\n",
    "```\n",
    "\n",
    "### 1. Set Literals\n",
    "The syntax of `set` literals—`{1}`, `{1, 2}`\n",
    "To create an empty `set`, you should use the constructor without an argument: `set()`. If you write `{}`, you’re creating an empty `dict`"
   ],
   "metadata": {
    "collapsed": false,
    "pycharm": {
     "name": "#%% md\n"
    }
   }
  },
  {
   "cell_type": "code",
   "execution_count": 21,
   "outputs": [
    {
     "data": {
      "text/plain": "set"
     },
     "execution_count": 21,
     "metadata": {},
     "output_type": "execute_result"
    }
   ],
   "source": [
    "s = {1}\n",
    "type(s)"
   ],
   "metadata": {
    "collapsed": false,
    "pycharm": {
     "name": "#%%\n"
    }
   }
  },
  {
   "cell_type": "code",
   "execution_count": 22,
   "outputs": [
    {
     "data": {
      "text/plain": "dict"
     },
     "execution_count": 22,
     "metadata": {},
     "output_type": "execute_result"
    }
   ],
   "source": [
    "s = {}\n",
    "type(s)"
   ],
   "metadata": {
    "collapsed": false,
    "pycharm": {
     "name": "#%%\n"
    }
   }
  },
  {
   "cell_type": "markdown",
   "source": [
    "Literal set syntax like `{1, 2, 3}` is both faster and more readable than calling the constructor (e.g., `set([1, 2, 3])`)"
   ],
   "metadata": {
    "collapsed": false,
    "pycharm": {
     "name": "#%% md\n"
    }
   }
  },
  {
   "cell_type": "code",
   "execution_count": 23,
   "outputs": [
    {
     "data": {
      "text/plain": "frozenset({0, 1, 2, 3, 4, 5, 6, 7, 8, 9})"
     },
     "execution_count": 23,
     "metadata": {},
     "output_type": "execute_result"
    }
   ],
   "source": [
    "frozenset(range(10)) # frozenset must be created by calling the constructor."
   ],
   "metadata": {
    "collapsed": false,
    "pycharm": {
     "name": "#%%\n"
    }
   }
  },
  {
   "cell_type": "markdown",
   "source": [
    "Speaking of syntax, the idea of listcomps was adapted to build sets as well."
   ],
   "metadata": {
    "collapsed": false,
    "pycharm": {
     "name": "#%% md\n"
    }
   }
  },
  {
   "cell_type": "markdown",
   "source": [
    "### 1.2. Set Comprehensions (bao quat)\n",
    "Set comprehensions (setcomps)"
   ],
   "metadata": {
    "collapsed": false,
    "pycharm": {
     "name": "#%% md\n"
    }
   }
  },
  {
   "cell_type": "code",
   "execution_count": 25,
   "outputs": [
    {
     "data": {
      "text/plain": "'DOLLAR SIGN'"
     },
     "execution_count": 25,
     "metadata": {},
     "output_type": "execute_result"
    }
   ],
   "source": [
    "from unicodedata import name\n",
    "name(chr(36),'')"
   ],
   "metadata": {
    "collapsed": false,
    "pycharm": {
     "name": "#%%\n"
    }
   }
  },
  {
   "cell_type": "code",
   "execution_count": 26,
   "outputs": [
    {
     "data": {
      "text/plain": "'$'"
     },
     "execution_count": 26,
     "metadata": {},
     "output_type": "execute_result"
    }
   ],
   "source": [
    "chr(36)"
   ],
   "metadata": {
    "collapsed": false,
    "pycharm": {
     "name": "#%%\n"
    }
   }
  },
  {
   "cell_type": "code",
   "execution_count": 29,
   "outputs": [
    {
     "data": {
      "text/plain": "{'#',\n '$',\n '%',\n '+',\n '<',\n '=',\n '>',\n '¢',\n '£',\n '¤',\n '¥',\n '§',\n '©',\n '¬',\n '®',\n '°',\n '±',\n 'µ',\n '¶',\n '×',\n '÷'}"
     },
     "execution_count": 29,
     "metadata": {},
     "output_type": "execute_result"
    }
   ],
   "source": [
    "# Example 3-15. Build a set of Latin-1 characters that have the word “SIGN” in their Unicode names\n",
    "{chr(i) for i in range(32, 256) if 'SIGN' in name(chr(i),'')}"
   ],
   "metadata": {
    "collapsed": false,
    "pycharm": {
     "name": "#%%\n"
    }
   }
  },
  {
   "cell_type": "markdown",
   "source": [
    "The order of the output changes for each Python process, because of the salted hash mentioned in “What Is Hashable”."
   ],
   "metadata": {
    "collapsed": false,
    "pycharm": {
     "name": "#%% md\n"
    }
   }
  },
  {
   "cell_type": "markdown",
   "source": [
    "## Practical Consequences of How Sets Work\n",
    "\n",
    "The `set` and `frozenset` types are both implemented with a hash table. This has these effects:\n",
    "- Set elements must be hashable objects. They must implement proper `__hash__` and `__eq__` methods as described in “What Is Hashable”.\n",
    "- Membership testing is very efficient: an element can be located directly by computing its hash code and deriving an index offset\n",
    "- Sets have a significant memory overhead\n",
    "- Element ordering depends on insertion order, but not in a useful or reliable way.\n",
    "- Adding elements to a set may change the order of existing elements. (when 2/3 fulls, resize the table)\n",
    "\n",
    "### 1. Set Operations\n",
    "\n",
    "Figure 3-2 gives an overview of the methods you can use on mutable and immutable sets. Note that some operators and methods perform in-place changes on the target set (e.g., &=, difference_update, etc.)\n",
    "\n",
    "![img.png](image/3-2.png)\n",
    "\n",
    "\n",
    "More about set's API: https://learning.oreilly.com/library/view/fluent-python-2nd/9781492056348/ch03.html#set_uml"
   ],
   "metadata": {
    "collapsed": false,
    "pycharm": {
     "name": "#%% md\n"
    }
   }
  },
  {
   "cell_type": "markdown",
   "source": [
    "## Set Operations on dict Views\n",
    "\n",
    "Table 3-5 (https://learning.oreilly.com/library/view/fluent-python-2nd/9781492056348/ch03.html#view_methods_tbl) shows that the view objects returned by the `dict` methods .keys() and .items() are remarkably similar to `frozenset`.\n",
    "\n",
    "In particular, `dict_keys` and `dict_items` implement the special methods to support the powerful set operators & (intersection), | (union), - (difference), and ^ (symmetric difference)."
   ],
   "metadata": {
    "collapsed": false,
    "pycharm": {
     "name": "#%% md\n"
    }
   }
  },
  {
   "cell_type": "code",
   "execution_count": 30,
   "outputs": [
    {
     "data": {
      "text/plain": "{'b', 'd'}"
     },
     "execution_count": 30,
     "metadata": {},
     "output_type": "execute_result"
    }
   ],
   "source": [
    "# using & is easy to get the keys that appear in two dictionaries\n",
    "d1 = dict(a=1, b=2, c=3, d=4)\n",
    "d2 = dict(b=20, d=40, e=50)\n",
    "d1.keys() & d2.keys() # return set"
   ],
   "metadata": {
    "collapsed": false,
    "pycharm": {
     "name": "#%%\n"
    }
   }
  },
  {
   "cell_type": "code",
   "execution_count": 31,
   "outputs": [
    {
     "name": "stdout",
     "output_type": "stream",
     "text": [
      "{'a'}\n",
      "{'e', 'i', 'c', 'd', 'b', 'a'}\n"
     ]
    }
   ],
   "source": [
    "# the set operators in dictionary views are compatible (tuong thich) with set instances.\n",
    "s = {'a', 'e', 'i'}\n",
    "print(d1.keys() & s)\n",
    "print(d1.keys() | s)"
   ],
   "metadata": {
    "collapsed": false,
    "pycharm": {
     "name": "#%%\n"
    }
   }
  },
  {
   "cell_type": "markdown",
   "source": [
    "WARNING\n",
    "A dict_items view only works as a set if all values in the dict are hashable."
   ],
   "metadata": {
    "collapsed": false,
    "pycharm": {
     "name": "#%% md\n"
    }
   }
  },
  {
   "cell_type": "markdown",
   "source": [
    "# Chapter Summary\n",
    "\n",
    "Dictionaries are a keystone of Python. Over the years, the familiar `{k1: v1, k2: v2}` literal syntax was enhanced to support unpacking with `**`, pattern matching, as well as `dict` comprehensions\n",
    "\n",
    "Beyond the basic `dict`, the standard library offers handy, ready-to-use specialized mappings like `defaultdict`, `ChainMap`, and `Counter`, all defined in the `collections` module. With the new dict implementation, `OrderedDict` is not as useful as before. Also in the collections module is the `UserDict`, an easy to use base class to create custom mappings\n",
    "\n",
    "Two powerful methods available in most mappings are `setdefault` and `update`\n",
    "- The `setdefault` method can update items holding mutable values—for example, in a `dict` of `list` values, avoiding a second search for the same key\n",
    "- The `update` method allows bulk insertion or overwriting of items. Since Python 3.9, we can also use the `|=` operator to update a mapping, and the `|` operator to create a new one from the union of two mappings\n",
    "\n",
    "The `__missing__` method, which lets you customize what happens when a key is not found when using the `d[k]` syntax that invokes `__getitem__`.\n",
    "\n",
    "The `collections.abc` module provides the `Mapping` and `MutableMapping` abstract base classes as standard interfaces, useful for runtime type checking. The `MappingProxyType` from the types module creates an immutable map, avoid users update. There are also ABCs for `Set` and `MutableSet`\n",
    "\n",
    "Dictionary views were a great addition in Python 3, eliminating the memory overhead of the Python 2 `.keys()`, `.values()`, and `.items()` methods. In addition, the `dict_keys` and `dict_items` classes support the most useful operators and methods of `frozenset`"
   ],
   "metadata": {
    "collapsed": false,
    "pycharm": {
     "name": "#%% md\n"
    }
   }
  }
 ],
 "metadata": {
  "kernelspec": {
   "display_name": "Python 3",
   "language": "python",
   "name": "python3"
  },
  "language_info": {
   "codemirror_mode": {
    "name": "ipython",
    "version": 2
   },
   "file_extension": ".py",
   "mimetype": "text/x-python",
   "name": "python",
   "nbconvert_exporter": "python",
   "pygments_lexer": "ipython2",
   "version": "2.7.6"
  }
 },
 "nbformat": 4,
 "nbformat_minor": 0
}
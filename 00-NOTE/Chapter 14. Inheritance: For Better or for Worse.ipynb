{
 "cells": [
  {
   "cell_type": "markdown",
   "source": [
    "# Chapter 14. Inheritance: For Better or for Worse"
   ],
   "metadata": {
    "collapsed": false,
    "pycharm": {
     "name": "#%% md\n"
    }
   }
  },
  {
   "cell_type": "markdown",
   "source": [
    "- The super() function\n",
    "\n",
    "- The pitfalls (cạm bẫy) of subclassing from built-in types\n",
    "\n",
    "- Multiple inheritance and method resolution order\n",
    "\n",
    "- Mix classes"
   ],
   "metadata": {
    "collapsed": false,
    "pycharm": {
     "name": "#%% md\n"
    }
   }
  },
  {
   "cell_type": "markdown",
   "source": [
    "(Multiple inheritance - chỉ ở C++ - được cho là trouble hơn là có ích)\n",
    "(Đồng thời nói về việc lạm dụng kế thừa --> 1 thay đổi nhỏ khiến hệ thống dễ vỡ + khó hiểu)"
   ],
   "metadata": {
    "collapsed": false,
    "pycharm": {
     "name": "#%% md\n"
    }
   }
  },
  {
   "cell_type": "markdown",
   "source": [
    "## The super() Function\n",
    "\n",
    "Khi một lớp con ghi đè một phương thức của một lớp cha, phương thức ghi đè thường cần gọi phương thức từ lớp cha\n",
    "\n",
    "```python\n",
    "class LastUpdatedOrderedDict(OrderedDict):\n",
    "    \"\"\"Store items in the order they were last updated\"\"\"\n",
    "\n",
    "    def __setitem__(self, key, value):\n",
    "        super().__setitem__(key, value)\n",
    "        # OrderedDict.__setitem__(self, key, value) ko đc recommend - khó maintain + ko giúp multiple inheritance\n",
    "        self.move_to_end(key)\n",
    "```\n",
    "\n"
   ],
   "metadata": {
    "collapsed": false,
    "pycharm": {
     "name": "#%% md\n"
    }
   }
  },
  {
   "cell_type": "markdown",
   "source": [
    "Gọi `__init__` bị ghi đè là đặc biệt quan trọng để cho phép lớp cha thực hiện phần của chúng trong việc khởi tạo.\n",
    "\n",
    "```python\n",
    "    def __init__(self, a, b) :\n",
    "        super().__init__(a, b) # (khác vs Java chỉ cần super() )\n",
    "        ...  # more initialization code\n",
    "```"
   ],
   "metadata": {
    "collapsed": false,
    "pycharm": {
     "name": "#%% md\n"
    }
   }
  },
  {
   "cell_type": "markdown",
   "source": [
    "## Subclassing Built-In Types Is Tricky"
   ],
   "metadata": {
    "collapsed": false,
    "pycharm": {
     "name": "#%% md\n"
    }
   }
  },
  {
   "cell_type": "code",
   "execution_count": null,
   "metadata": {
    "collapsed": true,
    "pycharm": {
     "name": "#%%\n"
    }
   },
   "outputs": [],
   "source": []
  }
 ],
 "metadata": {
  "kernelspec": {
   "display_name": "Python 3",
   "language": "python",
   "name": "python3"
  },
  "language_info": {
   "codemirror_mode": {
    "name": "ipython",
    "version": 2
   },
   "file_extension": ".py",
   "mimetype": "text/x-python",
   "name": "python",
   "nbconvert_exporter": "python",
   "pygments_lexer": "ipython2",
   "version": "2.7.6"
  }
 },
 "nbformat": 4,
 "nbformat_minor": 0
}
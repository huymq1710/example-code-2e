{
 "cells": [
  {
   "cell_type": "markdown",
   "source": [
    "# Chapter 16. Operator Overloading\n",
    "\n",
    "Trong Python, có thể tính lãi kép bằng cách:\n",
    "- `interest = principal * ((1 + rate) ** periods - 1)`\n",
    "  - Các toán tử xuất hiện giữa các toán hạng (+,*,-) được gọi là `infix operators`, nó có thể xử lý các loại tuỳ ý\n",
    "    - Nhưng trong Java, nếu  chuyển từ float sang BigDecimal để có kết quả chính xác, thì bạn không thể sử dụng `infix operators` nữa, vì chúng chỉ hoạt động với kiểu nguyên thủy\n",
    "\n",
    "Also, in Example 11-2, we noted that the `Vector2d.__eq__` method considers this to be `True`: `Vector(3, 4) == [3, 4]`—which may or not make sense. We will address these matters in this chapter, as well as:\n",
    "\n",
    "- Cách một infix operator báo hiệu nó không thể xử lý một toán hạng\n",
    "\n",
    "- Sừ dụng `duck typing` or `goose typing` để xử lý nhiều loại toán hạng\n",
    "\n",
    "- The special behavior of the rich comparison operators (e.g., ==, >, <=, etc.)\n",
    "\n",
    "- The default handling of augmented assignment operators such as +=, and how to overload them"
   ],
   "metadata": {
    "collapsed": false,
    "pycharm": {
     "name": "#%% md\n"
    }
   }
  },
  {
   "cell_type": "markdown",
   "source": [
    "## Operator Overloading 101\n",
    "\n",
    "Đây là là một tính năng ngôn ngữ có thể (và đã) bị lạm dụng, dẫn đến sự nhầm lẫn của lập trình viên, lỗi và tắc nghẽn hiệu suất không mong muốn. Nhưng nếu dùng tốt thì code/API sẽ dễ đọc\n",
    "- Cannot create new operator, only overload existing one\n",
    "- A few operators can’t be overloaded: `is`, `and`, `or`, `not` (but the bitwise `&,` `|`, `~`, can)."
   ],
   "metadata": {
    "collapsed": false,
    "pycharm": {
     "name": "#%% md\n"
    }
   }
  },
  {
   "cell_type": "markdown",
   "source": [
    "## Unary (1 ngôi) Operators\n",
    "\n",
    "`-`, implemented by `__neg__`\n",
    "Phủ định. If `x == -2` then `-x == 2`.\n",
    "\n",
    "`+`, implemented by `__pos__`\n",
    "Khẳng định. Usually x == +x, but there are a few cases when that’s not true (https://learning.oreilly.com/library/view/fluent-python-2nd/9781492056348/ch16.html#idm46582410760976)\n",
    "\n",
    "`~`, implemented by `__invert__`\n",
    "Nghịch đảo 1 số nguyên, defined as ~x == -(x+1). If x == 2(10) then ~x == -3\n",
    "\n",
    "abs, implemented by `__abs__`"
   ],
   "metadata": {
    "collapsed": false,
    "pycharm": {
     "name": "#%% md\n"
    }
   }
  },
  {
   "cell_type": "code",
   "execution_count": 1,
   "metadata": {
    "collapsed": true,
    "pycharm": {
     "name": "#%%\n"
    }
   },
   "outputs": [],
   "source": [
    "from array import array\n",
    "import reprlib\n",
    "import math\n",
    "import functools\n",
    "import operator\n",
    "import itertools\n",
    "\n",
    "\n",
    "class Vector:\n",
    "    typecode = 'd'\n",
    "\n",
    "    def __init__(self, components):\n",
    "        self._components = array(self.typecode, components)\n",
    "\n",
    "    def __iter__(self):\n",
    "        return iter(self._components)\n",
    "\n",
    "    def __repr__(self):\n",
    "        components = reprlib.repr(self._components)\n",
    "        components = components[components.find('['):-1]\n",
    "        return f'Vector({components})'\n",
    "\n",
    "    def __str__(self):\n",
    "        return str(tuple(self))\n",
    "\n",
    "    def __bytes__(self):\n",
    "        return (bytes([ord(self.typecode)]) +\n",
    "                bytes(self._components))\n",
    "\n",
    "    def __eq__(self, other):\n",
    "        return (len(self) == len(other) and\n",
    "                all(a == b for a, b in zip(self, other)))\n",
    "\n",
    "    def __hash__(self):\n",
    "        hashes = (hash(x) for x in self)\n",
    "        return functools.reduce(operator.xor, hashes, 0)\n",
    "\n",
    "    # tag::VECTOR_V6_UNARY[]\n",
    "    def __abs__(self):\n",
    "        return math.hypot(*self)\n",
    "\n",
    "    def __neg__(self):\n",
    "        return Vector(-x for x in self)  # <1>\n",
    "\n",
    "    def __pos__(self):\n",
    "        return Vector(self)  # <2>\n",
    "    # end::VECTOR_V6_UNARY[]\n",
    "\n",
    "    def __bool__(self):\n",
    "        return bool(abs(self))\n",
    "\n",
    "    def __len__(self):\n",
    "        return len(self._components)\n",
    "\n",
    "    def __getitem__(self, key):\n",
    "        if isinstance(key, slice):\n",
    "            cls = type(self)\n",
    "            return cls(self._components[key])\n",
    "        index = operator.index(key)\n",
    "        return self._components[index]\n",
    "\n",
    "    __match_args__ = ('x', 'y', 'z', 't')\n",
    "\n",
    "    def __getattr__(self, name):\n",
    "        cls = type(self)\n",
    "        try:\n",
    "            pos = cls.__match_args__.index(name)\n",
    "        except ValueError:\n",
    "            pos = -1\n",
    "        if 0 <= pos < len(self._components):\n",
    "            return self._components[pos]\n",
    "        msg = f'{cls.__name__!r} object has no attribute {name!r}'\n",
    "        raise AttributeError(msg)\n",
    "\n",
    "    def angle(self, n):\n",
    "        r = math.hypot(*self[n:])\n",
    "        a = math.atan2(r, self[n-1])\n",
    "        if (n == len(self) - 1) and (self[-1] < 0):\n",
    "            return math.pi * 2 - a\n",
    "        else:\n",
    "            return a\n",
    "\n",
    "    def angles(self):\n",
    "        return (self.angle(n) for n in range(1, len(self)))\n",
    "\n",
    "    def __format__(self, fmt_spec=''):\n",
    "        if fmt_spec.endswith('h'):  # hyperspherical coordinates\n",
    "            fmt_spec = fmt_spec[:-1]\n",
    "            coords = itertools.chain([abs(self)],\n",
    "                                     self.angles())\n",
    "            outer_fmt = '<{}>'\n",
    "        else:\n",
    "            coords = self\n",
    "            outer_fmt = '({})'\n",
    "        components = (format(c, fmt_spec) for c in coords)\n",
    "        return outer_fmt.format(', '.join(components))\n",
    "\n",
    "    @classmethod\n",
    "    def frombytes(cls, octets):\n",
    "        typecode = chr(octets[0])\n",
    "        memv = memoryview(octets[1:]).cast(typecode)\n",
    "        return cls(memv)\n",
    "\n",
    "    # tag::VECTOR_V6_ADD[]\n",
    "    def __add__(self, other):\n",
    "        try:\n",
    "            pairs = itertools.zip_longest(self, other, fillvalue=0.0)\n",
    "            return Vector(a + b for a, b in pairs)\n",
    "        except TypeError:\n",
    "            return NotImplemented\n",
    "\n",
    "    def __radd__(self, other): # Kiểu như nếu vector2d + vector,  ko có vector2d.add(vector) --> nó sẽ gọi vector.radd(vector2d)\n",
    "        return self + other\n",
    "# end::VECTOR_V6_ADD[]"
   ]
  },
  {
   "cell_type": "code",
   "execution_count": 2,
   "outputs": [
    {
     "data": {
      "text/plain": "(Vector([-3.0, -4.0]), Vector([3.0, 4.0]), 5.0)"
     },
     "execution_count": 2,
     "metadata": {},
     "output_type": "execute_result"
    }
   ],
   "source": [
    "v1 = Vector([3, 4])\n",
    "\n",
    "-v1, +v1, abs(v1)"
   ],
   "metadata": {
    "collapsed": false,
    "pycharm": {
     "name": "#%%\n"
    }
   }
  },
  {
   "cell_type": "markdown",
   "source": [
    "## Overloading + for Vector Addition\n",
    "\n",
    "The Vector class is a sequence type and sequences should support the `+` operator for concatenation and `*` for repetition\n",
    "\n",
    "TIP\n",
    "If users want to concatenate or repeat Vector instances, they can convert them to tuples or lists, apply the operator, and convert back—thanks to the fact that Vector is iterable and can be constructed from an iterable:\n",
    "```\n",
    ">>> v_concatenated = Vector(list(v1) + list(v2))\n",
    ">>> v_repeated = Vector(tuple(v1) * 5)\n",
    "```"
   ],
   "metadata": {
    "collapsed": false,
    "pycharm": {
     "name": "#%% md\n"
    }
   }
  },
  {
   "cell_type": "code",
   "execution_count": 3,
   "outputs": [
    {
     "data": {
      "text/plain": "Vector([9.0, 11.0, 13.0])"
     },
     "execution_count": 3,
     "metadata": {},
     "output_type": "execute_result"
    }
   ],
   "source": [
    "v1 = Vector([3, 4, 5])\n",
    "v2 = Vector([6, 7, 8])\n",
    "v1 + v2"
   ],
   "metadata": {
    "collapsed": false,
    "pycharm": {
     "name": "#%%\n"
    }
   }
  },
  {
   "cell_type": "code",
   "execution_count": 4,
   "outputs": [
    {
     "data": {
      "text/plain": "Vector([4.0, 6.0, 5.0, 6.0])"
     },
     "execution_count": 4,
     "metadata": {},
     "output_type": "execute_result"
    }
   ],
   "source": [
    "v1 = Vector([3, 4, 5, 6])\n",
    "v3 = Vector([1, 2])\n",
    "v1 + v3"
   ],
   "metadata": {
    "collapsed": false,
    "pycharm": {
     "name": "#%%\n"
    }
   }
  },
  {
   "cell_type": "markdown",
   "source": [
    "Therefore, to make the mixed-type additions, we need to implement the `Vector.__radd__` method, which Python will invoke as a fallback if the left operand does not implement `__add__`, or if it does but returns NotImplemented to signal that it doesn’t know how to handle the right operand.\n",
    "\n",
    "![](image/16-1.png)"
   ],
   "metadata": {
    "collapsed": false,
    "pycharm": {
     "name": "#%% md\n"
    }
   }
  },
  {
   "cell_type": "code",
   "execution_count": 5,
   "outputs": [
    {
     "data": {
      "text/plain": "Vector([13.0, 24.0, 35.0, 6.0])"
     },
     "execution_count": 5,
     "metadata": {},
     "output_type": "execute_result"
    }
   ],
   "source": [
    "(10, 20, 30) + v1"
   ],
   "metadata": {
    "collapsed": false,
    "pycharm": {
     "name": "#%%\n"
    }
   }
  },
  {
   "cell_type": "code",
   "execution_count": 6,
   "outputs": [
    {
     "data": {
      "text/plain": "Vector([13.0, 24.0, 35.0, 6.0])"
     },
     "execution_count": 6,
     "metadata": {},
     "output_type": "execute_result"
    }
   ],
   "source": [
    "v1 +(10, 20, 30)"
   ],
   "metadata": {
    "collapsed": false,
    "pycharm": {
     "name": "#%%\n"
    }
   }
  },
  {
   "cell_type": "markdown",
   "source": [
    "Đọc chương này ko hay"
   ],
   "metadata": {
    "collapsed": false,
    "pycharm": {
     "name": "#%% md\n"
    }
   }
  },
  {
   "cell_type": "code",
   "execution_count": null,
   "outputs": [],
   "source": [],
   "metadata": {
    "collapsed": false,
    "pycharm": {
     "name": "#%%\n"
    }
   }
  }
 ],
 "metadata": {
  "kernelspec": {
   "display_name": "Python 3",
   "language": "python",
   "name": "python3"
  },
  "language_info": {
   "codemirror_mode": {
    "name": "ipython",
    "version": 2
   },
   "file_extension": ".py",
   "mimetype": "text/x-python",
   "name": "python",
   "nbconvert_exporter": "python",
   "pygments_lexer": "ipython2",
   "version": "2.7.6"
  }
 },
 "nbformat": 4,
 "nbformat_minor": 0
}
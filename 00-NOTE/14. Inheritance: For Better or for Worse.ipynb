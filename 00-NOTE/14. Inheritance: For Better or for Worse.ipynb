{
 "cells": [
  {
   "cell_type": "markdown",
   "source": [
    "# Chapter 14. Inheritance: For Better or for Worse"
   ],
   "metadata": {
    "collapsed": false,
    "pycharm": {
     "name": "#%% md\n"
    }
   }
  },
  {
   "cell_type": "markdown",
   "source": [
    "- The super() function\n",
    "\n",
    "- The pitfalls (cạm bẫy) of subclassing from built-in types\n",
    "\n",
    "- Multiple inheritance and method resolution order\n",
    "\n",
    "- Mix classes"
   ],
   "metadata": {
    "collapsed": false,
    "pycharm": {
     "name": "#%% md\n"
    }
   }
  },
  {
   "cell_type": "markdown",
   "source": [
    "(Multiple inheritance - chỉ ở C++ - được cho là trouble hơn là có ích)\n",
    "(Đồng thời nói về việc lạm dụng kế thừa --> 1 thay đổi nhỏ khiến hệ thống dễ vỡ + khó hiểu)"
   ],
   "metadata": {
    "collapsed": false,
    "pycharm": {
     "name": "#%% md\n"
    }
   }
  },
  {
   "cell_type": "markdown",
   "source": [
    "## The super() Function\n",
    "\n",
    "Khi một lớp con ghi đè một phương thức của một lớp cha, phương thức ghi đè thường cần gọi phương thức từ lớp cha\n",
    "\n",
    "```python\n",
    "class LastUpdatedOrderedDict(OrderedDict):\n",
    "    \"\"\"Store items in the order they were last updated\"\"\"\n",
    "\n",
    "    def __setitem__(self, key, value):\n",
    "        super().__setitem__(key, value)\n",
    "        # OrderedDict.__setitem__(self, key, value) ko đc recommend - khó maintain + ko giúp multiple inheritance\n",
    "        self.move_to_end(key)\n",
    "```\n",
    "\n"
   ],
   "metadata": {
    "collapsed": false,
    "pycharm": {
     "name": "#%% md\n"
    }
   }
  },
  {
   "cell_type": "markdown",
   "source": [
    "Gọi `__init__` bị ghi đè là đặc biệt quan trọng để cho phép lớp cha thực hiện phần của chúng trong việc khởi tạo.\n",
    "\n",
    "```python\n",
    "    def __init__(self, a, b) :\n",
    "        super().__init__(a, b) # (khác vs Java chỉ cần super() )\n",
    "        ...  # more initialization code\n",
    "```"
   ],
   "metadata": {
    "collapsed": false,
    "pycharm": {
     "name": "#%% md\n"
    }
   }
  },
  {
   "cell_type": "markdown",
   "source": [
    "## Subclassing Built-In Types Is Tricky\n",
    "\n",
    "Lý do:\n",
    "The code of the built-ins (written in C) usually does not call methods overridden by user-defined classes"
   ],
   "metadata": {
    "collapsed": false,
    "pycharm": {
     "name": "#%% md\n"
    }
   }
  },
  {
   "cell_type": "code",
   "execution_count": 1,
   "metadata": {
    "collapsed": true,
    "pycharm": {
     "name": "#%%\n"
    }
   },
   "outputs": [
    {
     "data": {
      "text/plain": "{'one': 1}"
     },
     "execution_count": 1,
     "metadata": {},
     "output_type": "execute_result"
    }
   ],
   "source": [
    "# Example 14-1. Our __setitem__ override is ignored by the __init__ and __update__ methods of the built-in dict\n",
    "\n",
    "class DoppelDict(dict):\n",
    "    def __setitem__(self, key, value):\n",
    "        super().__setitem__(key, [value] * 2)\n",
    "\n",
    "dd = DoppelDict(one=1) # init\n",
    "dd"
   ]
  },
  {
   "cell_type": "code",
   "execution_count": 3,
   "outputs": [
    {
     "data": {
      "text/plain": "{'one': 1, 'two': [2, 2]}"
     },
     "execution_count": 3,
     "metadata": {},
     "output_type": "execute_result"
    }
   ],
   "source": [
    "dd['two'] = 2 # set, okay, it worked\n",
    "dd"
   ],
   "metadata": {
    "collapsed": false,
    "pycharm": {
     "name": "#%%\n"
    }
   }
  },
  {
   "cell_type": "code",
   "execution_count": 4,
   "outputs": [
    {
     "data": {
      "text/plain": "{'one': 1, 'two': [2, 2], 'three': 3}"
     },
     "execution_count": 4,
     "metadata": {},
     "output_type": "execute_result"
    }
   ],
   "source": [
    "dd.update(three=3) # update\n",
    "dd"
   ],
   "metadata": {
    "collapsed": false,
    "pycharm": {
     "name": "#%%\n"
    }
   }
  },
  {
   "cell_type": "markdown",
   "source": [
    "--> This is what is called “late binding\""
   ],
   "metadata": {
    "collapsed": false,
    "pycharm": {
     "name": "#%% md\n"
    }
   }
  },
  {
   "cell_type": "code",
   "execution_count": 5,
   "outputs": [
    {
     "data": {
      "text/plain": "42"
     },
     "execution_count": 5,
     "metadata": {},
     "output_type": "execute_result"
    }
   ],
   "source": [
    "# Example 14-2. The __getitem__ of AnswerDict is bypassed by dict.update\n",
    "\n",
    "class AnswerDict(dict):\n",
    "    def __getitem__(self, key):\n",
    "        return 42\n",
    "\n",
    "ad = AnswerDict(a='foo')\n",
    "ad['a'] # ok"
   ],
   "metadata": {
    "collapsed": false,
    "pycharm": {
     "name": "#%%\n"
    }
   }
  },
  {
   "cell_type": "code",
   "execution_count": 6,
   "outputs": [
    {
     "data": {
      "text/plain": "{'a': 'foo'}"
     },
     "execution_count": 6,
     "metadata": {},
     "output_type": "execute_result"
    }
   ],
   "source": [
    "d = {}\n",
    "d.update(ad) # The dict.update method ignored AnswerDict.__getitem__\n",
    "d"
   ],
   "metadata": {
    "collapsed": false,
    "pycharm": {
     "name": "#%%\n"
    }
   }
  },
  {
   "cell_type": "markdown",
   "source": [
    "--> Thay vì subclass từ build-in (`dict`, `list`, `str`), sử dụng từ collections module (`UserDict`, `UserList`, and `UserString`)"
   ],
   "metadata": {
    "collapsed": false,
    "pycharm": {
     "name": "#%% md\n"
    }
   }
  },
  {
   "cell_type": "markdown",
   "source": [
    "Giờ thì, tập trung vào multiple inheritance, các mà Python quyết định dùng attr nào cho `super().attr`"
   ],
   "metadata": {
    "collapsed": false,
    "pycharm": {
     "name": "#%% md\n"
    }
   }
  },
  {
   "cell_type": "markdown",
   "source": [
    "## Multiple Inheritance and Method Resolution Order\n",
    "\n",
    "Bất kỳ ngôn ngữ nào hỗ trợ Đa kế thừa đều phải giải quyết \"diamon problem\"\n",
    "\n",
    "![](image/14-1.png)\n",
    "\n",
    "Figure 14-1.\n",
    "- Left: Activation sequence for the `leaf1.ping()` call.\n",
    "- Right: Activation sequence for the `leaf1.pong()` call.\n"
   ],
   "metadata": {
    "collapsed": false,
    "pycharm": {
     "name": "#%% md\n"
    }
   }
  },
  {
   "cell_type": "code",
   "execution_count": 7,
   "outputs": [],
   "source": [
    "# Example 14-4. diamond.py: classes Leaf, A, B, Root form the graph in Figure 14-1\n",
    "\n",
    "# tag::DIAMOND_CLASSES[]\n",
    "class Root:  # <1>\n",
    "    def ping(self):\n",
    "        print(f'{self}.ping() in Root')\n",
    "\n",
    "    def pong(self):\n",
    "        print(f'{self}.pong() in Root')\n",
    "\n",
    "    def __repr__(self):\n",
    "        cls_name = type(self).__name__\n",
    "        return f'<instance of {cls_name}>'\n",
    "\n",
    "\n",
    "class A(Root):  # <2>\n",
    "    def ping(self):\n",
    "        print(f'{self}.ping() in A')\n",
    "        super().ping()\n",
    "\n",
    "    def pong(self):\n",
    "        print(f'{self}.pong() in A')\n",
    "        super().pong()\n",
    "\n",
    "\n",
    "class B(Root):  # <3>\n",
    "    def ping(self):\n",
    "        print(f'{self}.ping() in B')\n",
    "        super().ping()\n",
    "\n",
    "    def pong(self):\n",
    "        print(f'{self}.pong() in B')\n",
    "\n",
    "\n",
    "class Leaf(A, B):  # <4>\n",
    "    def ping(self):\n",
    "        print(f'{self}.ping() in Leaf')\n",
    "        super().ping()\n",
    "# end::DIAMOND_CLASSES[]"
   ],
   "metadata": {
    "collapsed": false,
    "pycharm": {
     "name": "#%%\n"
    }
   }
  },
  {
   "cell_type": "code",
   "execution_count": 8,
   "outputs": [
    {
     "name": "stdout",
     "output_type": "stream",
     "text": [
      "<instance of Leaf>.ping() in Leaf\n",
      "<instance of Leaf>.ping() in A\n",
      "<instance of Leaf>.ping() in B\n",
      "<instance of Leaf>.ping() in Root\n"
     ]
    }
   ],
   "source": [
    "leaf1 = Leaf()\n",
    "leaf1.ping()\n",
    "# Vì ping ở Leaf, A, B đề gọi super()"
   ],
   "metadata": {
    "collapsed": false,
    "pycharm": {
     "name": "#%%\n"
    }
   }
  },
  {
   "cell_type": "code",
   "execution_count": 9,
   "outputs": [
    {
     "name": "stdout",
     "output_type": "stream",
     "text": [
      "<instance of Leaf>.pong() in A\n",
      "<instance of Leaf>.pong() in B\n"
     ]
    }
   ],
   "source": [
    "leaf1.pong()\n",
    "# Leaf ko thấy pong(), gọi pong qua A, rồi gọi tiếp B"
   ],
   "metadata": {
    "collapsed": false,
    "pycharm": {
     "name": "#%%\n"
    }
   }
  },
  {
   "cell_type": "markdown",
   "source": [
    "Activation sequences để gọi đó được quyết định bởi:\n",
    "- The method resolution order of the `Leaf` class.\n",
    "- The use of `super()` in each method.\n",
    "\n",
    "Class nào cũng nó `__mro__` lưu tuple các ref tới superclass, xác định thứ tự kích hoạt"
   ],
   "metadata": {
    "collapsed": false,
    "pycharm": {
     "name": "#%% md\n"
    }
   }
  },
  {
   "cell_type": "code",
   "execution_count": 10,
   "outputs": [
    {
     "data": {
      "text/plain": "(__main__.Leaf, __main__.A, __main__.B, __main__.Root, object)"
     },
     "execution_count": 10,
     "metadata": {},
     "output_type": "execute_result"
    }
   ],
   "source": [
    "Leaf.__mro__"
   ],
   "metadata": {
    "collapsed": false,
    "pycharm": {
     "name": "#%%\n"
    }
   }
  },
  {
   "cell_type": "markdown",
   "source": [
    "Python is a dynamic language,\n",
    "--> so the interaction of `super()` with the `MRO` is also dynamic"
   ],
   "metadata": {
    "collapsed": false,
    "pycharm": {
     "name": "#%% md\n"
    }
   }
  },
  {
   "cell_type": "code",
   "execution_count": 11,
   "outputs": [],
   "source": [
    "# Example 14-6. diamond2.py: classes to demonstrate the dynamic nature of super()\n",
    "# tag::DIAMOND_CLASSES[]\n",
    "\n",
    "# from diamond import A  # <1>\n",
    "\n",
    "class U():  # <2>\n",
    "    def ping(self):\n",
    "        print(f'{self}.ping() in U')\n",
    "        super().ping()  # <3>\n",
    "\n",
    "class LeafUA(U, A):  # <4>\n",
    "    def ping(self):\n",
    "        print(f'{self}.ping() in LeafUA')\n",
    "        super().ping()\n",
    "# end::DIAMOND_CLASSES[]\n",
    "\n",
    "class LeafAU(A, U):\n",
    "    def ping(self):\n",
    "        print(f'{self}.ping() in LeafAU')\n",
    "        super().ping()"
   ],
   "metadata": {
    "collapsed": false,
    "pycharm": {
     "name": "#%%\n"
    }
   }
  },
  {
   "cell_type": "code",
   "execution_count": 12,
   "outputs": [
    {
     "name": "stdout",
     "output_type": "stream",
     "text": [
      "<__main__.U object at 0x7fd6da19ec50>.ping() in U\n"
     ]
    },
    {
     "ename": "AttributeError",
     "evalue": "'super' object has no attribute 'ping'",
     "output_type": "error",
     "traceback": [
      "\u001B[0;31m---------------------------------------------------------------------------\u001B[0m",
      "\u001B[0;31mAttributeError\u001B[0m                            Traceback (most recent call last)",
      "Cell \u001B[0;32mIn[12], line 2\u001B[0m\n\u001B[1;32m      1\u001B[0m u \u001B[38;5;241m=\u001B[39m U()\n\u001B[0;32m----> 2\u001B[0m \u001B[43mu\u001B[49m\u001B[38;5;241;43m.\u001B[39;49m\u001B[43mping\u001B[49m\u001B[43m(\u001B[49m\u001B[43m)\u001B[49m\n",
      "Cell \u001B[0;32mIn[11], line 9\u001B[0m, in \u001B[0;36mU.ping\u001B[0;34m(self)\u001B[0m\n\u001B[1;32m      7\u001B[0m \u001B[38;5;28;01mdef\u001B[39;00m \u001B[38;5;21mping\u001B[39m(\u001B[38;5;28mself\u001B[39m):\n\u001B[1;32m      8\u001B[0m     \u001B[38;5;28mprint\u001B[39m(\u001B[38;5;124mf\u001B[39m\u001B[38;5;124m'\u001B[39m\u001B[38;5;132;01m{\u001B[39;00m\u001B[38;5;28mself\u001B[39m\u001B[38;5;132;01m}\u001B[39;00m\u001B[38;5;124m.ping() in U\u001B[39m\u001B[38;5;124m'\u001B[39m)\n\u001B[0;32m----> 9\u001B[0m     \u001B[38;5;28;43msuper\u001B[39;49m\u001B[43m(\u001B[49m\u001B[43m)\u001B[49m\u001B[38;5;241;43m.\u001B[39;49m\u001B[43mping\u001B[49m()\n",
      "\u001B[0;31mAttributeError\u001B[0m: 'super' object has no attribute 'ping'"
     ]
    }
   ],
   "source": [
    "u = U()\n",
    "u.ping()"
   ],
   "metadata": {
    "collapsed": false,
    "pycharm": {
     "name": "#%%\n"
    }
   }
  },
  {
   "cell_type": "code",
   "execution_count": 13,
   "outputs": [
    {
     "data": {
      "text/plain": "(__main__.U, object)"
     },
     "execution_count": 13,
     "metadata": {},
     "output_type": "execute_result"
    }
   ],
   "source": [
    "U.__mro__ # object ko có ping"
   ],
   "metadata": {
    "collapsed": false,
    "pycharm": {
     "name": "#%%\n"
    }
   }
  },
  {
   "cell_type": "code",
   "execution_count": 14,
   "outputs": [
    {
     "name": "stdout",
     "output_type": "stream",
     "text": [
      "<instance of LeafUA>.ping() in LeafUA\n",
      "<instance of LeafUA>.ping() in U\n",
      "<instance of LeafUA>.ping() in A\n",
      "<instance of LeafUA>.ping() in Root\n"
     ]
    }
   ],
   "source": [
    "leaf2 = LeafUA()\n",
    "leaf2.ping()"
   ],
   "metadata": {
    "collapsed": false,
    "pycharm": {
     "name": "#%%\n"
    }
   }
  },
  {
   "cell_type": "markdown",
   "source": [
    "Trong một chương trình thực tế, một lớp như U có thể là một lớp mixin: một lớp dự định được sử dụng cùng với các lớp khác trong đa kế thừa, để cung cấp chức năng bổ sung."
   ],
   "metadata": {
    "collapsed": false,
    "pycharm": {
     "name": "#%% md\n"
    }
   }
  },
  {
   "cell_type": "code",
   "execution_count": 16,
   "outputs": [
    {
     "name": "stdout",
     "output_type": "stream",
     "text": [
      "Text, Widget, BaseWidget, Misc, Pack, Place, Grid, XView, YView, object\n"
     ]
    }
   ],
   "source": [
    "# Ví dụ thứ tự kích hoạt ở thư viện tkinter\n",
    "\n",
    "import tkinter\n",
    "\n",
    "def print_mro(cls):\n",
    "    print(', '.join(c.__name__ for c in cls.__mro__))\n",
    "\n",
    "print_mro(tkinter.Text)"
   ],
   "metadata": {
    "collapsed": false,
    "pycharm": {
     "name": "#%%\n"
    }
   }
  },
  {
   "cell_type": "markdown",
   "source": [
    "![](image/14-2.png)"
   ],
   "metadata": {
    "collapsed": false,
    "pycharm": {
     "name": "#%% md\n"
    }
   }
  },
  {
   "cell_type": "markdown",
   "source": [
    "## Mixin Classes\n",
    "\n",
    "- Được thiết kế để subclass cùng với ít nhất một lớp khác trong đa kế thừa.\n",
    "- Không được coi là base class vì nó ko cung cấp đủ chức năng"
   ],
   "metadata": {
    "collapsed": false,
    "pycharm": {
     "name": "#%% md\n"
    }
   }
  },
  {
   "cell_type": "markdown",
   "source": [
    "### Case-Insensitive Mappings\n"
   ],
   "metadata": {
    "collapsed": false,
    "pycharm": {
     "name": "#%% md\n"
    }
   }
  },
  {
   "cell_type": "code",
   "execution_count": 17,
   "outputs": [],
   "source": [
    "# Example 14-8: một lớp được thiết kế để cung cấp quyền truy cập không phân biệt chữ hoa chữ thường\n",
    "# tag::UPPERCASE_MIXIN[]\n",
    "import collections\n",
    "\n",
    "def _upper(key):  # <1>\n",
    "    try:\n",
    "        return key.upper()\n",
    "    except AttributeError:\n",
    "        return key\n",
    "\n",
    "class UpperCaseMixin:  # <2> Mixin class\n",
    "    def __setitem__(self, key, item):\n",
    "        super().__setitem__(_upper(key), item)\n",
    "\n",
    "    def __getitem__(self, key):\n",
    "        return super().__getitem__(_upper(key))\n",
    "\n",
    "    def get(self, key, default=None):\n",
    "        return super().get(_upper(key), default)\n",
    "\n",
    "    def __contains__(self, key):\n",
    "        return super().__contains__(_upper(key))\n",
    "# end::UPPERCASE_MIXIN[]\n",
    "\n",
    "# tag::UPPERDICT[]\n",
    "class UpperDict(UpperCaseMixin, collections.UserDict):  # <1>\n",
    "    pass\n",
    "\n",
    "class UpperCounter(UpperCaseMixin, collections.Counter):  # <2>\n",
    "    \"\"\"Specialized 'Counter' that uppercases string keys\"\"\"  # <3>\n",
    "# end::UPPERDICT[]\n"
   ],
   "metadata": {
    "collapsed": false,
    "pycharm": {
     "name": "#%%\n"
    }
   }
  },
  {
   "cell_type": "code",
   "execution_count": 18,
   "outputs": [
    {
     "data": {
      "text/plain": "['A', 2]"
     },
     "execution_count": 18,
     "metadata": {},
     "output_type": "execute_result"
    }
   ],
   "source": [
    "d = UpperDict([('a', 'letter A'), (2, 'digit two')])\n",
    "list(d.keys())"
   ],
   "metadata": {
    "collapsed": false,
    "pycharm": {
     "name": "#%%\n"
    }
   }
  },
  {
   "cell_type": "code",
   "execution_count": 20,
   "outputs": [
    {
     "data": {
      "text/plain": "True"
     },
     "execution_count": 20,
     "metadata": {},
     "output_type": "execute_result"
    }
   ],
   "source": [
    "d['b'] = 'letter B'\n",
    "'b' in d"
   ],
   "metadata": {
    "collapsed": false,
    "pycharm": {
     "name": "#%%\n"
    }
   }
  },
  {
   "cell_type": "code",
   "execution_count": 21,
   "outputs": [
    {
     "data": {
      "text/plain": "('letter A', 'letter B')"
     },
     "execution_count": 21,
     "metadata": {},
     "output_type": "execute_result"
    }
   ],
   "source": [
    "d['a'], d.get('B')"
   ],
   "metadata": {
    "collapsed": false,
    "pycharm": {
     "name": "#%%\n"
    }
   }
  },
  {
   "cell_type": "code",
   "execution_count": 22,
   "outputs": [
    {
     "data": {
      "text/plain": "{'A': 'letter A', 2: 'digit two', 'B': 'letter B'}"
     },
     "execution_count": 22,
     "metadata": {},
     "output_type": "execute_result"
    }
   ],
   "source": [
    "d"
   ],
   "metadata": {
    "collapsed": false,
    "pycharm": {
     "name": "#%%\n"
    }
   }
  },
  {
   "cell_type": "code",
   "execution_count": 23,
   "outputs": [
    {
     "data": {
      "text/plain": "UpperCounter({'B': 1, 'A': 3, 'N': 2})"
     },
     "execution_count": 23,
     "metadata": {},
     "output_type": "execute_result"
    }
   ],
   "source": [
    "c = UpperCounter('BaNanA')\n",
    "c"
   ],
   "metadata": {
    "collapsed": false,
    "pycharm": {
     "name": "#%%\n"
    }
   }
  },
  {
   "cell_type": "code",
   "execution_count": 24,
   "outputs": [
    {
     "data": {
      "text/plain": "[('A', 3), ('N', 2), ('B', 1)]"
     },
     "execution_count": 24,
     "metadata": {},
     "output_type": "execute_result"
    }
   ],
   "source": [
    "c.most_common()"
   ],
   "metadata": {
    "collapsed": false,
    "pycharm": {
     "name": "#%%\n"
    }
   }
  },
  {
   "cell_type": "markdown",
   "source": [
    "## Multiple Inheritance in the Real World\n",
    "\n",
    "Trong C++, ví dụ duy nhất của đa kế thừa nằm ở Adapter pattern\n"
   ],
   "metadata": {
    "collapsed": false,
    "pycharm": {
     "name": "#%% md\n"
    }
   }
  },
  {
   "cell_type": "markdown",
   "source": [
    "### ABCs Are Mixins Too\n",
    "\n",
    "Ở Python, đa kế thừa nằm ở việc dùng `collections.abc`.\n",
    "- Xét cho cùng, Java cũng có đa kế thùa interfaces\n",
    "- Và, ABCs là các khai báo interfaces, để imple các method cụ thể\n",
    "\n",
    "\"Mixin method\"\n",
    "- Method impl nhiều collection ABCs\n",
    "\n",
    "VD: Việc impl `collections.UserDict` dựa vào một số mixin methods được cung cấp bởi `collections.abc.MutableMapping`"
   ],
   "metadata": {
    "collapsed": false,
    "pycharm": {
     "name": "#%% md\n"
    }
   }
  },
  {
   "cell_type": "markdown",
   "source": [
    "### ThreadingMixIn and ForkingMixIn\n",
    "\n",
    "The http.server package provides `HTTPServer` and `ThreadingHTTPServer` classes."
   ],
   "metadata": {
    "collapsed": false,
    "pycharm": {
     "name": "#%% md\n"
    }
   }
  },
  {
   "cell_type": "code",
   "execution_count": null,
   "outputs": [],
   "source": [
    "from http import server\n",
    "\n",
    "# t = server.ThreadingHTTPServer()\n",
    "\n",
    "\"\"\"\n",
    "class ThreadingHTTPServer(socketserver.ThreadingMixIn, HTTPServer):\n",
    "    daemon_threads = True\n",
    "\n",
    "Lớp này giống với HTTPServer nhưng sử dụng các thread để xử lý các yêu cầu bằng cách sử dụng ThreadingMixIn.\n",
    "Điều này rất hữu ích để xử lý pre-opening sockets của web browsers, mà HTTPServer sẽ đợi vô thời hạn.\n",
    "\"\"\""
   ],
   "metadata": {
    "collapsed": false,
    "pycharm": {
     "name": "#%%\n",
     "is_executing": true
    }
   }
  },
  {
   "cell_type": "code",
   "execution_count": 27,
   "outputs": [],
   "source": [
    "class ThreadingMixIn:\n",
    "    \"\"\"Mixin class to handle each request in a new thread.\"\"\"\n",
    "\n",
    "    # 8 lines omitted in book listing\n",
    "\n",
    "    def process_request_thread(self, request, client_address):  # 1\n",
    "        ... # 6 lines omitted in book listing\n",
    "\n",
    "    def process_request(self, request, client_address):  #2\n",
    "        ... # 8 lines omitted in book listing\n",
    "\n",
    "    def server_close(self):  # 3\n",
    "        super().server_close()\n",
    "        self._threads.join()\n",
    "\n",
    "# 1. Ko call super() vì nó là method mới, ko phải override\n",
    "# 2. Overrides `process_request` mà HTTPServer kế thừa từ `socketserver.BaseServer`,\n",
    "# bắt đầu 1 thread và uỷ thác cho process_request_thread đang chạy trong luồng đó.\n",
    "# Nó không gọi super().\n",
    "\n",
    "# 3. calls super().server_close() để dừng nhận requests. Sau đó chờ threads (cái mà process_request start) để dừng"
   ],
   "metadata": {
    "collapsed": false,
    "pycharm": {
     "name": "#%%\n"
    }
   }
  },
  {
   "cell_type": "markdown",
   "source": [
    "### Django Generic Views Mixins\n",
    "\n",
    "In Django, a __view__ is a callable object that takes a `request` argument—an object representing an HTTP request—and returns an object representing an HTTP response (có thể có nhiều loại response)\n",
    "\n",
    "Originally, Django provided a set of functions, called __generic views__, that implemented some common use cases\n",
    "\n",
    "- The original generic views were functions, so they were not extensible.\n",
    "\n",
    " Figure 14-3. At the top of the diagram we see two classes that take care of very distinct responsibilities: `View` and `TemplateResponseMixin`.\n",
    "\n",
    "![](image/14-3.png)\n",
    "\n",
    "\n",
    "- `View` is the base class of all views (it could be an `ABC`), and it provides core functionality like the `dispatch` method, to “handler” methods like `get`, `head`, `post`, etc., implemented by concrete subclasses to handle the different HTTP verbs.\n",
    "    - Vì `RedirectView` chỉ thực hiện impl handler methods, tại sao các methods đó ko đặt trong View interface ?\n",
    "        - Subclasses are free to implement just the handlers they want to support\n",
    "                - VD: A `TemplateView` is used only to display content, so it only implements get\n",
    "\n",
    "- `TemplateResponseMixin` cung cấp chức năng cho views cần dùng template.\n",
    "    - `RedirectView` ko có content body -> no need of a template and it does not inherit from this mixin\n",
    "    - `TemplateResponseMixin` provides behaviors to `TemplateView` and other template-rendering views, such as `ListView`, `DetailView`, etc.,\n",
    "\n",
    " Figure 14-4 depicts the django.views.generic.list module and part of the base module.\n",
    "\n",
    "![](image/14-4.png)\n"
   ],
   "metadata": {
    "collapsed": false,
    "pycharm": {
     "name": "#%% md\n"
    }
   }
  },
  {
   "cell_type": "markdown",
   "source": [
    "### Multiple Inheritance in Tkinter\n",
    "\n",
    "Figure 14-5. Summary UML diagram for the Tkinter GUI class hierarchy;\n",
    "\n",
    "classes tagged «mixin» are designed to provide concrete methods to other classes via multiple inheritance.\n",
    "\n",
    "![](image/14-5.png)\n"
   ],
   "metadata": {
    "collapsed": false,
    "pycharm": {
     "name": "#%% md\n"
    }
   }
  },
  {
   "cell_type": "markdown",
   "source": [
    "## Coping with Inheritance\n",
    "\n",
    "\"Vẫn chưa có lý thuyết chung nào về tính kế thừa có thể hướng dẫn các lập trình viên thực hành.\"\n",
    "\n",
    "Sau đây là 1 số mẹo nhỏ để tránh \"spaghetti class graphs.\""
   ],
   "metadata": {
    "collapsed": false,
    "pycharm": {
     "name": "#%% md\n"
    }
   }
  },
  {
   "cell_type": "markdown",
   "source": [
    "### Ưu tiên Thành phần đối tượng hơn Kế thừa lớp\n",
    "\n",
    "- Đó là second principle của OOP design trong quyển Design Patterns\n",
    "\n",
    "\"Favoring composition\" leads to more flexible designs\n",
    "- VD: `tkinter.Widget` class,\n",
    "    - thay về kế thừa method từ all geometry managers\n",
    "    - widget instances could hold a reference to a geometry manager, and invoke its methods.\n",
    "    - could add a new geometry manager without touching the widget class hierarchy and without worrying about name clashes"
   ],
   "metadata": {
    "collapsed": false,
    "pycharm": {
     "name": "#%% md\n"
    }
   }
  },
  {
   "cell_type": "markdown",
   "source": [
    "### Understand Why Inheritance Is Used in Each Case\n",
    "\n",
    "The main reasons are:\n",
    "\n",
    "- Inheritance of interface creates a subtype, implying an “is-a” relationship. This is best done with ABCs.\n",
    "\n",
    "- Inheritance of implementation avoids code duplication by reuse. Mixins can help with this."
   ],
   "metadata": {
    "collapsed": false,
    "pycharm": {
     "name": "#%% md\n"
    }
   }
  },
  {
   "cell_type": "markdown",
   "source": [
    "### Make Interfaces Explicit with ABCs\n",
    "\n",
    "In modern Python, if a class is intended to define an interface, it should be an explicit ABC or a typing.Protocol subclass. An ABC should subclass only abc.ABC or other ABCs. Multiple inheritance of ABCs is not problematic."
   ],
   "metadata": {
    "collapsed": false,
    "pycharm": {
     "name": "#%% md\n"
    }
   }
  },
  {
   "cell_type": "markdown",
   "source": [
    "### Use Explicit Mixins for Code Reuse\n",
    "\n",
    "If a class is designed to provide method implementations for reuse by multiple unrelated subclasses, without implying an “is-a” relationship, it should be an explicit mixin class"
   ],
   "metadata": {
    "collapsed": false,
    "pycharm": {
     "name": "#%% md\n"
    }
   }
  },
  {
   "cell_type": "markdown",
   "source": [
    "### Provide Aggregate Classes to Users\n",
    "\n",
    "Một lớp được xây dựng chủ yếu bằng cách kế thừa từ mixin và không thêm cấu trúc hoặc hành vi riêng của nó được gọi là aggregate class.\n",
    "\n",
    "```python\n",
    "class ListView(MultipleObjectTemplateResponseMixin, BaseListView):\n",
    "    \"\"\"\n",
    "    Render some list of objects, set by `self.model` or `self.queryset`.\n",
    "    `self.queryset` can actually be any iterable of items, not just a queryset.\n",
    "    \"\"\"\n",
    "```"
   ],
   "metadata": {
    "collapsed": false,
    "pycharm": {
     "name": "#%% md\n"
    }
   }
  },
  {
   "cell_type": "markdown",
   "source": [
    "### Subclass Only Classes Designed for Subclassing\n",
    "\n",
    "WARNING\n",
    "\n",
    "Subclassing any complex class and overriding its methods is error-prone because the superclass methods may ignore the subclass overrides in unexpected ways. As much as possible, avoid overriding methods, or at least restrain yourself to subclassing classes which are designed to be easily extended, and only in the ways in which they were designed to be extended."
   ],
   "metadata": {
    "collapsed": false,
    "pycharm": {
     "name": "#%% md\n"
    }
   }
  },
  {
   "cell_type": "markdown",
   "source": [
    "### Avoid Subclassing from Concrete Classes\n",
    "\n",
    "Subclassing concrete classes is more dangerous than subclassing ABCs and mixins, because instances of concrete classes usually have internal state that can easily be error when you override methods that depend on that state"
   ],
   "metadata": {
    "collapsed": false,
    "pycharm": {
     "name": "#%% md\n"
    }
   }
  },
  {
   "cell_type": "markdown",
   "source": [
    "https://realpython.com/inheritance-composition-python/"
   ],
   "metadata": {
    "collapsed": false,
    "pycharm": {
     "name": "#%% md\n"
    }
   }
  },
  {
   "cell_type": "code",
   "execution_count": null,
   "outputs": [],
   "source": [],
   "metadata": {
    "collapsed": false,
    "pycharm": {
     "name": "#%%\n"
    }
   }
  }
 ],
 "metadata": {
  "kernelspec": {
   "display_name": "Python 3",
   "language": "python",
   "name": "python3"
  },
  "language_info": {
   "codemirror_mode": {
    "name": "ipython",
    "version": 2
   },
   "file_extension": ".py",
   "mimetype": "text/x-python",
   "name": "python",
   "nbconvert_exporter": "python",
   "pygments_lexer": "ipython2",
   "version": "2.7.6"
  }
 },
 "nbformat": 4,
 "nbformat_minor": 0
}
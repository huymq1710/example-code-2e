{
 "cells": [
  {
   "cell_type": "markdown",
   "source": [
    "These are the main topics this chapter will cover:\n",
    "\t• List comprehensions and the basics of generator expressions\n",
    "\t• Using tuples as records versus using tuples as immutable lists\n",
    "\t• Sequence unpacking and sequence patterns\n",
    "\t• Reading from slices and writing to slices\n",
    "Specialized sequence types, like arrays and queues"
   ],
   "metadata": {
    "collapsed": false,
    "pycharm": {
     "name": "#%% md\n"
    }
   }
  },
  {
   "cell_type": "markdown",
   "source": [
    "- () is a tuple: An immutable collection of values, usually (but not necessarily) of different types\n",
    "- [] is a list: A mutable collection of values, usually (but not necessarily) of the same type\n",
    "- {} is a dict/set: Use a dictionary for key value pairs"
   ],
   "metadata": {
    "collapsed": false,
    "pycharm": {
     "name": "#%% md\n"
    }
   }
  },
  {
   "cell_type": "markdown",
   "source": [
    "# 1. Overview\n",
    "\n",
    "1. Container sequences --> holds references\n",
    "\t• Can hold items of different types, including nested containers. Some examples: list, tuple, and collections.deque.\n",
    "\n",
    "\n",
    "2. Flat sequences --> stores the value\n",
    "\t• Hold items of one simple type. Some examples: str, bytes, and array.array.\n",
    "\n",
    "Note:\n",
    "- Every Python object in memory has a header with metadata --> On a 64-bit Python build, each of those fields takes 8 bytes. That’s why an array of floats is much more compact than a tuple of floats\n",
    "\n",
    "Another way of grouping sequence types is by mutability:\n",
    "1. Mutable sequences\n",
    "\t- For example, bytearray, array.array, and collections.deque, lists, dictionaries, and sets\n",
    "\n",
    "2. Immutable sequences\n",
    "\t- For example, tuple, str, and bytes.\n",
    "\n",
    "![image.png](image/2-1.png)\n"
   ],
   "metadata": {
    "collapsed": false,
    "pycharm": {
     "name": "#%% md\n"
    }
   }
  },
  {
   "cell_type": "markdown",
   "source": [
    "# 2. List Comprehensions and Generator Expressions\n",
    "\n",
    "\n",
    "quick way to build a sequence:\n",
    "- list comprehension/listcomps (if the target is a list)\n",
    "- generator expression/genexps (for other kinds of sequences).\n",
    "\n",
    "## List Comprehensions\n",
    "\n",
    "![image.png](image/2-2.png)\n",
    "![image.png](image/2-3.png)\n",
    "\n",
    "## Generator Expressions\n",
    "- Cân dấu ngoặc  `()`\n",
    "- To initialize `tuples`, `arrays`, and `other types of sequences`, you could also start from a listcomp,\n",
    "- But a genexp (generator expression) saves memory because it yields items one by one using the iterator protocol instead of building a whole list\n",
    "\n",
    "![image.png](image/2-4.png)\n"
   ],
   "metadata": {
    "collapsed": false,
    "pycharm": {
     "name": "#%% md\n"
    }
   }
  },
  {
   "cell_type": "markdown",
   "source": [
    "# Tuples Are Not Just Immutable Lists\n",
    "\n",
    "Tuples do 2 duty:\n",
    " - immutable lists\n",
    " - also as records with no field names.\n",
    "\n",
    "## Tuples as Records:"
   ],
   "metadata": {
    "collapsed": false,
    "pycharm": {
     "name": "#%% md\n"
    }
   }
  },
  {
   "cell_type": "code",
   "execution_count": 1,
   "metadata": {
    "collapsed": true,
    "pycharm": {
     "name": "#%%\n"
    }
   },
   "outputs": [
    {
     "name": "stdout",
     "output_type": "stream",
     "text": [
      "BRA/CE342567\n",
      "ESP/XDA205856\n",
      "USA/31195855\n"
     ]
    }
   ],
   "source": [
    "lax_coordinates = (33.9425, -118.408056)\n",
    "city, year, pop, chg, area = ('Tokyo', 2003, 32_450, 0.66, 8014)\n",
    "\n",
    "traveler_ids = [('USA', '31195855'), ('BRA', 'CE342567'),\n",
    "('ESP', 'XDA205856')]\n",
    "\n",
    "for passport in sorted(traveler_ids):\n",
    "    print('%s/%s' % passport)"
   ]
  },
  {
   "cell_type": "code",
   "execution_count": 2,
   "outputs": [
    {
     "name": "stdout",
     "output_type": "stream",
     "text": [
      "USA\n",
      "BRA\n",
      "ESP\n"
     ]
    }
   ],
   "source": [
    "# _, a dummy variable.\n",
    "for country, _ in traveler_ids:\n",
    "    print(country)"
   ],
   "metadata": {
    "collapsed": false,
    "pycharm": {
     "name": "#%%\n"
    }
   }
  },
  {
   "cell_type": "markdown",
   "source": [
    "## Tuples as Immutable Lists\n",
    "\n",
    "This brings two key benefits:\n",
    "\n",
    "Clarity\n",
    "- When you see a tuple in code, you know its length will never change.\n",
    "\n",
    "Performance\n",
    "- A tuple uses less memory than a list of the same length, and it allows Python to do some optimizations.\n",
    "\n",
    "![image.png](image/2-5.png)"
   ],
   "metadata": {
    "collapsed": false,
    "pycharm": {
     "name": "#%% md\n"
    }
   }
  },
  {
   "cell_type": "markdown",
   "source": [
    "# Unpacking Sequences and Iterables"
   ],
   "metadata": {
    "collapsed": false,
    "pycharm": {
     "name": "#%% md\n"
    }
   }
  },
  {
   "cell_type": "code",
   "execution_count": 3,
   "outputs": [
    {
     "data": {
      "text/plain": "-118.408056"
     },
     "execution_count": 3,
     "metadata": {},
     "output_type": "execute_result"
    }
   ],
   "source": [
    "lax_coordinates = (33.9425, -118.408056)\n",
    "latitude, longitude = lax_coordinates  # unpacking\n",
    "longitude"
   ],
   "metadata": {
    "collapsed": false,
    "pycharm": {
     "name": "#%%\n"
    }
   }
  },
  {
   "cell_type": "code",
   "execution_count": 4,
   "outputs": [
    {
     "data": {
      "text/plain": "(2, 4)"
     },
     "execution_count": 4,
     "metadata": {},
     "output_type": "execute_result"
    }
   ],
   "source": [
    "divmod(20, 8)"
   ],
   "metadata": {
    "collapsed": false,
    "pycharm": {
     "name": "#%%\n"
    }
   }
  },
  {
   "cell_type": "code",
   "execution_count": 5,
   "outputs": [
    {
     "data": {
      "text/plain": "(2, 4)"
     },
     "execution_count": 5,
     "metadata": {},
     "output_type": "execute_result"
    }
   ],
   "source": [
    "t = (20, 8)\n",
    "divmod(*t)"
   ],
   "metadata": {
    "collapsed": false,
    "pycharm": {
     "name": "#%%\n"
    }
   }
  },
  {
   "cell_type": "code",
   "execution_count": 6,
   "outputs": [
    {
     "ename": "TypeError",
     "evalue": "divmod expected 2 arguments, got 1",
     "output_type": "error",
     "traceback": [
      "\u001B[0;31m---------------------------------------------------------------------------\u001B[0m",
      "\u001B[0;31mTypeError\u001B[0m                                 Traceback (most recent call last)",
      "Cell \u001B[0;32mIn[6], line 1\u001B[0m\n\u001B[0;32m----> 1\u001B[0m \u001B[38;5;28;43mdivmod\u001B[39;49m\u001B[43m(\u001B[49m\u001B[43mt\u001B[49m\u001B[43m)\u001B[49m\n",
      "\u001B[0;31mTypeError\u001B[0m: divmod expected 2 arguments, got 1"
     ]
    }
   ],
   "source": [
    "divmod(t)"
   ],
   "metadata": {
    "collapsed": false,
    "pycharm": {
     "name": "#%%\n"
    }
   }
  },
  {
   "cell_type": "code",
   "execution_count": 7,
   "outputs": [
    {
     "data": {
      "text/plain": "'id_rsa.pub'"
     },
     "execution_count": 7,
     "metadata": {},
     "output_type": "execute_result"
    }
   ],
   "source": [
    "import os\n",
    "_, filename = os.path.split('/home/luciano/.ssh/id_rsa.pub')\n",
    "filename"
   ],
   "metadata": {
    "collapsed": false,
    "pycharm": {
     "name": "#%%\n"
    }
   }
  },
  {
   "cell_type": "markdown",
   "source": [
    "Có thể dùng * để thể hiện các giá trị còn lại"
   ],
   "metadata": {
    "collapsed": false,
    "pycharm": {
     "name": "#%% md\n"
    }
   }
  },
  {
   "cell_type": "code",
   "execution_count": 8,
   "outputs": [],
   "source": [
    "a, *body, c, d = range(5)"
   ],
   "metadata": {
    "collapsed": false,
    "pycharm": {
     "name": "#%%\n"
    }
   }
  },
  {
   "cell_type": "code",
   "execution_count": 9,
   "outputs": [
    {
     "data": {
      "text/plain": "(0, [1, 2], 3, 4)"
     },
     "execution_count": 9,
     "metadata": {},
     "output_type": "execute_result"
    }
   ],
   "source": [
    "a, body, c, d"
   ],
   "metadata": {
    "collapsed": false,
    "pycharm": {
     "name": "#%%\n"
    }
   }
  },
  {
   "cell_type": "markdown",
   "source": [
    "Dùng * để defining list, tuple, set literals"
   ],
   "metadata": {
    "collapsed": false,
    "pycharm": {
     "name": "#%% md\n"
    }
   }
  },
  {
   "cell_type": "code",
   "execution_count": 10,
   "outputs": [
    {
     "data": {
      "text/plain": "(0, 1, 2, 3, 4)"
     },
     "execution_count": 10,
     "metadata": {},
     "output_type": "execute_result"
    }
   ],
   "source": [
    "*range(4), 4 #tuple"
   ],
   "metadata": {
    "collapsed": false,
    "pycharm": {
     "name": "#%%\n"
    }
   }
  },
  {
   "cell_type": "code",
   "execution_count": 11,
   "outputs": [
    {
     "data": {
      "text/plain": "[0, 1, 2, 3, 4]"
     },
     "execution_count": 11,
     "metadata": {},
     "output_type": "execute_result"
    }
   ],
   "source": [
    "[*range(4), 4] # list"
   ],
   "metadata": {
    "collapsed": false,
    "pycharm": {
     "name": "#%%\n"
    }
   }
  },
  {
   "cell_type": "code",
   "execution_count": 12,
   "outputs": [
    {
     "data": {
      "text/plain": "{0, 1, 2, 3, 4, 5, 6, 7}"
     },
     "execution_count": 12,
     "metadata": {},
     "output_type": "execute_result"
    }
   ],
   "source": [
    "{*range(4), 4, *(5, 6, 7)} # set"
   ],
   "metadata": {
    "collapsed": false,
    "pycharm": {
     "name": "#%%\n"
    }
   }
  },
  {
   "cell_type": "markdown",
   "source": [
    "### Nested Unpacking"
   ],
   "metadata": {
    "collapsed": false,
    "pycharm": {
     "name": "#%% md\n"
    }
   }
  },
  {
   "cell_type": "code",
   "execution_count": 16,
   "outputs": [
    {
     "name": "stdout",
     "output_type": "stream",
     "text": [
      "City            |  latitude | longitude\n",
      "Mexico City     |   19.4333 |  -99.1333\n",
      "New York-Newark |   40.8086 |  -74.0204\n",
      "São Paulo       |  -23.5478 |  -46.6358\n"
     ]
    }
   ],
   "source": [
    "metro_areas = [\n",
    "    ('Tokyo', 'JP', 36.933, (35.689722, 139.691667)),\n",
    "    ('Delhi NCR', 'IN', 21.935, (28.613889, 77.208889)),\n",
    "    ('Mexico City', 'MX', 20.142, (19.433333, -99.133333)),\n",
    "    ('New York-Newark', 'US', 20.104, (40.808611, -74.020386)),\n",
    "    ('São Paulo', 'BR', 19.649, (-23.547778, -46.635833)),\n",
    "]\n",
    "\n",
    "def main():\n",
    "    print(f'{\"City\":15} | {\"latitude\":>9} | {\"longitude\":>9}')\n",
    "    for name, _, _, (lat, lon) in metro_areas:\n",
    "        if lon <= 0:\n",
    "            print(f'{name:15} | {lat:9.4f} | {lon:9.4f}')\n",
    "\n",
    "if __name__ == '__main__':\n",
    "    main()"
   ],
   "metadata": {
    "collapsed": false,
    "pycharm": {
     "name": "#%%\n"
    }
   }
  },
  {
   "cell_type": "markdown",
   "source": [
    "Mục tiêu của nhiệm vụ giải nén cũng có thể là một danh sách, nhưng các trường hợp sử dụng tốt rất hiếm.\n",
    "- 1 dòng: `[record] = query_returning_single_row()`\n",
    "- 1 cột: `[[field]] = query_returning_single_row_with_single_field()`"
   ],
   "metadata": {
    "collapsed": false,
    "pycharm": {
     "name": "#%% md\n"
    }
   }
  },
  {
   "cell_type": "markdown",
   "source": [
    "# Pattern Matching with Sequences\n",
    "\n",
    "Seq: list, tuple, memoryview, range, array.array, colection.deque\n",
    "\n",
    "match/case ~ switch/case trong C, nhưng nó hỗ trợ destructuring, ví dụ:"
   ],
   "metadata": {
    "collapsed": false,
    "pycharm": {
     "name": "#%% md\n"
    }
   }
  },
  {
   "cell_type": "code",
   "execution_count": 18,
   "outputs": [
    {
     "name": "stdout",
     "output_type": "stream",
     "text": [
      "                |  latitude | longitude\n",
      "Mexico City     |   19.4333 |  -99.1333\n",
      "New York-Newark |   40.8086 |  -74.0204\n",
      "São Paulo       |  -23.5478 |  -46.6358\n"
     ]
    }
   ],
   "source": [
    "metro_areas = [\n",
    "    ('Tokyo', 'JP', 36.933, (35.689722, 139.691667)),\n",
    "    ('Delhi NCR', 'IN', 21.935, (28.613889, 77.208889)),\n",
    "    ('Mexico City', 'MX', 20.142, (19.433333, -99.133333)),\n",
    "    ('New York-Newark', 'US', 20.104, (40.808611, -74.020386)),\n",
    "    ('São Paulo', 'BR', 19.649, (-23.547778, -46.635833)),\n",
    "]\n",
    "\n",
    "def main():\n",
    "    print(f'{\"\":15} | {\"latitude\":>9} | {\"longitude\":>9}')\n",
    "    for record in metro_areas:\n",
    "        match record:\n",
    "            case [name, _, _, (lat, lon)] if lon <= 0:\n",
    "                print(f'{name:15} | {lat:9.4f} | {lon:9.4f}')\n",
    "main()"
   ],
   "metadata": {
    "collapsed": false,
    "pycharm": {
     "name": "#%%\n"
    }
   }
  },
  {
   "cell_type": "markdown",
   "source": [
    "WARNING\n",
    "Instances of `str`, `bytes`, and `bytearray` are not handled as sequences in the context of match/case.\n",
    "\n",
    "Nếu muốn dùng match/case --> convert nó\n",
    "\n",
    "```\n",
    "    match tuple(phone):\n",
    "        case ['1', *rest]:  # North America and Caribbean\n",
    "            ...\n",
    "        case ['2', *rest]:  # Africa and some territories\n",
    "            ...\n",
    "        case ['3' | '4', *rest]:  # Europe\n",
    "            ...\n",
    "```"
   ],
   "metadata": {
    "collapsed": false,
    "pycharm": {
     "name": "#%% md\n"
    }
   }
  },
  {
   "cell_type": "markdown",
   "source": [
    "```\n",
    "case [name, _, _, (lat, lon) as coord]:\n",
    "```"
   ],
   "metadata": {
    "collapsed": false,
    "pycharm": {
     "name": "#%% md\n"
    }
   }
  },
  {
   "cell_type": "markdown",
   "source": [
    "```\n",
    "case [str(name), _, _, (float(lat), float(lon))]:\n",
    "```"
   ],
   "metadata": {
    "collapsed": false,
    "pycharm": {
     "name": "#%% md\n"
    }
   }
  },
  {
   "cell_type": "markdown",
   "source": [
    "```\n",
    "case [str(name), *_, (float(lat), float(lon))]:\n",
    "```\n",
    "\n",
    "The `*_` matches any number of items, without binding them to a variable.\n",
    "\n",
    "- `*extra` instead of `*_` would bind the items to extra as a `list` with 0 or more items."
   ],
   "metadata": {
    "collapsed": false,
    "pycharm": {
     "name": "#%% md\n"
    }
   }
  },
  {
   "cell_type": "markdown",
   "source": [
    "# Pattern Matching Sequences in an Interpreter"
   ],
   "metadata": {
    "collapsed": false,
    "pycharm": {
     "name": "#%% md\n"
    }
   }
  },
  {
   "cell_type": "markdown",
   "source": [
    "Đọc thêm tại: https://norvig.com/lispy.html\n",
    "Chốt lại phần này là về bộ dịch thực hiện chương trình\n",
    "`>> program = \"(begin (define r 10) (* pi (* r r)))\"`\n",
    "\n",
    "`>>> parse(program)`\n",
    "`['begin', ['define', 'r', 10], ['*', 'pi', ['*', 'r', 'r']]]`\n",
    "\n",
    "`>>> eval(parse(program))`\n",
    "`314.1592653589793`\n"
   ],
   "metadata": {
    "collapsed": false,
    "pycharm": {
     "name": "#%% md\n"
    }
   }
  },
  {
   "cell_type": "markdown",
   "source": [
    "# Slicing - dấu \":\"\n",
    "\n",
    "`seq[start:stop:step]`\n",
    "\n",
    "Ví dụ 1:\n",
    "```\n",
    "s = 'abcdefgh'\n",
    "\n",
    "s[::3] --> 'adg'\n",
    "s[::-1] --> 'hgfedcba'\n",
    "s[::-2] --> 'hfdb'\n",
    "```\n",
    "\n",
    "Ví dụ 2:\n",
    "Start là deck(12) --> con Át , Stop là rỗng , Step là 13 để nhảy đến cùng con Át ở chất khác\n",
    "```\n",
    ">>> deck[12::13]\n",
    "[Card(rank='A', suit='spades'), Card(rank='A', suit='diamonds'),\n",
    "Card(rank='A', suit='clubs'), Card(rank='A', suit='hearts')]\n",
    "```\n",
    "\n",
    "Ví dụ 3:\n",
    "```\n",
    ">>> invoice = \"\"\"\n",
    "... 0.....6.................................40........52...55........\n",
    "... 1909  Pimoroni PiBrella                     $17.50    3    $52.50\n",
    "... 1489  6mm Tactile Switch x20                 $4.95    2     $9.90\n",
    "... 1510  Panavise Jr. - PV-201                 $28.00    1    $28.00\n",
    "... 1601  PiTFT Mini Kit 320x240                $34.95    1    $34.95\n",
    "... \"\"\"\n",
    ">>> SKU = slice(0, 6)\n",
    ">>> DESCRIPTION = slice(6, 40)\n",
    ">>> UNIT_PRICE = slice(40, 52)\n",
    ">>> QUANTITY =  slice(52, 55)\n",
    ">>> ITEM_TOTAL = slice(55, None)\n",
    ">>> line_items = invoice.split('\\n')[2:]\n",
    ">>> for item in line_items:\n",
    "...     print(item[UNIT_PRICE], item[DESCRIPTION])\n",
    "...\n",
    "    $17.50   Pimoroni PiBrella\n",
    "     $4.95   6mm Tactile Switch x20\n",
    "```\n",
    "\n",
    "### Multidimensional Slicing (dấu …)\n",
    "Với 2 chiều --> `a[m:n, k:l]`\n",
    "Với n chiều --> for example, if x is a four-dimensional array, `x[i, ...]` is a shortcut for `x[i, :, :, :,]`\n",
    "\n",
    "### Assigning to Slices\n",
    "Slices are not just useful to extract information from sequences; they can also be used to change mutable sequences in place.\n",
    "```\n",
    ">>> l=list(range(10))\n",
    ">>> l[0, 1, 2, 3, 4, 5, 6, 7, 8, 9]\n",
    ">>> l[2:5]=[20,30]\n",
    ">>> l[0, 1, 20, 30, 5, 6, 7, 8, 9]\n",
    ">>> dell[5:7]>>> l[0, 1, 20, 30, 5, 8, 9]\n",
    "```\n"
   ],
   "metadata": {
    "collapsed": false,
    "pycharm": {
     "name": "#%% md\n"
    }
   }
  },
  {
   "cell_type": "markdown",
   "source": [
    "# Using + and * with Sequences\n",
    "```\n",
    ">>> l = [1, 2, 3]\n",
    ">>> l * 5\n",
    "[1, 2, 3, 1, 2, 3, 1, 2, 3, 1, 2, 3, 1, 2, 3]\n",
    "```\n",
    "\n",
    "## Building Lists of Lists\n",
    "Case Đúng:\n",
    "```\n",
    ">>> board=[['_']*3 for i in range(3)]\n",
    ">>> board\n",
    "[['_', '_', '_'], ['_', '_', '_'], ['_', '_', '_']]\n",
    ">>> board[1][2] = 'X'\n",
    ">>> board\n",
    "[['_', '_', '_'], ['_', '_', 'X'], ['_', '_', '_']]\n",
    "```\n",
    "Cái trên bằng với :\n",
    "```\n",
    "\tfor i in range(3):\n",
    "\t...     row = ['_'] * 3\n",
    "\t...     board.append(row)\n",
    "```\n",
    "\n",
    "\n",
    "Case Sai:\n",
    "```\n",
    ">>> weird_board=[['_']*3]*3\n",
    ">>> weird_board\n",
    "[['_', '_', '_'], ['_', '_', '_'], ['_', '_', '_']]\n",
    ">>> weird_board[1][2] = 'O'\n",
    ">>> weird_board\n",
    "[['_', '_', 'O'], ['_', '_', 'O'], ['_', '_', 'O']]\n",
    "```\n",
    "-> Pha này sai, vì nó made of three references to the same inner list. Nó bằng với:\n",
    "```\n",
    "row = ['_'] * 3\n",
    "board = []\n",
    "for i in range(3):\n",
    "    board.append(row)\n",
    "```\n",
    "\n",
    "\n",
    "## += và *= với Sequence\n",
    "+= là `__iadd__` (for “in-place addition”)\n",
    "\n",
    "t = (1,2,3) là immutable\n",
    "t *=2 --> t = (1,2,3,1,2,3)\n",
    "id(t) sẽ ref tới chỗ khác\n",
    "\n",
    "TH đặc biệt, khi immutable (tuple) chứa mutable (list)\n",
    "```\n",
    ">>> t=(1,2,[30,40])\n",
    ">>> t[2]+=[50,60]\n",
    "  Traceback (most recent call last):\n",
    "  File \"<stdin>\", line 1, in <module>TypeError: 'tuple' object does not support item assignment\n",
    ">>> t(1, 2, [30, 40, 50, 60])\n",
    "```\n"
   ],
   "metadata": {
    "collapsed": false,
    "pycharm": {
     "name": "#%% md\n"
    }
   }
  },
  {
   "cell_type": "markdown",
   "source": [
    "# ist.sort Versus the sorted Built-In\n",
    "\n",
    "The `list.sort` method sorts a list __in place__:\n",
    "- without making a copy.\n",
    "- returns None to remind us that it changes the receiver and does not create a new list.\n",
    "- Can not roll back\n",
    "\n",
    "2 loại:\n",
    "\t- sorted(fruits) --> new one\n",
    "\t- fruits.sort() --> in-place\n",
    "\n",
    "Khi sequences được sort\n",
    "--> tối ưu search\n",
    "--> dùng binary search bằng bisect lib\n"
   ],
   "metadata": {
    "collapsed": false,
    "pycharm": {
     "name": "#%% md\n"
    }
   }
  },
  {
   "cell_type": "markdown",
   "source": [
    "# When a List Is Not the Answer\n",
    "\n",
    "For example,\n",
    "\t- Array: saves a lot of memory when you need to handle millions of floating-point values\n",
    "\t- Deque: adding and removing items from opposite ends of a list\n",
    "\t- Set: frequently checks whether an item is present in a collection (e.g., item in my_collection)\n",
    "## Array\n",
    "If a list only contains numbers.\n",
    "TIP\n",
    "As of Python 3.10, the array type does not have an in-place sort method like `list.sort()`. If you need to sort an array, use the built-in sorted function to rebuild the array:\n",
    "\n",
    "`a = array.array(a.typecode, sorted(a))`\n",
    "To keep a sorted array sorted while adding items to it, use the `bisect.insort` function.\n",
    "\n",
    "## Memory Views\n",
    "The built-in memoryview class is a shared-memory sequence type that lets you handle slices of arrays without copying bytes. It was inspired by the NumPy library\n",
    "\n",
    "Ví dụ:\n",
    "Mặt dù mình tranform trên m1, m2\n",
    "Nhưng octets vẫn được thay đổi\n",
    "(Vì memoryview giúp ta share giữa m1,m2 và octets)"
   ],
   "metadata": {
    "collapsed": false,
    "pycharm": {
     "name": "#%% md\n"
    }
   }
  },
  {
   "cell_type": "code",
   "execution_count": 19,
   "outputs": [
    {
     "data": {
      "text/plain": "[0, 1, 2, 3, 4, 5]"
     },
     "execution_count": 19,
     "metadata": {},
     "output_type": "execute_result"
    }
   ],
   "source": [
    "from array import array\n",
    "octets = array('B', range(6)) # typecode 'B'\n",
    "m1 = memoryview(octets)\n",
    "m1.tolist()"
   ],
   "metadata": {
    "collapsed": false,
    "pycharm": {
     "name": "#%%\n"
    }
   }
  },
  {
   "cell_type": "code",
   "execution_count": 20,
   "outputs": [
    {
     "data": {
      "text/plain": "[[0, 1, 2], [3, 4, 5]]"
     },
     "execution_count": 20,
     "metadata": {},
     "output_type": "execute_result"
    }
   ],
   "source": [
    "m2 = m1.cast('B', [2, 3]) # Build new memoryview from that previous one, but with 2 rows and 3 columns.\n",
    "m2.tolist()"
   ],
   "metadata": {
    "collapsed": false,
    "pycharm": {
     "name": "#%%\n"
    }
   }
  },
  {
   "cell_type": "code",
   "execution_count": 21,
   "outputs": [
    {
     "data": {
      "text/plain": "[[0, 1], [2, 3], [4, 5]]"
     },
     "execution_count": 21,
     "metadata": {},
     "output_type": "execute_result"
    }
   ],
   "source": [
    "m3 = m1.cast('B', [3, 2])\n",
    "m3.tolist()"
   ],
   "metadata": {
    "collapsed": false,
    "pycharm": {
     "name": "#%%\n"
    }
   }
  },
  {
   "cell_type": "code",
   "execution_count": 22,
   "outputs": [
    {
     "data": {
      "text/plain": "<memory at 0x7fc4e0f6f440>"
     },
     "execution_count": 22,
     "metadata": {},
     "output_type": "execute_result"
    }
   ],
   "source": [
    "m3"
   ],
   "metadata": {
    "collapsed": false,
    "pycharm": {
     "name": "#%%\n"
    }
   }
  },
  {
   "cell_type": "code",
   "execution_count": 23,
   "outputs": [
    {
     "data": {
      "text/plain": "array('B', [0, 1, 2, 33, 22, 5])"
     },
     "execution_count": 23,
     "metadata": {},
     "output_type": "execute_result"
    }
   ],
   "source": [
    "m2[1,1] = 22\n",
    "m3[1,1] = 33\n",
    "octets # the memory was shared among octets, m1, m2, and m3."
   ],
   "metadata": {
    "collapsed": false,
    "pycharm": {
     "name": "#%%\n"
    }
   }
  },
  {
   "cell_type": "markdown",
   "source": [
    "## Numpy\n",
    "For advanced array and matrix operations\n",
    "\n",
    "`SciPy` is a library, written on top of NumPy, offering many scientific computing algorithms from linear algebra, numerical calculus, and statistics"
   ],
   "metadata": {
    "collapsed": false,
    "pycharm": {
     "name": "#%% md\n"
    }
   }
  },
  {
   "cell_type": "markdown",
   "source": [
    "## Deques and Other Queues\n",
    "\n",
    "But inserting and removing from the head of a list (the 0-index end) is costly because the entire list must be shifted in memory.\n",
    "\n",
    "--> dùng Deque"
   ],
   "metadata": {
    "collapsed": false,
    "pycharm": {
     "name": "#%% md\n"
    }
   }
  },
  {
   "cell_type": "code",
   "execution_count": null,
   "outputs": [],
   "source": [],
   "metadata": {
    "collapsed": false,
    "pycharm": {
     "name": "#%%\n"
    }
   }
  }
 ],
 "metadata": {
  "kernelspec": {
   "display_name": "Python 3",
   "language": "python",
   "name": "python3"
  },
  "language_info": {
   "codemirror_mode": {
    "name": "ipython",
    "version": 2
   },
   "file_extension": ".py",
   "mimetype": "text/x-python",
   "name": "python",
   "nbconvert_exporter": "python",
   "pygments_lexer": "ipython2",
   "version": "2.7.6"
  }
 },
 "nbformat": 4,
 "nbformat_minor": 0
}
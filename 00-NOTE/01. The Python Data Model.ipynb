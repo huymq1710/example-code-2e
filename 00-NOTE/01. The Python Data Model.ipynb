{
 "cells": [
  {
   "cell_type": "markdown",
   "source": [
    "use len(collection) instead of collection.len() --> we call Pythonic\n",
    "\n",
    "`__getitem__` --> call dunder methods / special methods\n",
    "\n",
    "special methods is that they are meant to be called by the Python interpreter, and not by you. You don’t write `my_object.__len__()`. You write len(my_object) and, if my_object is an instance of a user-defined class, then Python calls the `__len__ `method you implemented.\n",
    "\n",
    "Python variable-sized collections written in C include a struct2 called PyVarObject, which has an ob_size field holding the number of items in the collection.\n",
    "\n",
    "Voi for:\n",
    "\t- the statement for i in x: actually causes the invocation of iter(x), which in turn may call `x.__iter__()` if that is available, or use `x.__getitem__()`\n",
    "\n",
    "--> your code should not have many direct calls to special methods. Unless you are doing a lot of metaprogramming ( vì nó nên được implementing thay vì invoking như hàm `__init__ `) + (invoking nó better to call the related built-in function)\n",
    "\n",
    "https://stackoverflow.com/questions/1436703/what-is-the-difference-between-str-and-repr\n",
    "\n",
    "- (This means, in simple terms: almost every object you implement should have a functional `__repr__` that’s usable for understanding the object. Implementing `__str__` is optional: do that if you need a “pretty print” functionality (for example, used by a report generator).\n",
    "\n",
    "- (My rule of thumb: `__repr__` is for developers, `__str__` is for customers.)\n",
    "- In short, the goal of `__repr__` is to be unambiguous and `__str__` is to be readable.\n",
    "\n",
    "Here is a good example:\n",
    "```\n",
    ">>> importdatetime\n",
    ">>> today = datetime.datetime.now()\n",
    ">>> str(today)\n",
    "'2012-03-14 09:21:58.130922'>>> repr(today)\n",
    "'datetime.datetime(2012, 3, 14, 9, 21, 58, 130922)'\n",
    "```\n",
    "` bool(x)` calls `x.__bool__()` and uses the result. If `__bool__` is not implemented, Python tries to invoke `x.__len__()`\n",
    "\n",
    "- Only Sequence is Reversible, because sequences support arbitrary ordering of their contents, while mappings and sets do not.\n",
    "\n",
    "Why len Is Not a Method ?\n",
    "\n",
    "\t- Tính thực tế đánh bại sự thuần khiết\n"
   ],
   "metadata": {
    "collapsed": false,
    "pycharm": {
     "name": "#%% md\n"
    }
   }
  },
  {
   "cell_type": "code",
   "execution_count": null,
   "outputs": [],
   "source": [],
   "metadata": {
    "collapsed": false,
    "pycharm": {
     "name": "#%%\n"
    }
   }
  }
 ],
 "metadata": {
  "kernelspec": {
   "display_name": "Python 3",
   "language": "python",
   "name": "python3"
  },
  "language_info": {
   "codemirror_mode": {
    "name": "ipython",
    "version": 2
   },
   "file_extension": ".py",
   "mimetype": "text/x-python",
   "name": "python",
   "nbconvert_exporter": "python",
   "pygments_lexer": "ipython2",
   "version": "2.7.6"
  }
 },
 "nbformat": 4,
 "nbformat_minor": 0
}
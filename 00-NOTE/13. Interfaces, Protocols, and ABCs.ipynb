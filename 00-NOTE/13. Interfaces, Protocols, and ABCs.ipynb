{
 "cells": [
  {
   "cell_type": "markdown",
   "source": [
    "# Chapter 13. Interfaces, Protocols, and ABCs\n",
    "\n",
    "\"Program to an interface, not an implementation.\""
   ],
   "metadata": {
    "collapsed": false,
    "pycharm": {
     "name": "#%% md\n"
    }
   }
  },
  {
   "cell_type": "markdown",
   "source": [
    "OOP is all about interfaces.\n",
    "\n",
    "Ở Python 3.8, có 4 cách để định nghĩa interfaces, được mô tả trong Typing Map\n",
    "\n",
    "- Duck typing (Chap 1)\n",
    "    - Default\n",
    "    - Tư tưởng: \"If it walks like a duck and quacks like a duck, it must be a duck\".\n",
    "        -  Kiểu hoặc lớp (class) của một đối tượng (object) ít quan trọng hơn phương thức mà nó định nghĩa.\n",
    "- Goose typing (Chap 13)\n",
    "    - Supported by abstract base classes (ABCs)\n",
    "    - Dựa trên runtime check ABCs của object\n",
    "- Static typing (chap 8, 15)\n",
    "    - Hướng tiếp cận của statical languages (Java, C)\n",
    "    - Hỗ trợ bởi `typing` module\n",
    "    - Enforced by external type checkers\n",
    "- Static duck typing\n",
    "    - Phổ biến ở Go\n",
    "    - Hỗ trợ bởi `typing.Protocol`\n",
    "    - Enforced by external type checkers\n",
    "\n",
    "![image.png](image/13-1.png)"
   ],
   "metadata": {
    "collapsed": false,
    "pycharm": {
     "name": "#%% md\n"
    }
   }
  },
  {
   "cell_type": "markdown",
   "source": [
    "Chương này nói về duck typing, goose typing, and static duck typing\n",
    "- static typing chỉ sử dụng các types cụ thể thay vì interface abstractions"
   ],
   "metadata": {
    "collapsed": false,
    "pycharm": {
     "name": "#%% md\n"
    }
   }
  },
  {
   "cell_type": "markdown",
   "source": [
    "## Two Kinds of Protocols\n",
    "\n",
    "So sánh 2 loại Typing (bên trái) với Protocol\n",
    "\n",
    "- Protocols\n",
    "    - VD: Trong network protocols là `GET`, `PUT`\n",
    "    - VD: Trong sequence protocol - method cho phép object như 1 seq\n",
    "        - `__getitem__` method\n",
    "        - `__len__` method (optional)\n",
    "    - --> Protocol is an “informal interface.”"
   ],
   "metadata": {
    "collapsed": false,
    "pycharm": {
     "name": "#%% md\n"
    }
   }
  },
  {
   "cell_type": "markdown",
   "source": [
    "- Dynamic protocol\n",
    "    - informal protocols\n",
    "    - implicit (ngầm định)\n",
    "- Static protocal\n",
    "    - từ Python 3.8 (static duck tying)\n",
    "    - explicit (rõ ràng): `typing.Protocol` subclass, ABCs\n",
    "\n",
    "2 điểm khác biệt chính giữa 2 loại:\n",
    "- Implement\n",
    "    - Dynamic protocal: Object có thể chỉ cần impl 1 phần mà vẫn useful\n",
    "    - Static protocol: Object phải impl mọi method trong protocal class\n",
    "- Verify\n",
    "    - Dynamic protocal: NaN\n",
    "    - Static protocol: By static type checkers"
   ],
   "metadata": {
    "collapsed": false,
    "pycharm": {
     "name": "#%% md\n"
    }
   }
  },
  {
   "cell_type": "markdown",
   "source": [
    "The rest of this chapter covers dynamic and static protocols, as well as ABCs."
   ],
   "metadata": {
    "collapsed": false,
    "pycharm": {
     "name": "#%% md\n"
    }
   }
  },
  {
   "cell_type": "markdown",
   "source": [
    "## Programming Ducks\n",
    "\n",
    "Deep driver\n",
    "Make it safer while preserving its major strength (flexibility)"
   ],
   "metadata": {
    "collapsed": false,
    "pycharm": {
     "name": "#%% md\n"
    }
   }
  },
  {
   "cell_type": "markdown",
   "source": [
    "Bắt đầu dynamic protocols với __sequence__ và __iterable__ protocols."
   ],
   "metadata": {
    "collapsed": false,
    "pycharm": {
     "name": "#%% md\n"
    }
   }
  },
  {
   "cell_type": "markdown",
   "source": [
    "### Python Digs(đào) Sequences\n",
    "\n",
    "Triết lý của Python Data Model là work với nhiều dynamic protocols thiết yếu nhất có thể.\n",
    "\n",
    "Hình 13-2 cho thấy cách `Sequence` interface được chính thức hóa dưới dạng ABC. Mô tả những gì mà một full-fledged `Sequence` sẽ hỗ trợ.\n",
    "\n",
    "![image.png](image/13-2.png)"
   ],
   "metadata": {
    "collapsed": false,
    "pycharm": {
     "name": "#%% md\n"
    }
   }
  },
  {
   "cell_type": "markdown",
   "source": [
    "Từ 13-2, thấy rằng subclass đúng của Seg phải imple `__getitem__` và `__len__`. Những methods khác là cụ thể -> subclass sẽ kế thừa nó/viết lại 1 cái phù hợp hơn.\n",
    "- VD: Khi ko có `__iter__`, Python dự phòng rằng nếu có `__getitem__`, nó sẽ chạy index start ở 0."
   ],
   "metadata": {
    "collapsed": false,
    "pycharm": {
     "name": "#%% md\n"
    }
   }
  },
  {
   "cell_type": "markdown",
   "source": [
    "TIP\n",
    "\n",
    "The ABCs are useful as starting points for new classes, and to support explicit type checking at runtime (a.k.a. goose typing) as well as type hints for static type checkers."
   ],
   "metadata": {
    "collapsed": false,
    "pycharm": {
     "name": "#%% md\n"
    }
   }
  },
  {
   "cell_type": "markdown",
   "source": [
    "Ví dụ sau không là subclass abc.Sequence, nhưng imple `__getitem__` và `__len__`"
   ],
   "metadata": {
    "collapsed": false,
    "pycharm": {
     "name": "#%% md\n"
    }
   }
  },
  {
   "cell_type": "code",
   "execution_count": 1,
   "metadata": {
    "collapsed": true,
    "pycharm": {
     "name": "#%%\n"
    }
   },
   "outputs": [],
   "source": [
    "from collections import namedtuple\n",
    "\n",
    "Card = namedtuple('Card', ['rank', 'suit'])\n",
    "\n",
    "class FrenchDeck:\n",
    "    ranks = [str(n) for n in range(2, 11)] + list('JQKA')\n",
    "    suits = 'spades diamonds clubs hearts'.split()\n",
    "\n",
    "    def __init__(self):\n",
    "        self._cards = [Card(rank, suit) for suit in self.suits\n",
    "                       for rank in self.ranks]\n",
    "\n",
    "    def __len__(self):\n",
    "        return len(self._cards)\n",
    "\n",
    "    def __getitem__(self, position):\n",
    "        return self._cards[position]"
   ]
  },
  {
   "cell_type": "markdown",
   "source": [
    "### Monkey Patching: Implementing a Protocol at Runtime\n",
    "\n",
    "Monkey patching is dynamically changing a module, class, or function at runtime, to add features or fix bugs.\n",
    "\n",
    "`FrenchDeck` ở trên thiếu đi tính năng `shuffle`. Nhưng theo Pythonic, vì ta đã làm nó act như 1 Seq -> nó ko cần viết 1 hàm shuffle của nó, mà có thể dùng `random.shuffle`"
   ],
   "metadata": {
    "collapsed": false,
    "pycharm": {
     "name": "#%% md\n"
    }
   }
  },
  {
   "cell_type": "markdown",
   "source": [
    "TIP\n",
    "\n",
    "Khi bạn tuân theo các protocols đã được thiết lập, bạn sẽ cải thiện cơ hội tận dụng thư viện tiêu chuẩn và mã của bên thứ ba,, thanks to duck typing."
   ],
   "metadata": {
    "collapsed": false,
    "pycharm": {
     "name": "#%% md\n"
    }
   }
  },
  {
   "cell_type": "code",
   "execution_count": 5,
   "outputs": [
    {
     "data": {
      "text/plain": "[Card(rank='2', suit='spades'),\n Card(rank='3', suit='spades'),\n Card(rank='4', suit='spades'),\n Card(rank='5', suit='spades'),\n Card(rank='6', suit='spades'),\n Card(rank='7', suit='spades'),\n Card(rank='8', suit='spades'),\n Card(rank='9', suit='spades'),\n Card(rank='10', suit='spades'),\n Card(rank='J', suit='spades'),\n Card(rank='Q', suit='spades'),\n Card(rank='K', suit='spades'),\n Card(rank='A', suit='spades'),\n Card(rank='2', suit='diamonds'),\n Card(rank='3', suit='diamonds'),\n Card(rank='4', suit='diamonds'),\n Card(rank='5', suit='diamonds'),\n Card(rank='6', suit='diamonds'),\n Card(rank='7', suit='diamonds'),\n Card(rank='8', suit='diamonds'),\n Card(rank='9', suit='diamonds'),\n Card(rank='10', suit='diamonds'),\n Card(rank='J', suit='diamonds'),\n Card(rank='Q', suit='diamonds'),\n Card(rank='K', suit='diamonds'),\n Card(rank='A', suit='diamonds'),\n Card(rank='2', suit='clubs'),\n Card(rank='3', suit='clubs'),\n Card(rank='4', suit='clubs'),\n Card(rank='5', suit='clubs'),\n Card(rank='6', suit='clubs'),\n Card(rank='7', suit='clubs'),\n Card(rank='8', suit='clubs'),\n Card(rank='9', suit='clubs'),\n Card(rank='10', suit='clubs'),\n Card(rank='J', suit='clubs'),\n Card(rank='Q', suit='clubs'),\n Card(rank='K', suit='clubs'),\n Card(rank='A', suit='clubs'),\n Card(rank='2', suit='hearts'),\n Card(rank='3', suit='hearts'),\n Card(rank='4', suit='hearts'),\n Card(rank='5', suit='hearts'),\n Card(rank='6', suit='hearts'),\n Card(rank='7', suit='hearts'),\n Card(rank='8', suit='hearts'),\n Card(rank='9', suit='hearts'),\n Card(rank='10', suit='hearts'),\n Card(rank='J', suit='hearts'),\n Card(rank='Q', suit='hearts'),\n Card(rank='K', suit='hearts'),\n Card(rank='A', suit='hearts')]"
     },
     "execution_count": 5,
     "metadata": {},
     "output_type": "execute_result"
    }
   ],
   "source": [
    "# shuffle operates in place, by swapping items inside the collection\n",
    "from random import shuffle\n",
    "deck = FrenchDeck()\n",
    "list(deck)"
   ],
   "metadata": {
    "collapsed": false,
    "pycharm": {
     "name": "#%%\n"
    }
   }
  },
  {
   "cell_type": "code",
   "execution_count": 6,
   "outputs": [
    {
     "ename": "TypeError",
     "evalue": "'FrenchDeck' object does not support item assignment",
     "output_type": "error",
     "traceback": [
      "\u001B[0;31m---------------------------------------------------------------------------\u001B[0m",
      "\u001B[0;31mTypeError\u001B[0m                                 Traceback (most recent call last)",
      "Cell \u001B[0;32mIn[6], line 1\u001B[0m\n\u001B[0;32m----> 1\u001B[0m \u001B[43mshuffle\u001B[49m\u001B[43m(\u001B[49m\u001B[43mdeck\u001B[49m\u001B[43m)\u001B[49m\n",
      "File \u001B[0;32m~/opt/anaconda3/envs/python310/lib/python3.10/random.py:394\u001B[0m, in \u001B[0;36mRandom.shuffle\u001B[0;34m(self, x, random)\u001B[0m\n\u001B[1;32m    391\u001B[0m     \u001B[38;5;28;01mfor\u001B[39;00m i \u001B[38;5;129;01min\u001B[39;00m \u001B[38;5;28mreversed\u001B[39m(\u001B[38;5;28mrange\u001B[39m(\u001B[38;5;241m1\u001B[39m, \u001B[38;5;28mlen\u001B[39m(x))):\n\u001B[1;32m    392\u001B[0m         \u001B[38;5;66;03m# pick an element in x[:i+1] with which to exchange x[i]\u001B[39;00m\n\u001B[1;32m    393\u001B[0m         j \u001B[38;5;241m=\u001B[39m randbelow(i \u001B[38;5;241m+\u001B[39m \u001B[38;5;241m1\u001B[39m)\n\u001B[0;32m--> 394\u001B[0m         x[i], x[j] \u001B[38;5;241m=\u001B[39m x[j], x[i]\n\u001B[1;32m    395\u001B[0m \u001B[38;5;28;01melse\u001B[39;00m:\n\u001B[1;32m    396\u001B[0m     _warn(\u001B[38;5;124m'\u001B[39m\u001B[38;5;124mThe *random* parameter to shuffle() has been deprecated\u001B[39m\u001B[38;5;130;01m\\n\u001B[39;00m\u001B[38;5;124m'\u001B[39m\n\u001B[1;32m    397\u001B[0m           \u001B[38;5;124m'\u001B[39m\u001B[38;5;124msince Python 3.9 and will be removed in a subsequent \u001B[39m\u001B[38;5;124m'\u001B[39m\n\u001B[1;32m    398\u001B[0m           \u001B[38;5;124m'\u001B[39m\u001B[38;5;124mversion.\u001B[39m\u001B[38;5;124m'\u001B[39m,\n\u001B[1;32m    399\u001B[0m           \u001B[38;5;167;01mDeprecationWarning\u001B[39;00m, \u001B[38;5;241m2\u001B[39m)\n",
      "\u001B[0;31mTypeError\u001B[0m: 'FrenchDeck' object does not support item assignment"
     ]
    }
   ],
   "source": [
    "shuffle(deck)\n",
    "# error vì FrenchDeck chỉ imple immutable seq protocal --> không thể shuffle in place\n",
    "# --> Muốn nó là mutable seq, cần cung cấp __setitem__"
   ],
   "metadata": {
    "collapsed": false,
    "pycharm": {
     "name": "#%%\n"
    }
   }
  },
  {
   "cell_type": "code",
   "execution_count": 8,
   "outputs": [
    {
     "data": {
      "text/plain": "[Card(rank='K', suit='spades'),\n Card(rank='J', suit='diamonds'),\n Card(rank='Q', suit='clubs'),\n Card(rank='9', suit='hearts'),\n Card(rank='9', suit='diamonds')]"
     },
     "execution_count": 8,
     "metadata": {},
     "output_type": "execute_result"
    }
   ],
   "source": [
    "# Fix nó ở runtime, tương tác với console\n",
    "# deck, position, card thay vì self, key, value để chỉ rằng methods nên bắt đầu từ 1 func đơn giản và đặt tên tham số đầu là self chỉ là 1 quy ước --> đặt vậy OK vì mình viết nó ở console.\n",
    "def set_card(deck, position, card):\n",
    "    deck._cards[position] = card\n",
    "\n",
    "FrenchDeck.__setitem__ = set_card # <-- Monkey Patching\n",
    "shuffle(deck)\n",
    "deck[:5]"
   ],
   "metadata": {
    "collapsed": false,
    "pycharm": {
     "name": "#%%\n"
    }
   }
  },
  {
   "cell_type": "markdown",
   "source": [
    "Phần tiếp theo show một số code patterns để phát hiện các dynamic protocols mà không cần dùng đến các kiểm tra rõ ràng."
   ],
   "metadata": {
    "collapsed": false,
    "pycharm": {
     "name": "#%% md\n"
    }
   }
  },
  {
   "cell_type": "markdown",
   "source": [
    "### Defensive Programming and “Fail Fast”\n",
    "\n",
    "In a dynamically typed language, “fail fast” is excellent advice for safer and easier-to-maintain programs.\n",
    "- Failing fast means raising runtime errors as soon as possible\n",
    "    - VD: rejecting invalid arguments right a the beginning of a function body.\n",
    "\n"
   ],
   "metadata": {
    "collapsed": false,
    "pycharm": {
     "name": "#%% md\n"
    }
   }
  },
  {
   "cell_type": "code",
   "execution_count": null,
   "outputs": [],
   "source": [
    "# VD\n",
    "# Ngay lập tức build list từ iterable\n",
    "# Nếu iterable sai kiểu , ngay lập tức fail fast: TypeError\n",
    "def __init__(self, iterable):\n",
    "    self._balls = list(iterable)\n",
    "\n",
    "# Nếu không làm vậy, chương trình sẽ vẫn raise khi 1 hàm nào đó gọi self._balls mà không phải là list --> khi đó khó tìm ra root cause.\n",
    "\n",
    "# Tuy nhiên, gọi list() có thể tệ nếu ta cần change nó in-place như ví dụ shuffle.\n",
    "# Khi đó, runtime check `isinstance(x, abc.MutableSequence)` hoặc `len()` sẽ cần đến"
   ],
   "metadata": {
    "collapsed": false,
    "pycharm": {
     "name": "#%%\n"
    }
   }
  },
  {
   "cell_type": "markdown",
   "source": [
    "Ở ví dụ trên, type hint sẽ catch đc problem sớm hơn, nhưng không phải catch đc mọi thứ.\n",
    "- `Any` type\n",
    "- Không được enforced ở runtime\n",
    "\n",
    "\n",
    "--> Fail fast là tuyến phòng thủ cuối"
   ],
   "metadata": {
    "collapsed": false,
    "pycharm": {
     "name": "#%% md\n"
    }
   }
  },
  {
   "cell_type": "code",
   "execution_count": null,
   "outputs": [],
   "source": [
    "# Ví dụ 2: Defensive code + duck typing để handle việc thay đổi biến field_names\n",
    "\n",
    "# Example 13-5. Duck typing to handle a string or an iterable of strings\n",
    "field_names = 'huy, mac'\n",
    "try:\n",
    "        field_names = field_names.replace(',', ' ').split()\n",
    "except AttributeError:\n",
    "    pass\n",
    "field_names = tuple(field_names)\n",
    "if not all(s.isidentifier() for s in field_names):\n",
    "    raise ValueError('field_names must all be valid identifiers')"
   ],
   "metadata": {
    "collapsed": false,
    "pycharm": {
     "name": "#%%\n"
    }
   }
  },
  {
   "cell_type": "markdown",
   "source": [
    "--> duck typing is more expressive than static type hints\n",
    "```python\n",
    "def namedtuple(\n",
    "        typename: str,\n",
    "        field_names: Union[str, Iterable[str]],\n",
    "        *,\n",
    "        # rest of signature omitted\n",
    "```"
   ],
   "metadata": {
    "collapsed": false,
    "pycharm": {
     "name": "#%% md\n"
    }
   }
  },
  {
   "cell_type": "markdown",
   "source": [
    "Giờ, move sang loại runtime type check rõ ràng hơn: Goose typing"
   ],
   "metadata": {
    "collapsed": false,
    "pycharm": {
     "name": "#%% md\n"
    }
   }
  },
  {
   "cell_type": "markdown",
   "source": [
    "## Goose Typing\n",
    "\n",
    "ABCs for runtime type check\n",
    "\n",
    "Python doesn’t have an `interface` keyword. We use `abstract base classes (ABCs`) to define interfaces for explicit type checking at runtime—also supported by static type checkers.\n",
    "- ABCs introduce virtual subclasses\n",
    "    - which are classes that don’t inherit from a class but are still recognized by `isinstance()` and `issubclass()`\n",
    "\n",
    "goose typing đòi hỏi\n",
    "- Subclassing từ ABCs để làm nó rõ ràng rằng bạn đang triển khai một giao diện được xác định trước đó\n",
    "- Runtime type check sử dụng ABCs thay vì các lớp cụ thể làm đối số thứ hai cho hàm `isinstance` và `issubclass`.\n",
    "    - Nếu dùng lớp cụ thể -> type check giời hạn tính đa hình trong OOP"
   ],
   "metadata": {
    "collapsed": false,
    "pycharm": {
     "name": "#%% md\n"
    }
   }
  },
  {
   "cell_type": "markdown",
   "source": [
    "ABCs có nghĩa là gói gọn các khái niệm, được giới thiệu qua 1 framework. Hầu hết ko cần viết thêm ABCs mới, chỉ cần sử dụng các ABCs đã có sẵn"
   ],
   "metadata": {
    "collapsed": false,
    "pycharm": {
     "name": "#%% md\n"
    }
   }
  },
  {
   "cell_type": "markdown",
   "source": [
    "### Subclassing an ABC\n"
   ],
   "metadata": {
    "collapsed": false,
    "pycharm": {
     "name": "#%% md\n"
    }
   }
  },
  {
   "cell_type": "code",
   "execution_count": 3,
   "outputs": [
    {
     "ename": "TypeError",
     "evalue": "Can't instantiate abstract class FrenchDeck2 with abstract methods __delitem__, insert",
     "output_type": "error",
     "traceback": [
      "\u001B[0;31m---------------------------------------------------------------------------\u001B[0m",
      "\u001B[0;31mTypeError\u001B[0m                                 Traceback (most recent call last)",
      "Cell \u001B[0;32mIn[3], line 25\u001B[0m\n\u001B[1;32m     22\u001B[0m         \u001B[38;5;28mself\u001B[39m\u001B[38;5;241m.\u001B[39m_cards[position] \u001B[38;5;241m=\u001B[39m value\n\u001B[1;32m     24\u001B[0m \u001B[38;5;28;01mfrom\u001B[39;00m \u001B[38;5;21;01mrandom\u001B[39;00m \u001B[38;5;28;01mimport\u001B[39;00m shuffle\n\u001B[0;32m---> 25\u001B[0m deck \u001B[38;5;241m=\u001B[39m \u001B[43mFrenchDeck2\u001B[49m\u001B[43m(\u001B[49m\u001B[43m)\u001B[49m\n\u001B[1;32m     26\u001B[0m \u001B[38;5;28mlist\u001B[39m(deck)\n",
      "\u001B[0;31mTypeError\u001B[0m: Can't instantiate abstract class FrenchDeck2 with abstract methods __delitem__, insert"
     ]
    }
   ],
   "source": [
    "# Example 13-6. frenchdeck2.py: FrenchDeck2, a subclass of collections.MutableSequence\n",
    "\n",
    "from collections import namedtuple, abc\n",
    "\n",
    "Card = namedtuple('Card', ['rank', 'suit'])\n",
    "\n",
    "class FrenchDeck2(abc.MutableSequence):\n",
    "    ranks = [str(n) for n in range(2, 11)] + list('JQKA')\n",
    "    suits = 'spades diamonds clubs hearts'.split()\n",
    "\n",
    "    def __init__(self):\n",
    "        self._cards = [Card(rank, suit) for suit in self.suits\n",
    "                       for rank in self.ranks]\n",
    "\n",
    "    def __len__(self):\n",
    "        return len(self._cards)\n",
    "\n",
    "    def __getitem__(self, position):\n",
    "        return self._cards[position]\n",
    "\n",
    "    def __setitem__(self, position, value):  # <1> Đủ để ta shuffle rồi\n",
    "        self._cards[position] = value\n",
    "\n",
    "from random import shuffle\n",
    "deck = FrenchDeck2()\n",
    "list(deck)"
   ],
   "metadata": {
    "collapsed": false,
    "pycharm": {
     "name": "#%%\n"
    }
   }
  },
  {
   "cell_type": "code",
   "execution_count": 4,
   "outputs": [
    {
     "data": {
      "text/plain": "[Card(rank='2', suit='spades'),\n Card(rank='3', suit='spades'),\n Card(rank='4', suit='spades'),\n Card(rank='5', suit='spades'),\n Card(rank='6', suit='spades'),\n Card(rank='7', suit='spades'),\n Card(rank='8', suit='spades'),\n Card(rank='9', suit='spades'),\n Card(rank='10', suit='spades'),\n Card(rank='J', suit='spades'),\n Card(rank='Q', suit='spades'),\n Card(rank='K', suit='spades'),\n Card(rank='A', suit='spades'),\n Card(rank='2', suit='diamonds'),\n Card(rank='3', suit='diamonds'),\n Card(rank='4', suit='diamonds'),\n Card(rank='5', suit='diamonds'),\n Card(rank='6', suit='diamonds'),\n Card(rank='7', suit='diamonds'),\n Card(rank='8', suit='diamonds'),\n Card(rank='9', suit='diamonds'),\n Card(rank='10', suit='diamonds'),\n Card(rank='J', suit='diamonds'),\n Card(rank='Q', suit='diamonds'),\n Card(rank='K', suit='diamonds'),\n Card(rank='A', suit='diamonds'),\n Card(rank='2', suit='clubs'),\n Card(rank='3', suit='clubs'),\n Card(rank='4', suit='clubs'),\n Card(rank='5', suit='clubs'),\n Card(rank='6', suit='clubs'),\n Card(rank='7', suit='clubs'),\n Card(rank='8', suit='clubs'),\n Card(rank='9', suit='clubs'),\n Card(rank='10', suit='clubs'),\n Card(rank='J', suit='clubs'),\n Card(rank='Q', suit='clubs'),\n Card(rank='K', suit='clubs'),\n Card(rank='A', suit='clubs'),\n Card(rank='2', suit='hearts'),\n Card(rank='3', suit='hearts'),\n Card(rank='4', suit='hearts'),\n Card(rank='5', suit='hearts'),\n Card(rank='6', suit='hearts'),\n Card(rank='7', suit='hearts'),\n Card(rank='8', suit='hearts'),\n Card(rank='9', suit='hearts'),\n Card(rank='10', suit='hearts'),\n Card(rank='J', suit='hearts'),\n Card(rank='Q', suit='hearts'),\n Card(rank='K', suit='hearts'),\n Card(rank='A', suit='hearts')]"
     },
     "execution_count": 4,
     "metadata": {},
     "output_type": "execute_result"
    }
   ],
   "source": [
    "# Example 13-6. frenchdeck2.py: FrenchDeck2, a subclass of collections.MutableSequence\n",
    "\n",
    "from collections import namedtuple, abc\n",
    "\n",
    "Card = namedtuple('Card', ['rank', 'suit'])\n",
    "\n",
    "class FrenchDeck2(abc.MutableSequence):\n",
    "    ranks = [str(n) for n in range(2, 11)] + list('JQKA')\n",
    "    suits = 'spades diamonds clubs hearts'.split()\n",
    "\n",
    "    def __init__(self):\n",
    "        self._cards = [Card(rank, suit) for suit in self.suits\n",
    "                       for rank in self.ranks]\n",
    "\n",
    "    def __len__(self):\n",
    "        return len(self._cards)\n",
    "\n",
    "    def __getitem__(self, position):\n",
    "        return self._cards[position]\n",
    "\n",
    "    def __setitem__(self, position, value):  # <1> Đủ để ta shuffle rồi\n",
    "        self._cards[position] = value\n",
    "\n",
    "    def __delitem__(self, position):  # <2> Nhưng subclassing abc.MutableSequence đòi hỏi ta cần imple del nữa (khác với Duck typing)\n",
    "        del self._cards[position]\n",
    "\n",
    "    def insert(self, position, value):  # <3> Và yêu cầu cần imple cả insert\n",
    "        self._cards.insert(position, value)\n",
    "from random import shuffle\n",
    "deck = FrenchDeck2()\n",
    "list(deck)"
   ],
   "metadata": {
    "collapsed": false,
    "pycharm": {
     "name": "#%%\n"
    }
   }
  },
  {
   "cell_type": "markdown",
   "source": [
    "![image.png](image/13-3.png)\n",
    "\n",
    "MutableSequence ABC và superclass của nó từ collections.abc\n",
    "- In nghiêng là abstract class/method"
   ],
   "metadata": {
    "collapsed": false,
    "pycharm": {
     "name": "#%% md\n"
    }
   }
  },
  {
   "cell_type": "markdown",
   "source": [
    "--> Để dùng ABCs, cần biết cái gì availble. Xem phần tiếp"
   ],
   "metadata": {
    "collapsed": false,
    "pycharm": {
     "name": "#%% md\n"
    }
   }
  },
  {
   "cell_type": "markdown",
   "source": [
    "### ABCs in the Standard Library\n",
    "\n",
    "Đây là list các ABCs:\n",
    "https://docs.python.org/3/library/collections.abc.html#collections-abstract-base-classes\n",
    "\n",
    "- Hầu hết ở collection.abc module\n",
    "\n",
    "Figure 13-4: 17 ABCs defined trong `collections.abc`\n",
    "\n",
    "![](image/13-4.png)\n",
    "\n",
    "- Iterable, Container, Sized:\n",
    "    - Mọi Collection đề kế thừa từ ABCs này và imple các protocol thích hợp\n",
    "    - Iterable: `__iter__`\n",
    "    - Container: `in` - `__contains__`\n",
    "    - Sized: `len()` - `__len__`\n",
    "\n",
    "- Sequence, Mapping, Set:\n",
    "    - main immutable collection types, mỗi loại có 1 mutable subclass\n",
    "\n",
    "- MappingView\n",
    "    - Các object trả về từ `.items()`, `.keys()`, và `.values()` define trong `ItemsView`, `KeysView` và `ValuesView`\n",
    "\n",
    "- Callable, Hashable\n",
    "    - Hỗ trợ type check object là callable/hashable.\n",
    "        - `callable(obj)` hơn là `insinstance(obj, Callable)`\n",
    "        - `hash(obj)` hơn là `insinstance(obj, Hashable)`:\n",
    "                - False -> object ko thể hash\n",
    "                - True -> obj có imple `__hash__` --> có TH dương tính giả (false positive)\n",
    "                - bởi vậy, dùng `hash(obj)`\n"
   ],
   "metadata": {
    "collapsed": false,
    "pycharm": {
     "name": "#%% md\n"
    }
   }
  },
  {
   "cell_type": "markdown",
   "source": [
    "Ok, giờ thực hành imple goose typing.\n",
    "Mục tiêu để hiểu cách đọc source code của ABCs\n",
    "\n",
    "### Defining and Using an ABC"
   ],
   "metadata": {
    "collapsed": false,
    "pycharm": {
     "name": "#%% md\n"
    }
   }
  },
  {
   "cell_type": "markdown",
   "source": [
    "> \"ABC, giống như bộ mô tả và siêu dữ liệu, là công cụ để xây dựng khung. Do đó, chỉ một số ít các nhà phát triển Python có thể tạo ABC mà không áp đặt các giới hạn vô lý và làm việc không cần thiết cho các lập trình viên đồng nghiệp.\""
   ],
   "metadata": {
    "collapsed": false,
    "pycharm": {
     "name": "#%% md\n"
    }
   }
  },
  {
   "cell_type": "markdown",
   "source": [
    "Gọi ABCs thay vì các kiểu rõ ràng trong func argument type hint mang lại sự linh hoạt hơn cho người gọi."
   ],
   "metadata": {
    "collapsed": false,
    "pycharm": {
     "name": "#%% md\n"
    }
   }
  },
  {
   "cell_type": "markdown",
   "source": [
    "VD: tạo ADAM - ads management framework. Hỗ trợ nonrepeating random-picking\n",
    "- ABCs trên là `Tombola` (~ xổ số)\n",
    "    - 2 abstract methods: (in nghiêng)\n",
    "        - `.load(...)`\n",
    "        - `.pick(...)`\n",
    "    - 2 concrete methods:\n",
    "        - `.loaded(...)`\n",
    "        - `.inspect()`: Return `tuple` từ các items hiện có trong container\n",
    "\n",
    "Hình 13-5 Tombola ABC và ba triển khai cụ thể.\n",
    "\n",
    "![](image/13-5.png)\n",
    "\n",
    "- Nét đứt --> dùng cho interface implementation.\n"
   ],
   "metadata": {
    "collapsed": false,
    "pycharm": {
     "name": "#%% md\n"
    }
   }
  },
  {
   "cell_type": "code",
   "execution_count": 2,
   "outputs": [],
   "source": [
    "# tag::TOMBOLA_ABC[]\n",
    "\n",
    "import abc\n",
    "\n",
    "class Tombola(abc.ABC):  # <1> define an ABC, subclass abc.ABC\n",
    "\n",
    "    @abc.abstractmethod\n",
    "    def load(self, iterable):  # <2> Abstract method đc mask bằng @abc.abstractmethod\n",
    "        \"\"\"Add items from an iterable.\"\"\"\n",
    "\n",
    "    @abc.abstractmethod\n",
    "    def pick(self):  # <3>\n",
    "        \"\"\"Remove item at random, returning it.\n",
    "\n",
    "        This method should raise `LookupError` when the instance is empty.\n",
    "        \"\"\"\n",
    "\n",
    "    def loaded(self):  # <4>\n",
    "        \"\"\"Return `True` if there's at least 1 item, `False` otherwise.\"\"\"\n",
    "        # Chưa tối ưu, build 1 tuple chỉ để check bool\n",
    "        return bool(self.inspect())  # <5>\n",
    "\n",
    "    def inspect(self):\n",
    "        # Chưa tối ưu, mục tiêu chỉ là chỉ ra\n",
    "        # các method cụ thể chỉ phụ thuộc vào các method trong interface\n",
    "        # Các subclass có thể ghi đè\n",
    "        \"\"\"Return a sorted tuple with the items currently inside.\"\"\"\n",
    "        items = []\n",
    "        while True:  # <6>\n",
    "            try:\n",
    "                items.append(self.pick())\n",
    "            except LookupError:\n",
    "                break\n",
    "        self.load(items)  # <7>\n",
    "        return tuple(items)\n",
    "\n",
    "\n",
    "# end::TOMBOLA_ABC[]\n",
    "\n",
    "# 5: Concrete methods in an ABC must rely only on the interface defined by the ABC\n",
    "# (i.e., other concrete or abstract methods or properties of the ABC)."
   ],
   "metadata": {
    "collapsed": false,
    "pycharm": {
     "name": "#%%\n"
    }
   }
  },
  {
   "cell_type": "markdown",
   "source": [
    "TIP\n",
    "1 abstract method có thể có implementation. Subclass vẫn phải viết imple của riêng nó, nhưng vẫn có thể invoke abstract method bằng `super()` thay vì triển khai từ đầu."
   ],
   "metadata": {
    "collapsed": false,
    "pycharm": {
     "name": "#%% md\n"
    }
   }
  },
  {
   "cell_type": "markdown",
   "source": [
    "![](image/13-6.png)"
   ],
   "metadata": {
    "collapsed": false,
    "pycharm": {
     "name": "#%% md\n"
    }
   }
  },
  {
   "cell_type": "code",
   "execution_count": 3,
   "outputs": [
    {
     "ename": "TypeError",
     "evalue": "Can't instantiate abstract class Fake with abstract method load",
     "output_type": "error",
     "traceback": [
      "\u001B[0;31m---------------------------------------------------------------------------\u001B[0m",
      "\u001B[0;31mTypeError\u001B[0m                                 Traceback (most recent call last)",
      "Cell \u001B[0;32mIn[3], line 5\u001B[0m\n\u001B[1;32m      2\u001B[0m     \u001B[38;5;28;01mdef\u001B[39;00m \u001B[38;5;21mpick\u001B[39m(\u001B[38;5;28mself\u001B[39m):\n\u001B[1;32m      3\u001B[0m         \u001B[38;5;28;01mreturn\u001B[39;00m \u001B[38;5;241m13\u001B[39m\n\u001B[0;32m----> 5\u001B[0m f \u001B[38;5;241m=\u001B[39m \u001B[43mFake\u001B[49m\u001B[43m(\u001B[49m\u001B[43m)\u001B[49m\n",
      "\u001B[0;31mTypeError\u001B[0m: Can't instantiate abstract class Fake with abstract method load"
     ]
    }
   ],
   "source": [
    "class Fake(Tombola):\n",
    "    def pick(self):\n",
    "        return 13\n",
    "\n",
    "f = Fake()"
   ],
   "metadata": {
    "collapsed": false,
    "pycharm": {
     "name": "#%%\n"
    }
   }
  },
  {
   "cell_type": "markdown",
   "source": [
    "### ABC Syntax Details\n",
    "\n",
    "For example, the preferred way to declare an abstract class method is:\n",
    "```python\n",
    "class MyABC(abc.ABC):\n",
    "    @classmethod\n",
    "    @abc.abstractmethod\n",
    "    def an_abstract_classmethod(cls, ...):\n",
    "        pass\n",
    "```"
   ],
   "metadata": {
    "collapsed": false,
    "pycharm": {
     "name": "#%% md\n"
    }
   }
  },
  {
   "cell_type": "markdown",
   "source": [
    "### Subclassing an ABC\n",
    "Triển khai 2 subclass cụ thể"
   ],
   "metadata": {
    "collapsed": false,
    "pycharm": {
     "name": "#%% md\n"
    }
   }
  },
  {
   "cell_type": "code",
   "execution_count": null,
   "outputs": [],
   "source": [
    "# tag::TOMBOLA_BINGO[]\n",
    "\n",
    "import random\n",
    "\n",
    "class BingoCage(Tombola):  # <1>\n",
    "\n",
    "    def __init__(self, items):\n",
    "        self._randomizer = random.SystemRandom()  # <2>\n",
    "        self._items = []\n",
    "        self.load(items)  # <3>\n",
    "\n",
    "    def load(self, items):\n",
    "        self._items.extend(items)\n",
    "        self._randomizer.shuffle(self._items)  # <4> Thay vì dùng ramdom.shuffle() thuần, ta dùng `.shuffle()` của SystemRandom\n",
    "\n",
    "    def pick(self):  # <5>\n",
    "        try:\n",
    "            return self._items.pop()\n",
    "        except IndexError:\n",
    "            raise LookupError('pick from empty BingoCage')\n",
    "\n",
    "    def __call__(self):  # <6> Thêm vào cho vui, để shortcut to bingo.pick(): bingo()\n",
    "        self.pick()\n",
    "\n",
    "# end::TOMBOLA_BINGO[]\n",
    "# Vẫn dùng 2 method cụ thể mà chưa tối ưu từ Tombola"
   ],
   "metadata": {
    "collapsed": false,
    "pycharm": {
     "name": "#%%\n"
    }
   }
  },
  {
   "cell_type": "markdown",
   "source": [
    "Ví dụ 13-10 cho thấy một cách triển khai giao diện Tombola rất khác nhưng không kém phần hợp lệ. Thay vì xáo trộn các “quả bóng” và bật quả cuối cùng, LottoBlower bật từ một vị trí ngẫu nhiên."
   ],
   "metadata": {
    "collapsed": false,
    "pycharm": {
     "name": "#%% md\n"
    }
   }
  },
  {
   "cell_type": "code",
   "execution_count": 4,
   "outputs": [],
   "source": [
    "# tag::LOTTERY_BLOWER[]\n",
    "\n",
    "import random\n",
    "\n",
    "class LottoBlower(Tombola):\n",
    "\n",
    "    def __init__(self, iterable):\n",
    "        self._balls = list(iterable)  # <1> Đc để cập trong lập trình phòng thủ, đồng thời tạo 1 bản sao, tránh iterable của client bị ảnh hưởng\n",
    "\n",
    "    def load(self, iterable):\n",
    "        self._balls.extend(iterable)\n",
    "\n",
    "    def pick(self):\n",
    "        try:\n",
    "            position = random.randrange(len(self._balls))  # <2>\n",
    "        except ValueError:\n",
    "            raise LookupError('pick from empty LottoBlower')\n",
    "        return self._balls.pop(position)  # <3>\n",
    "\n",
    "    def loaded(self):  # <4>\n",
    "        return bool(self._balls)\n",
    "\n",
    "    def inspect(self):  # <5>\n",
    "        return tuple(self._balls)\n",
    "\n",
    "\n",
    "# end::LOTTERY_BLOWER[]\n",
    "\n",
    "# 2: The random.randrange(…) function raises ValueError if the range is empty, so we catch that and throw LookupError instead, to be compatible with Tombola."
   ],
   "metadata": {
    "collapsed": false,
    "pycharm": {
     "name": "#%%\n"
    }
   }
  },
  {
   "cell_type": "markdown",
   "source": [
    "Phần này đi vào tính năng động quan trọng của gõ ngỗng:\n",
    "- khai báo virtual subclasses bằng phương register method.\n",
    "\n",
    "### A Virtual Subclass of an ABC\n",
    "\n",
    "Khả năng đăng ký một lớp dưới dạng một lớp con ảo của một ABC, ngay cả khi nó không kế thừa từ nó.\n",
    "- Class sẽ imple the interface được định nghĩa trong ABC\n",
    "\n",
    "Figure 13-7. UML class diagram for the `TomboList`,\n",
    "- a real subclass of `list`\n",
    "- a virtual subclass of `Tombola`.\n",
    "\n",
    "![](image/13-7.png)"
   ],
   "metadata": {
    "collapsed": false,
    "pycharm": {
     "name": "#%% md\n"
    }
   }
  },
  {
   "cell_type": "code",
   "execution_count": 5,
   "outputs": [],
   "source": [
    "from random import randrange\n",
    "\n",
    "@Tombola.register  # <1> as a virtual subclass of Tombola\n",
    "class TomboList(list):  # <2> extends list\n",
    "\n",
    "    def pick(self):\n",
    "        if self:  # <3> Kế thừ từ list, return True nếu list ko empty\n",
    "            position = randrange(len(self))\n",
    "            return self.pop(position)  # <4>\n",
    "        else:\n",
    "            raise LookupError('pop from empty TomboList')\n",
    "\n",
    "    load = list.extend  # <5> Tombolist.load is the same as list.extend\n",
    "\n",
    "    def loaded(self):\n",
    "        return bool(self)  # <6>\n",
    "\n",
    "    def inspect(self):\n",
    "        return tuple(self)\n",
    "\n",
    "# Tombola.register(TomboList)  # <7>\n",
    "# Thay vì gọi bằng deco như ở trên, có thể gọi như cách ở <#7>,\n",
    "# hữu ích khi register 1 class mà ko cần maintain , mà vẫn fulfill interface"
   ],
   "metadata": {
    "collapsed": false,
    "pycharm": {
     "name": "#%%\n"
    }
   }
  },
  {
   "cell_type": "code",
   "execution_count": 6,
   "outputs": [
    {
     "data": {
      "text/plain": "True"
     },
     "execution_count": 6,
     "metadata": {},
     "output_type": "execute_result"
    }
   ],
   "source": [
    "issubclass(TomboList, Tombola)"
   ],
   "metadata": {
    "collapsed": false,
    "pycharm": {
     "name": "#%%\n"
    }
   }
  },
  {
   "cell_type": "code",
   "execution_count": 7,
   "outputs": [
    {
     "data": {
      "text/plain": "True"
     },
     "execution_count": 7,
     "metadata": {},
     "output_type": "execute_result"
    }
   ],
   "source": [
    "t = TomboList(range(100))\n",
    "isinstance(t, Tombola)"
   ],
   "metadata": {
    "collapsed": false,
    "pycharm": {
     "name": "#%%\n"
    }
   }
  },
  {
   "cell_type": "markdown",
   "source": [
    "Kế thừa được chỉ định bằng `__mro__` (Method Resolution Order). Nó list class_ superclass"
   ],
   "metadata": {
    "collapsed": false,
    "pycharm": {
     "name": "#%% md\n"
    }
   }
  },
  {
   "cell_type": "code",
   "execution_count": 8,
   "outputs": [
    {
     "data": {
      "text/plain": "(__main__.TomboList, list, object)"
     },
     "execution_count": 8,
     "metadata": {},
     "output_type": "execute_result"
    }
   ],
   "source": [
    "TomboList.__mro__\n",
    "# Tombola không có trong Tombolist.__mro__,\n",
    "# -> vì vậy Tombolist không kế thừa bất kỳ phương thức nào từ Tombola."
   ],
   "metadata": {
    "collapsed": false,
    "pycharm": {
     "name": "#%%\n"
    }
   }
  },
  {
   "cell_type": "markdown",
   "source": [
    "### Usage of register in Practice\n",
    "\n",
    "Subclassing an ABC or registering with an ABC are both explicit ways of making our classes pass `issubclass` checks—as well as `isinstance` checks.\n",
    "\n",
    "### Structural Typing with ABCs\n",
    "Structural Typing:\n",
    "- Nhìn vào structure của 1 object’s public interface để xác định kiểu.\n",
    "- Dynamic/static duck typing are two approaches to structural typing.\n",
    "\n",
    "ABC chủ yếu được sử dụng với nominal typing.\n",
    "- `Sub` class inherits/register với `AnABC`, `AnABC` sẽ link với `Sub` class, vì thế ở runtime, `issubclass(AnABC, Sub)` returns `True`\n"
   ],
   "metadata": {
    "collapsed": false,
    "pycharm": {
     "name": "#%% md\n"
    }
   }
  },
  {
   "cell_type": "code",
   "execution_count": 9,
   "outputs": [
    {
     "data": {
      "text/plain": "(True, True)"
     },
     "execution_count": 9,
     "metadata": {},
     "output_type": "execute_result"
    }
   ],
   "source": [
    "# Cách mà Python biết subclass của ABC mà ko cần registration\n",
    "\n",
    "class Struggle:\n",
    "    def __len__(self): return 23\n",
    "\n",
    "from collections import abc\n",
    "isinstance(Struggle(), abc.Sized), issubclass(Struggle, abc.Sized)"
   ],
   "metadata": {
    "collapsed": false,
    "pycharm": {
     "name": "#%%\n"
    }
   }
  },
  {
   "cell_type": "markdown",
   "source": [
    "Vì `abc.Sized` có `__subclasshook__` method , nó check xem `Sized` có imple `__len__` hay ko, nếu có, nó được mark là 1 virtual subclass of `abc.Sized`\n",
    "\n",
    "\n",
    "```python\n",
    "\n",
    "class Sized(metaclass=ABCMeta):\n",
    "\n",
    "    __slots__ = ()\n",
    "\n",
    "    @abstractmethod\n",
    "    def __len__(self):\n",
    "        return 0\n",
    "\n",
    "    @classmethod\n",
    "    def __subclasshook__(cls, C):\n",
    "        if cls is Sized:\n",
    "            if any(\"__len__\" in B.__dict__ for B in C.__mro__):\n",
    "                return True\n",
    "        return NotImplemented\n",
    "```\n",
    "\n",
    "Tuy nhiên, việc tự triển khai `__subclasshook__` là rất rủi ro."
   ],
   "metadata": {
    "collapsed": false,
    "pycharm": {
     "name": "#%% md\n"
    }
   }
  },
  {
   "cell_type": "markdown",
   "source": [
    "Note\n",
    "- https://peps.python.org/pep-0008/#function-and-method-arguments\n",
    "- Always use `self` for the first argument to instance methods.\n",
    "- Always use `cls` for the first argument to class methods."
   ],
   "metadata": {
    "collapsed": false,
    "pycharm": {
     "name": "#%% md\n"
    }
   }
  },
  {
   "cell_type": "markdown",
   "source": [
    "## Static Protocols\n",
    "\n",
    "`typing.Protocol` subclasses — useful for static and runtime type checking."
   ],
   "metadata": {
    "collapsed": false,
    "pycharm": {
     "name": "#%% md\n"
    }
   }
  },
  {
   "cell_type": "markdown",
   "source": [
    "## The Typed double Function\n"
   ],
   "metadata": {
    "collapsed": false,
    "pycharm": {
     "name": "#%% md\n"
    }
   }
  },
  {
   "cell_type": "code",
   "execution_count": 11,
   "outputs": [
    {
     "name": "stdout",
     "output_type": "stream",
     "text": [
      "4\n",
      "AA\n",
      "4/5\n"
     ]
    }
   ],
   "source": [
    "def double(x):\n",
    "    return x * 2\n",
    "\n",
    "print(double(2))\n",
    "\n",
    "print(double('A'))\n",
    "\n",
    "from fractions import Fraction\n",
    "print(double(Fraction(2, 5)))"
   ],
   "metadata": {
    "collapsed": false,
    "pycharm": {
     "name": "#%%\n"
    }
   }
  },
  {
   "cell_type": "markdown",
   "source": [
    "Nhờ duck typing, `double` còn hoạt động được cả với type mới\n",
    "\n",
    "```\n",
    ">>> from vector_v7 import Vector\n",
    ">>> double(Vector([11.0, 12.0, 13.0]))\n",
    "Vector([22.0, 24.0, 26.0])\n",
    "```"
   ],
   "metadata": {
    "collapsed": false,
    "pycharm": {
     "name": "#%% md\n"
    }
   }
  },
  {
   "cell_type": "markdown",
   "source": [
    "Duck typing could not be described by type hints before Python 3.8.\n",
    "\n",
    "Với `typing.Protocol` we can tell `Mypy` that `double` takes an argument `x` that supports `x * 2`"
   ],
   "metadata": {
    "collapsed": false,
    "pycharm": {
     "name": "#%% md\n"
    }
   }
  },
  {
   "cell_type": "code",
   "execution_count": 13,
   "outputs": [],
   "source": [
    "from typing import TypeVar, Protocol\n",
    "\n",
    "T = TypeVar('T') # 1\n",
    "\n",
    "class Repeatable(Protocol):\n",
    "    def __mul__(self: T, repeat_count: int) -> T: ... # 2 Kiểu trả về giống với kiểu nhận vào\n",
    "\n",
    "RT = TypeVar('RT', bound=Repeatable) # 3\n",
    "\n",
    "def double(x: RT) -> RT: # 4 Kiểu trả về giống kiểu nhận và và kiểu đó có khả năng nhân với 1 số\n",
    "    return x * 2\n",
    "\n",
    "# 1. use this T in the __mul__ signature.\n",
    "\n",
    "# 2. `__mul__` is the essence of the `Repeatable` protocol.\n",
    "# The `self` parameter is usually not annotated—its type is assumed to be the class.\n",
    "# Here we use T to make sure the result type is the same as the type of `self`.\n",
    "# Also, note that `repeat_count` is limited to int in this protocol.\n",
    "\n",
    "# 3. RT type được bound vào `Repeatable`. Khi đó, type check sẽ yêu cầu RT imple `Repeatable`\n",
    "\n",
    "# 4. Khi này, type check có thể verify `x` là 1 object có thể nhân đc với 1 số, và trả về giá trị cùng kiểu vs x."
   ],
   "metadata": {
    "collapsed": false,
    "pycharm": {
     "name": "#%%\n"
    }
   }
  },
  {
   "cell_type": "markdown",
   "source": [
    "### Runtime Checkable Static Protocols\n",
    "\n",
    "`typing.Protocol` appears in the static checking area. Tuy nhiên khi define 1 `typing.Protocol` subclass, có thể dùng `@runtime_checkable` để dùng được `isinstance/issubclass` ở runtime.\n",
    "- Vì `typing.Protocol` là 1 ABC + nó có `__subclasshook__`"
   ],
   "metadata": {
    "collapsed": false,
    "pycharm": {
     "name": "#%% md\n"
    }
   }
  },
  {
   "cell_type": "markdown",
   "source": [
    "Đây là 2/7 protocols trong `typing` module có thể runtime check.\n",
    "- class typing.SupportsComplex\n",
    "    - An ABC with one abstract method, `__complex__`.\n",
    "\n",
    "- class typing.SupportsFloat\n",
    "    - An ABC with one abstract method, `__float__`."
   ],
   "metadata": {
    "collapsed": false,
    "pycharm": {
     "name": "#%% md\n"
    }
   }
  },
  {
   "cell_type": "code",
   "execution_count": null,
   "outputs": [],
   "source": [
    "# Example 13-14. typing.SupportsComplex protocol source code\n",
    "\n",
    "@runtime_checkable\n",
    "class SupportsComplex(Protocol):\n",
    "    \"\"\"An ABC with one abstract method __complex__.\"\"\"\n",
    "    __slots__ = ()\n",
    "\n",
    "    @abstractmethod\n",
    "    def __complex__(self) -> complex:\n",
    "        pass"
   ],
   "metadata": {
    "collapsed": false,
    "pycharm": {
     "name": "#%%\n"
    }
   }
  },
  {
   "cell_type": "code",
   "execution_count": 15,
   "outputs": [
    {
     "data": {
      "text/plain": "False"
     },
     "execution_count": 15,
     "metadata": {},
     "output_type": "execute_result"
    }
   ],
   "source": [
    "# Example 13-15. Using SupportsComplex at runtime\n",
    "# complex: tạo 1 số phức từ phần thực / phần ảo\n",
    "\n",
    "from typing import SupportsComplex\n",
    "import numpy as np\n",
    "\n",
    "c64 = np.complex64(3+4j)\n",
    "isinstance(c64, complex) # None of the NumPy complex types subclass the built-in `complex`."
   ],
   "metadata": {
    "collapsed": false,
    "pycharm": {
     "name": "#%%\n"
    }
   }
  },
  {
   "cell_type": "code",
   "execution_count": 16,
   "outputs": [
    {
     "data": {
      "text/plain": "True"
     },
     "execution_count": 16,
     "metadata": {},
     "output_type": "execute_result"
    }
   ],
   "source": [
    "# But NumPy’s complex types implement `__complex__`,\n",
    "# so they comply with the `SupportsComplex` protocol.\n",
    "isinstance(c64, SupportsComplex)"
   ],
   "metadata": {
    "collapsed": false,
    "pycharm": {
     "name": "#%%\n"
    }
   }
  },
  {
   "cell_type": "code",
   "execution_count": 18,
   "outputs": [
    {
     "data": {
      "text/plain": "False"
     },
     "execution_count": 18,
     "metadata": {},
     "output_type": "execute_result"
    }
   ],
   "source": [
    "# Therefore, you can create built-in `complex` objects from them.\n",
    "c = complex(c64)\n",
    "\n",
    "# However, the `complex` built-in type does not implement `__complex__`, although complex(c) works fine if c is a complex.\n",
    "isinstance(c, SupportsComplex)"
   ],
   "metadata": {
    "collapsed": false,
    "pycharm": {
     "name": "#%%\n"
    }
   }
  },
  {
   "cell_type": "code",
   "execution_count": 19,
   "outputs": [
    {
     "data": {
      "text/plain": "True"
     },
     "execution_count": 19,
     "metadata": {},
     "output_type": "execute_result"
    }
   ],
   "source": [
    "# Test c là complex hoặc SupportsComplex\n",
    "isinstance(c, (complex, SupportsComplex))"
   ],
   "metadata": {
    "collapsed": false,
    "pycharm": {
     "name": "#%%\n"
    }
   }
  },
  {
   "cell_type": "markdown",
   "source": [
    "## Limitations of Runtime Protocol Checks\n",
    "\n",
    "Type hint bị bỏ qua ở runtime -> `isinstance`/`issubclass` bị ảnh hưởng đối với static protocols.\n",
    "- Ví dụ: Bất kì class với `__float__` sẽ được coi là (ở runtime) là 1 virtual subclass của `SupportsFloat`, mặc dù `__float__` ko return `float`."
   ],
   "metadata": {
    "collapsed": false,
    "pycharm": {
     "name": "#%% md\n"
    }
   }
  },
  {
   "cell_type": "code",
   "execution_count": 20,
   "outputs": [
    {
     "data": {
      "text/plain": "'3.10.9 (main, Jan 11 2023, 09:18:20) [Clang 14.0.6 ]'"
     },
     "execution_count": 20,
     "metadata": {},
     "output_type": "execute_result"
    }
   ],
   "source": [
    "import sys\n",
    "sys.version"
   ],
   "metadata": {
    "collapsed": false,
    "pycharm": {
     "name": "#%%\n"
    }
   }
  },
  {
   "cell_type": "code",
   "execution_count": 21,
   "outputs": [
    {
     "ename": "AttributeError",
     "evalue": "'complex' object has no attribute '__float__'",
     "output_type": "error",
     "traceback": [
      "\u001B[0;31m---------------------------------------------------------------------------\u001B[0m",
      "\u001B[0;31mAttributeError\u001B[0m                            Traceback (most recent call last)",
      "Cell \u001B[0;32mIn[21], line 2\u001B[0m\n\u001B[1;32m      1\u001B[0m c \u001B[38;5;241m=\u001B[39m \u001B[38;5;241m3\u001B[39m\u001B[38;5;241m+\u001B[39m\u001B[38;5;241m4\u001B[39mj\n\u001B[0;32m----> 2\u001B[0m \u001B[43mc\u001B[49m\u001B[38;5;241;43m.\u001B[39;49m\u001B[38;5;21;43m__float__\u001B[39;49m\n",
      "\u001B[0;31mAttributeError\u001B[0m: 'complex' object has no attribute '__float__'"
     ]
    }
   ],
   "source": [
    "c = 3+4j\n",
    "c.__float__"
   ],
   "metadata": {
    "collapsed": false,
    "pycharm": {
     "name": "#%%\n"
    }
   }
  },
  {
   "cell_type": "code",
   "execution_count": 22,
   "outputs": [
    {
     "ename": "AttributeError",
     "evalue": "'complex' object has no attribute '__float__'",
     "output_type": "error",
     "traceback": [
      "\u001B[0;31m---------------------------------------------------------------------------\u001B[0m",
      "\u001B[0;31mAttributeError\u001B[0m                            Traceback (most recent call last)",
      "Cell \u001B[0;32mIn[22], line 1\u001B[0m\n\u001B[0;32m----> 1\u001B[0m \u001B[43mc\u001B[49m\u001B[38;5;241;43m.\u001B[39;49m\u001B[38;5;21;43m__float__\u001B[39;49m()\n",
      "\u001B[0;31mAttributeError\u001B[0m: 'complex' object has no attribute '__float__'"
     ]
    }
   ],
   "source": [
    "c.__float__()"
   ],
   "metadata": {
    "collapsed": false,
    "pycharm": {
     "name": "#%%\n"
    }
   }
  },
  {
   "cell_type": "markdown",
   "source": [
    "### Designing a Static Protocol"
   ],
   "metadata": {
    "collapsed": false,
    "pycharm": {
     "name": "#%% md\n"
    }
   }
  },
  {
   "cell_type": "code",
   "execution_count": 2,
   "outputs": [],
   "source": [
    "# Example 13-18. randompick.py: definition of RandomPicker\n",
    "\n",
    "from typing import Protocol, runtime_checkable, Any\n",
    "\n",
    "@runtime_checkable\n",
    "class RandomPicker(Protocol):\n",
    "    def pick(self) -> Any: ...\n"
   ],
   "metadata": {
    "collapsed": false,
    "pycharm": {
     "name": "#%%\n"
    }
   }
  },
  {
   "cell_type": "code",
   "execution_count": 30,
   "outputs": [],
   "source": [
    "# Example 13-19. randompick_test.py: RandomPicker in use\n",
    "\n",
    "import random\n",
    "from typing import Any, Iterable, TYPE_CHECKING\n",
    "\n",
    "#from randompick import RandomPicker # <1>\n",
    "\n",
    "class SimplePicker:  # <2>\n",
    "    def __init__(self, items: Iterable) -> None:\n",
    "        self._items = list(items)\n",
    "        random.shuffle(self._items)\n",
    "\n",
    "    def pick(self) -> Any:  # <3>\n",
    "        return self._items.pop()\n",
    "\n",
    "def test_isinstance() -> None:  # <4>\n",
    "    popper: RandomPicker = SimplePicker([1])  # <5>\n",
    "    print(isinstance(popper, RandomPicker))\n",
    "    assert isinstance(popper, RandomPicker)  # <6>\n",
    "\n",
    "def test_item_type() -> None:  # <7>\n",
    "    items = [1, 2]\n",
    "    popper = SimplePicker(items)\n",
    "    item = popper.pick()\n",
    "    assert item in items\n",
    "    if TYPE_CHECKING:\n",
    "        reveal_type(item)  # <8>\n",
    "    print(isinstance(item, int))\n",
    "    assert isinstance(item, int)\n",
    "\n",
    "# 1: Ko cần thiết phải import static protocal để định nghĩa 1 class mà impl nó. Import để đây chỉ là để cho `test_isinstance`\n",
    "\n",
    "# 2: SimplePicker implements RandomPicker—but it does not subclass it.\n",
    "# This is static duck typing in action.\n",
    "\n",
    "# 3: Any is the default return type, it does make it more clear that we are implementing the RandomPicker protocol\n",
    "\n",
    "# 4: Don’t forget to add -> None hints to your tests if you want Mypy to look at them.\n",
    "\n",
    "# 8: reveal_type is a “magic” function recognized by Mypy. để bổ sung note"
   ],
   "metadata": {
    "collapsed": false,
    "pycharm": {
     "name": "#%%\n"
    }
   }
  },
  {
   "cell_type": "code",
   "execution_count": 31,
   "outputs": [
    {
     "name": "stdout",
     "output_type": "stream",
     "text": [
      "True\n"
     ]
    }
   ],
   "source": [
    "test_isinstance()"
   ],
   "metadata": {
    "collapsed": false,
    "pycharm": {
     "name": "#%%\n"
    }
   }
  },
  {
   "cell_type": "code",
   "execution_count": 32,
   "outputs": [
    {
     "name": "stdout",
     "output_type": "stream",
     "text": [
      "True\n"
     ]
    }
   ],
   "source": [
    "test_item_type()"
   ],
   "metadata": {
    "collapsed": false,
    "pycharm": {
     "name": "#%%\n"
    }
   }
  },
  {
   "cell_type": "markdown",
   "source": [
    "Mypy also shows the result of the `reveal_type` on the item returned by `pick`:\n",
    "```\n",
    "~/Doc/G/example-code-2e/13/typing master +4 !1 ❯ mypy randompick_test.py     Py python310 23:30:36\n",
    "randompick_test.py:24: note: Revealed type is \"Any\"\n",
    "Success: no issues found in 1 source file\n",
    "```"
   ],
   "metadata": {
    "collapsed": false,
    "pycharm": {
     "name": "#%% md\n"
    }
   }
  },
  {
   "cell_type": "markdown",
   "source": [
    "### Best Practices for Protocol Design\n",
    "\n",
    "\"Narrow protocols\" are more useful—often such protocols have a single method, rarely more than a couple of methods. .\n",
    "\n",
    "\"Client code protocols\":\n",
    "- a protocol is defined near the function that uses it, instead of being defined in a library.\n",
    "- easy to create new types to call that function\n",
    "- good for extensibility and testing\n",
    "\n",
    "Cả 2 đều tránh sự kết hợp chặt chẽ không cần thiết, để phù hợp với quy tắc:\n",
    "- “Client không nên bị buộc phải phụ thuộc vào các giao diện mà họ không sử dụng.”\n",
    "\n",
    "Naming convention cho static protocals:\n",
    "- Tên đơn giản (e.g., Iterator, Container).\n",
    "- `Supports+X` cho protocal cung cấp callable methods (e.g., `SupportsInt`, `SupportsRead`, `SupportsReadSeek`)\n",
    "- `Has+X` cho protocals có các attr có thể đọc/ghi hoặc get/set method (e.g., `HasItems`, `HasFileno`).\n",
    "- Nếu protocal có 1 method, có method name là Verd --> thêm \"er\"/\"or\" để thành Noun\n",
    "    - instead of `SupportsRead`, have `Reader`\n"
   ],
   "metadata": {
    "collapsed": false,
    "pycharm": {
     "name": "#%% md\n"
    }
   }
  },
  {
   "cell_type": "markdown",
   "source": [
    "### Extending a Protocol\n",
    "\n",
    "Thay vì thêm các phương thức vào giao thức ban đầu, tốt hơn là lấy một giao thức mới từ giao thức đó"
   ],
   "metadata": {
    "collapsed": false,
    "pycharm": {
     "name": "#%% md\n"
    }
   }
  },
  {
   "cell_type": "code",
   "execution_count": 3,
   "outputs": [],
   "source": [
    "# Example 13-20. randompickload.py: extending RandomPicker\n",
    "\n",
    "from typing import Protocol, runtime_checkable\n",
    "\n",
    "@runtime_checkable\n",
    "class LoadableRandomPicker(RandomPicker, Protocol): # 2\n",
    "    def load(self, Iterable) -> None: ...\n",
    "\n",
    "# 2: Mỗi giao thức phải đặt tên rõ ràng typing.Protocol là một trong các lớp cơ sở của nó ngoài giao thức mà chúng tôi đang mở rộng.\n",
    "# Điều này khác với cách hoạt động của tính kế thừa trong Python"
   ],
   "metadata": {
    "collapsed": false,
    "pycharm": {
     "name": "#%%\n"
    }
   }
  },
  {
   "cell_type": "markdown",
   "source": [
    "### The numbers ABCs and Numeric Protocols\n",
    "\n",
    "- The `numbers` ABCs are fine for runtime type checking, but unsuitable for static typing.\n",
    "- The numeric static protocols `SupportsComplex`, `SupportsFloat`, etc. work well for static typing, but are unreliable for runtime type checking when complex numbers are involved."
   ],
   "metadata": {
    "collapsed": false,
    "pycharm": {
     "name": "#%% md\n"
    }
   }
  },
  {
   "cell_type": "markdown",
   "source": [
    "# Chapter Summary\n",
    "\n",
    "Từ 4 kiểu typing ở hình 13-1, ta so sánh dynamic protocols (duck typing) and static protocols (static duck typing):\n",
    "- Điểm chung:\n",
    "    - 1 class ko bắt buộc phải khai báo rõ ràng việc support cho 1 protocal cụ thể\n",
    "        - chỉ cần đơn giản implement các methods cần thiết\n",
    "\n",
    "Phần \"Programming Duck\" ta thấy:\n",
    "- Cách tạo class để impl 1 protocal ở runtime thông qua monkey patching\n",
    "- Các gợi ý cho việc lập trình phòng thủ\n",
    "    - Gồm xác định structure type bằng `try/except` and failing fast, mà ko cần check `isinstance`/`hasattr`\n",
    "\n",
    "Giới thiệu Goose typing\n",
    "- Cách subclass existing ABCs\n",
    "- Các ABCs trong thư viện chuẩn\n",
    "- Tạo ABC riêng\n",
    "    - Qua subclassing và qua registration\n",
    "- `__subclasshook__` cho phép ABCs hỗ trợ structure typing\n",
    "\n",
    "Phần \"Static Protocals\"\n",
    "- Tiếp tục nói về `static duck typing`\n",
    "- `@runtime_checkable` decorator tận dụng `__subclasshook__` để support structural typing at runtime\n",
    "- Cách design và code static protocal\n",
    "- Kết thúc với Numeric Protocals\n",
    "    - Về tình trạng vô chủ của tháp số và một số thiếu sót hiện có của giải pháp thay thế được đề xuất"
   ],
   "metadata": {
    "collapsed": false,
    "pycharm": {
     "name": "#%% md\n"
    }
   }
  },
  {
   "cell_type": "markdown",
   "source": [
    "Thông điệp của chap này là\n",
    "- Có 4 cách để lập trình interfaces trong Python và ta cần tìm ra cái phù hợp vs chương trình của mình"
   ],
   "metadata": {
    "collapsed": false,
    "pycharm": {
     "name": "#%% md\n"
    }
   }
  }
 ],
 "metadata": {
  "kernelspec": {
   "display_name": "Python 3",
   "language": "python",
   "name": "python3"
  },
  "language_info": {
   "codemirror_mode": {
    "name": "ipython",
    "version": 2
   },
   "file_extension": ".py",
   "mimetype": "text/x-python",
   "name": "python",
   "nbconvert_exporter": "python",
   "pygments_lexer": "ipython2",
   "version": "2.7.6"
  }
 },
 "nbformat": 4,
 "nbformat_minor": 0
}
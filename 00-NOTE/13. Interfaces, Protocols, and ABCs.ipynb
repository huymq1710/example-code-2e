{
 "cells": [
  {
   "cell_type": "markdown",
   "source": [
    "# Chapter 13. Interfaces, Protocols, and ABCs\n",
    "\n",
    "\"Program to an interface, not an implementation.\""
   ],
   "metadata": {
    "collapsed": false,
    "pycharm": {
     "name": "#%% md\n"
    }
   }
  },
  {
   "cell_type": "markdown",
   "source": [
    "OOP is all about interfaces.\n",
    "\n",
    "Ở Python 3.8, có 4 cách để định nghĩa interfaces, được mô tả trong Typing Map\n",
    "\n",
    "- Duck typing (Chap 1)\n",
    "    - Default\n",
    "    - Tư tưởng: \"If it walks like a duck and quacks like a duck, it must be a duck\".\n",
    "        -  Kiểu hoặc lớp (class) của một đối tượng (object) ít quan trọng hơn phương thức mà nó định nghĩa.\n",
    "- Goose typing (Chap 13)\n",
    "    - Supported by abstract base classes (ABCs)\n",
    "    - Dựa trên runtime check ABCs của object\n",
    "- Static typing (chap 8, 15)\n",
    "    - Hướng tiếp cận của statical languages (Java, C)\n",
    "    - Hỗ trợ bởi `typing` module\n",
    "    - Enforced by external type checkers\n",
    "- Static duck typing\n",
    "    - Phổ biến ở Go\n",
    "    - Hỗ trợ bởi `typing.Protocol`\n",
    "    - Enforced by external type checkers\n",
    "\n",
    "![image.png](image/13-1.png)"
   ],
   "metadata": {
    "collapsed": false,
    "pycharm": {
     "name": "#%% md\n"
    }
   }
  },
  {
   "cell_type": "markdown",
   "source": [
    "Chương này nói về duck typing, goose typing, and static duck typing\n",
    "- static typing chỉ sử dụng các types cụ thể thay vì interface abstractions"
   ],
   "metadata": {
    "collapsed": false,
    "pycharm": {
     "name": "#%% md\n"
    }
   }
  },
  {
   "cell_type": "markdown",
   "source": [
    "## Two Kinds of Protocols\n",
    "\n",
    "So sánh 2 loại Typing (bên trái) với Protocol\n",
    "\n",
    "- Protocols\n",
    "    - VD: Trong network protocols là `GET`, `PUT`\n",
    "    - VD: Trong sequence protocol - method cho phép object như 1 seq\n",
    "        - `__getitem__` method\n",
    "        - `__len__` method (optional)\n",
    "    - --> Protocol is an “informal interface.”"
   ],
   "metadata": {
    "collapsed": false,
    "pycharm": {
     "name": "#%% md\n"
    }
   }
  },
  {
   "cell_type": "markdown",
   "source": [
    "- Dynamic protocol\n",
    "    - informal protocols\n",
    "    - implicit (ngầm định)\n",
    "- Static protocal\n",
    "    - từ Python 3.8 (static duck tying)\n",
    "    - explicit (rõ ràng): `typing.Protocol` subclass, ABCs\n",
    "\n",
    "2 điểm khác biệt chính giữa 2 loại:\n",
    "- Implement\n",
    "    - Dynamic protocal: Object có thể chỉ cần impl 1 phần mà vẫn useful\n",
    "    - Static protocol: Object phải impl mọi method trong protocal class\n",
    "- Verify\n",
    "    - Dynamic protocal: NaN\n",
    "    - Static protocol: By static type checkers"
   ],
   "metadata": {
    "collapsed": false,
    "pycharm": {
     "name": "#%% md\n"
    }
   }
  },
  {
   "cell_type": "markdown",
   "source": [
    "The rest of this chapter covers dynamic and static protocols, as well as ABCs."
   ],
   "metadata": {
    "collapsed": false,
    "pycharm": {
     "name": "#%% md\n"
    }
   }
  },
  {
   "cell_type": "markdown",
   "source": [
    "## Programming Ducks\n",
    "\n",
    "Deep driver\n",
    "Make it safer while preserving its major strength (flexibility)"
   ],
   "metadata": {
    "collapsed": false,
    "pycharm": {
     "name": "#%% md\n"
    }
   }
  },
  {
   "cell_type": "markdown",
   "source": [
    "Bắt đầu dynamic protocols với __sequence__ và __iterable__ protocols."
   ],
   "metadata": {
    "collapsed": false,
    "pycharm": {
     "name": "#%% md\n"
    }
   }
  },
  {
   "cell_type": "markdown",
   "source": [
    "### Python Digs(đào) Sequences\n",
    "\n",
    "Triết lý của Python Data Model là work với nhiều dynamic protocols thiết yếu nhất có thể.\n",
    "\n",
    "Hình 13-2 cho thấy cách `Sequence` interface được chính thức hóa dưới dạng ABC. Mô tả những gì mà một full-fledged `Sequence` sẽ hỗ trợ.\n",
    "\n",
    "![image.png](image/13-2.png)"
   ],
   "metadata": {
    "collapsed": false,
    "pycharm": {
     "name": "#%% md\n"
    }
   }
  },
  {
   "cell_type": "markdown",
   "source": [
    "Từ 13-2, thấy rằng subclass đúng của Seg phải imple `__getitem__` và `__len__`. Những methods khác là cụ thể -> subclass sẽ kế thừa nó/viết lại 1 cái phù hợp hơn.\n",
    "- VD: Khi ko có `__iter__`, Python dự phòng rằng nếu có `__getitem__`, nó sẽ chạy index start ở 0."
   ],
   "metadata": {
    "collapsed": false,
    "pycharm": {
     "name": "#%% md\n"
    }
   }
  },
  {
   "cell_type": "markdown",
   "source": [
    "TIP\n",
    "\n",
    "The ABCs are useful as starting points for new classes, and to support explicit type checking at runtime (a.k.a. goose typing) as well as type hints for static type checkers."
   ],
   "metadata": {
    "collapsed": false,
    "pycharm": {
     "name": "#%% md\n"
    }
   }
  },
  {
   "cell_type": "markdown",
   "source": [
    "Ví dụ sau không là subclass abc.Sequence, nhưng imple `__getitem__` và `__len__`"
   ],
   "metadata": {
    "collapsed": false,
    "pycharm": {
     "name": "#%% md\n"
    }
   }
  },
  {
   "cell_type": "code",
   "execution_count": 1,
   "metadata": {
    "collapsed": true,
    "pycharm": {
     "name": "#%%\n"
    }
   },
   "outputs": [],
   "source": [
    "import collections\n",
    "\n",
    "Card = collections.namedtuple('Card', ['rank', 'suit'])\n",
    "\n",
    "class FrenchDeck:\n",
    "    ranks = [str(n) for n in range(2, 11)] + list('JQKA')\n",
    "    suits = 'spades diamonds clubs hearts'.split()\n",
    "\n",
    "    def __init__(self):\n",
    "        self._cards = [Card(rank, suit) for suit in self.suits\n",
    "                       for rank in self.ranks]\n",
    "\n",
    "    def __len__(self):\n",
    "        return len(self._cards)\n",
    "\n",
    "    def __getitem__(self, position):\n",
    "        return self._cards[position]"
   ]
  },
  {
   "cell_type": "markdown",
   "source": [
    "### Monkey Patching: Implementing a Protocol at Runtime\n",
    "\n",
    "Monkey patching is dynamically changing a module, class, or function at runtime, to add features or fix bugs.\n",
    "\n",
    "`FrenchDeck` ở trên thiếu đi tính năng `shuffle`. Nhưng theo Pythonic, vì ta đã làm nó act như 1 Seq -> nó ko cần viết 1 hàm shuffle của nó, mà có thể dùng `random.shuffle`"
   ],
   "metadata": {
    "collapsed": false,
    "pycharm": {
     "name": "#%% md\n"
    }
   }
  },
  {
   "cell_type": "markdown",
   "source": [
    "TIP\n",
    "\n",
    "Khi bạn tuân theo các protocols đã được thiết lập, bạn sẽ cải thiện cơ hội tận dụng thư viện tiêu chuẩn và mã của bên thứ ba,, thanks to duck typing."
   ],
   "metadata": {
    "collapsed": false,
    "pycharm": {
     "name": "#%% md\n"
    }
   }
  },
  {
   "cell_type": "code",
   "execution_count": 5,
   "outputs": [
    {
     "data": {
      "text/plain": "[Card(rank='2', suit='spades'),\n Card(rank='3', suit='spades'),\n Card(rank='4', suit='spades'),\n Card(rank='5', suit='spades'),\n Card(rank='6', suit='spades'),\n Card(rank='7', suit='spades'),\n Card(rank='8', suit='spades'),\n Card(rank='9', suit='spades'),\n Card(rank='10', suit='spades'),\n Card(rank='J', suit='spades'),\n Card(rank='Q', suit='spades'),\n Card(rank='K', suit='spades'),\n Card(rank='A', suit='spades'),\n Card(rank='2', suit='diamonds'),\n Card(rank='3', suit='diamonds'),\n Card(rank='4', suit='diamonds'),\n Card(rank='5', suit='diamonds'),\n Card(rank='6', suit='diamonds'),\n Card(rank='7', suit='diamonds'),\n Card(rank='8', suit='diamonds'),\n Card(rank='9', suit='diamonds'),\n Card(rank='10', suit='diamonds'),\n Card(rank='J', suit='diamonds'),\n Card(rank='Q', suit='diamonds'),\n Card(rank='K', suit='diamonds'),\n Card(rank='A', suit='diamonds'),\n Card(rank='2', suit='clubs'),\n Card(rank='3', suit='clubs'),\n Card(rank='4', suit='clubs'),\n Card(rank='5', suit='clubs'),\n Card(rank='6', suit='clubs'),\n Card(rank='7', suit='clubs'),\n Card(rank='8', suit='clubs'),\n Card(rank='9', suit='clubs'),\n Card(rank='10', suit='clubs'),\n Card(rank='J', suit='clubs'),\n Card(rank='Q', suit='clubs'),\n Card(rank='K', suit='clubs'),\n Card(rank='A', suit='clubs'),\n Card(rank='2', suit='hearts'),\n Card(rank='3', suit='hearts'),\n Card(rank='4', suit='hearts'),\n Card(rank='5', suit='hearts'),\n Card(rank='6', suit='hearts'),\n Card(rank='7', suit='hearts'),\n Card(rank='8', suit='hearts'),\n Card(rank='9', suit='hearts'),\n Card(rank='10', suit='hearts'),\n Card(rank='J', suit='hearts'),\n Card(rank='Q', suit='hearts'),\n Card(rank='K', suit='hearts'),\n Card(rank='A', suit='hearts')]"
     },
     "execution_count": 5,
     "metadata": {},
     "output_type": "execute_result"
    }
   ],
   "source": [
    "# shuffle operates in place, by swapping items inside the collection\n",
    "from random import shuffle\n",
    "deck = FrenchDeck()\n",
    "list(deck)"
   ],
   "metadata": {
    "collapsed": false,
    "pycharm": {
     "name": "#%%\n"
    }
   }
  },
  {
   "cell_type": "code",
   "execution_count": 6,
   "outputs": [
    {
     "ename": "TypeError",
     "evalue": "'FrenchDeck' object does not support item assignment",
     "output_type": "error",
     "traceback": [
      "\u001B[0;31m---------------------------------------------------------------------------\u001B[0m",
      "\u001B[0;31mTypeError\u001B[0m                                 Traceback (most recent call last)",
      "Cell \u001B[0;32mIn[6], line 1\u001B[0m\n\u001B[0;32m----> 1\u001B[0m \u001B[43mshuffle\u001B[49m\u001B[43m(\u001B[49m\u001B[43mdeck\u001B[49m\u001B[43m)\u001B[49m\n",
      "File \u001B[0;32m~/opt/anaconda3/envs/python310/lib/python3.10/random.py:394\u001B[0m, in \u001B[0;36mRandom.shuffle\u001B[0;34m(self, x, random)\u001B[0m\n\u001B[1;32m    391\u001B[0m     \u001B[38;5;28;01mfor\u001B[39;00m i \u001B[38;5;129;01min\u001B[39;00m \u001B[38;5;28mreversed\u001B[39m(\u001B[38;5;28mrange\u001B[39m(\u001B[38;5;241m1\u001B[39m, \u001B[38;5;28mlen\u001B[39m(x))):\n\u001B[1;32m    392\u001B[0m         \u001B[38;5;66;03m# pick an element in x[:i+1] with which to exchange x[i]\u001B[39;00m\n\u001B[1;32m    393\u001B[0m         j \u001B[38;5;241m=\u001B[39m randbelow(i \u001B[38;5;241m+\u001B[39m \u001B[38;5;241m1\u001B[39m)\n\u001B[0;32m--> 394\u001B[0m         x[i], x[j] \u001B[38;5;241m=\u001B[39m x[j], x[i]\n\u001B[1;32m    395\u001B[0m \u001B[38;5;28;01melse\u001B[39;00m:\n\u001B[1;32m    396\u001B[0m     _warn(\u001B[38;5;124m'\u001B[39m\u001B[38;5;124mThe *random* parameter to shuffle() has been deprecated\u001B[39m\u001B[38;5;130;01m\\n\u001B[39;00m\u001B[38;5;124m'\u001B[39m\n\u001B[1;32m    397\u001B[0m           \u001B[38;5;124m'\u001B[39m\u001B[38;5;124msince Python 3.9 and will be removed in a subsequent \u001B[39m\u001B[38;5;124m'\u001B[39m\n\u001B[1;32m    398\u001B[0m           \u001B[38;5;124m'\u001B[39m\u001B[38;5;124mversion.\u001B[39m\u001B[38;5;124m'\u001B[39m,\n\u001B[1;32m    399\u001B[0m           \u001B[38;5;167;01mDeprecationWarning\u001B[39;00m, \u001B[38;5;241m2\u001B[39m)\n",
      "\u001B[0;31mTypeError\u001B[0m: 'FrenchDeck' object does not support item assignment"
     ]
    }
   ],
   "source": [
    "shuffle(deck)\n",
    "# error vì FrenchDeck chỉ imple immutable seq protocal --> không thể shuffle in place\n",
    "# --> Muốn nó là mutable seq, cần cung cấp __setitem__"
   ],
   "metadata": {
    "collapsed": false,
    "pycharm": {
     "name": "#%%\n"
    }
   }
  },
  {
   "cell_type": "code",
   "execution_count": 8,
   "outputs": [
    {
     "data": {
      "text/plain": "[Card(rank='K', suit='spades'),\n Card(rank='J', suit='diamonds'),\n Card(rank='Q', suit='clubs'),\n Card(rank='9', suit='hearts'),\n Card(rank='9', suit='diamonds')]"
     },
     "execution_count": 8,
     "metadata": {},
     "output_type": "execute_result"
    }
   ],
   "source": [
    "# Fix nó ở runtime, tương tác với console\n",
    "# deck, position, card thay vì self, key, value để chỉ rằng methods nên bắt đầu từ 1 func đơn giản và đặt tên tham số đầu là self chỉ là 1 quy ước --> đặt vậy OK vì mình viết nó ở console.\n",
    "def set_card(deck, position, card):\n",
    "    deck._cards[position] = card\n",
    "\n",
    "FrenchDeck.__setitem__ = set_card # <-- Monkey Patching\n",
    "shuffle(deck)\n",
    "deck[:5]"
   ],
   "metadata": {
    "collapsed": false,
    "pycharm": {
     "name": "#%%\n"
    }
   }
  },
  {
   "cell_type": "markdown",
   "source": [
    "Phần tiếp theo show một số code patterns để phát hiện các dynamic protocols mà không cần dùng đến các kiểm tra rõ ràng."
   ],
   "metadata": {
    "collapsed": false,
    "pycharm": {
     "name": "#%% md\n"
    }
   }
  },
  {
   "cell_type": "markdown",
   "source": [
    "### Defensive Programming and “Fail Fast”\n",
    "\n",
    "In a dynamically typed language, “fail fast” is excellent advice for safer and easier-to-maintain programs.\n",
    "- Failing fast means raising runtime errors as soon as possible\n",
    "    - VD: rejecting invalid arguments right a the beginning of a function body.\n",
    "\n"
   ],
   "metadata": {
    "collapsed": false,
    "pycharm": {
     "name": "#%% md\n"
    }
   }
  },
  {
   "cell_type": "code",
   "execution_count": null,
   "outputs": [],
   "source": [
    "# VD\n",
    "# Ngay lập tức build list từ iterable\n",
    "# Nếu iterable sai kiểu , ngay lập tức fail fast: TypeError\n",
    "def __init__(self, iterable):\n",
    "    self._balls = list(iterable)\n",
    "\n",
    "# Nếu không làm vậy, chương trình sẽ vẫn raise khi 1 hàm nào đó gọi self._balls mà không phải là list --> khi đó khó tìm ra root cause.\n",
    "\n",
    "# Tuy nhiên, gọi list() có thể tệ nếu ta cần change nó in-place như ví dụ shuffle.\n",
    "# Khi đó, runtime check `isinstance(x, abc.MutableSequence)` hoặc `len()` sẽ cần đến"
   ],
   "metadata": {
    "collapsed": false,
    "pycharm": {
     "name": "#%%\n"
    }
   }
  },
  {
   "cell_type": "markdown",
   "source": [
    "Ở ví dụ trên, type hint sẽ catch đc problem sớm hơn, nhưng không phải catch đc mọi thứ.\n",
    "- `Any` type\n",
    "- Không được enforced ở runtime\n",
    "\n",
    "\n",
    "--> Fail fast là tuyến phòng thủ cuối"
   ],
   "metadata": {
    "collapsed": false,
    "pycharm": {
     "name": "#%% md\n"
    }
   }
  },
  {
   "cell_type": "code",
   "execution_count": null,
   "outputs": [],
   "source": [
    "# Ví dụ 2: Defensive code + duck typing để handle việc thay đổi biến field_names\n",
    "\n",
    "# Example 13-5. Duck typing to handle a string or an iterable of strings\n",
    "field_names = 'huy, mac'\n",
    "try:\n",
    "        field_names = field_names.replace(',', ' ').split()\n",
    "except AttributeError:\n",
    "    pass\n",
    "field_names = tuple(field_names)\n",
    "if not all(s.isidentifier() for s in field_names):\n",
    "    raise ValueError('field_names must all be valid identifiers')"
   ],
   "metadata": {
    "collapsed": false,
    "pycharm": {
     "name": "#%%\n"
    }
   }
  },
  {
   "cell_type": "markdown",
   "source": [
    "--> duck typing is more expressive than static type hints\n",
    "```python\n",
    "def namedtuple(\n",
    "        typename: str,\n",
    "        field_names: Union[str, Iterable[str]],\n",
    "        *,\n",
    "        # rest of signature omitted\n",
    "```"
   ],
   "metadata": {
    "collapsed": false,
    "pycharm": {
     "name": "#%% md\n"
    }
   }
  },
  {
   "cell_type": "markdown",
   "source": [
    "Giờ, move sang loại runtime type check rõ ràng hơn: Goose typing"
   ],
   "metadata": {
    "collapsed": false,
    "pycharm": {
     "name": "#%% md\n"
    }
   }
  },
  {
   "cell_type": "markdown",
   "source": [
    "## Goose Typing\n",
    "\n",
    "ABCs for runtime type check\n",
    "\n",
    "Python doesn’t have an `interface` keyword. We use `abstract base classes (ABCs`) to define interfaces for explicit type checking at runtime—also supported by static type checkers.\n",
    "- ABCs introduce virtual subclasses\n",
    "    - which are classes that don’t inherit from a class but are still recognized by `isinstance()` and `issubclass()`"
   ],
   "metadata": {
    "collapsed": false,
    "pycharm": {
     "name": "#%% md\n"
    }
   }
  },
  {
   "cell_type": "markdown",
   "source": [
    "### Subclassing an ABC\n"
   ],
   "metadata": {
    "collapsed": false,
    "pycharm": {
     "name": "#%% md\n"
    }
   }
  },
  {
   "cell_type": "code",
   "execution_count": null,
   "outputs": [],
   "source": [],
   "metadata": {
    "collapsed": false,
    "pycharm": {
     "name": "#%%\n"
    }
   }
  },
  {
   "cell_type": "markdown",
   "source": [
    "## Static Protocols\n",
    "\n",
    "Covers usage, implementation, and design of `typing.Protocol` subclasses"
   ],
   "metadata": {
    "collapsed": false,
    "pycharm": {
     "name": "#%% md\n"
    }
   }
  },
  {
   "cell_type": "code",
   "execution_count": null,
   "outputs": [],
   "source": [],
   "metadata": {
    "collapsed": false,
    "pycharm": {
     "name": "#%%\n"
    }
   }
  }
 ],
 "metadata": {
  "kernelspec": {
   "display_name": "Python 3",
   "language": "python",
   "name": "python3"
  },
  "language_info": {
   "codemirror_mode": {
    "name": "ipython",
    "version": 2
   },
   "file_extension": ".py",
   "mimetype": "text/x-python",
   "name": "python",
   "nbconvert_exporter": "python",
   "pygments_lexer": "ipython2",
   "version": "2.7.6"
  }
 },
 "nbformat": 4,
 "nbformat_minor": 0
}
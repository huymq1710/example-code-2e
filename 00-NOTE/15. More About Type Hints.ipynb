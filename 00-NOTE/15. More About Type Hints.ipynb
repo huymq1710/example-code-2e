{
 "cells": [
  {
   "cell_type": "markdown",
   "source": [
    "# Chapter 15. More About Type Hints\n",
    "\n",
    "\"Tôi đã học được một bài học đau đớn rằng đối với các chương trình nhỏ, gõ động là rất tốt. Đối với các chương trình lớn, bạn cần một cách tiếp cận có kỷ luật hơn. Và sẽ hữu ích nếu ngôn ngữ mang lại cho bạn kỷ luật đó\""
   ],
   "metadata": {
    "collapsed": false,
    "pycharm": {
     "name": "#%% md\n"
    }
   }
  },
  {
   "cell_type": "markdown",
   "source": [
    "The main topics are:\n",
    "\n",
    "- Overloaded function signatures\n",
    "\n",
    "- typing.TypedDict for type hinting dicts used as records\n",
    "\n",
    "- Type casting\n",
    "\n",
    "- Runtime access to type hints\n",
    "\n",
    "- Generic types\n",
    "\n",
    "    - Declaring a generic class\n",
    "\n",
    "    - Variance: invariant, covariant, and contravariant types\n",
    "\n",
    "    - Generic static protocols"
   ],
   "metadata": {
    "collapsed": false,
    "pycharm": {
     "name": "#%% md\n"
    }
   }
  },
  {
   "cell_type": "markdown",
   "source": [
    "## Overloaded Signatures\n",
    "\n",
    "Python functions có thể truyền tham số theo các cách khác nhau via `@typing.overload`\n",
    "\n",
    "-> Nó quan trọng vì type return phụ thuộc vào type của các tham số"
   ],
   "metadata": {
    "collapsed": false,
    "pycharm": {
     "name": "#%% md\n"
    }
   }
  },
  {
   "cell_type": "code",
   "execution_count": 1,
   "metadata": {
    "collapsed": true,
    "pycharm": {
     "name": "#%%\n"
    }
   },
   "outputs": [
    {
     "name": "stdout",
     "output_type": "stream",
     "text": [
      "Help on built-in function sum in module builtins:\n",
      "\n",
      "sum(iterable, /, start=0)\n",
      "    Return the sum of a 'start' value (default: 0) plus an iterable of numbers\n",
      "    \n",
      "    When the iterable is empty, return the start value.\n",
      "    This function is intended specifically for use with numeric values and may\n",
      "    reject non-numeric types.\n",
      "\n"
     ]
    }
   ],
   "source": [
    "help(sum)"
   ]
  },
  {
   "cell_type": "markdown",
   "source": [
    "`sum` được viết bằng C, nhưng `typeshed` đã overload type hints cho nó ở trong  [builtins.pyi](https://github.com/python/typeshed/blob/a8834fcd46339e17fc8add82b5803a1ce53d3d60/stdlib/2and3/builtins.pyi#L1434-L1437)\n",
    "\n",
    "```python\n",
    "@overload\n",
    "def sum(__iterable: Iterable[_T]) -> Union[_T, int]: ...\n",
    "@overload\n",
    "def sum(__iterable: Iterable[_T], start: _S) -> Union[_T, _S]: ...\n",
    "```"
   ],
   "metadata": {
    "collapsed": false,
    "pycharm": {
     "name": "#%% md\n"
    }
   }
  },
  {
   "cell_type": "markdown",
   "source": [
    "`__iterable` means you can call sum(my_list), but not sum(__iterable = my_list)."
   ],
   "metadata": {
    "collapsed": false,
    "pycharm": {
     "name": "#%% md\n"
    }
   }
  },
  {
   "cell_type": "markdown",
   "source": [
    "Can also use `@overload` in a regular Python module, trước khi func được impl"
   ],
   "metadata": {
    "collapsed": false,
    "pycharm": {
     "name": "#%% md\n"
    }
   }
  },
  {
   "cell_type": "code",
   "execution_count": 2,
   "outputs": [],
   "source": [
    "# Example 15-1. mysum.py: definition of the sum function with overloaded signatures\n",
    "\n",
    "import functools\n",
    "import operator\n",
    "from collections.abc import Iterable\n",
    "from typing import overload, Union, TypeVar\n",
    "\n",
    "T = TypeVar('T')\n",
    "S = TypeVar('S')\n",
    "\n",
    "@overload\n",
    "def sum(it: Iterable[T]) -> Union[T, int]: ... #2\n",
    "@overload\n",
    "def sum(it: Iterable[T], /, start: S) -> Union[T, S]: ... #3\n",
    "def sum(it, /, start=0): #4\n",
    "    return functools.reduce(operator.add, it, start)\n",
    "\n",
    "#2: Cho case sum(my_iterable). Return value có thể là T - type của phần tử trong my_iterable, hoặc là int nếu my_iterable rỗng, vì start default là 0\n",
    "\n",
    "#3: Vì có start, nên phải có type là S, vì nếu reuse T type, thì start phải cùng T type"
   ],
   "metadata": {
    "collapsed": false,
    "pycharm": {
     "name": "#%%\n"
    }
   }
  },
  {
   "cell_type": "markdown",
   "source": [
    "Check [typeshed](https://github.com/python/typeshed/blob/a8834fcd46339e17fc8add82b5803a1ce53d3d60/stdlib/2and3/builtins.pyi), nó có rất nhiều ví dụ về việc dùng `@overload`\n",
    "\n",
    "\"Sometimes it’s better to be pragmatic and leave a piece of code without type hints.\""
   ],
   "metadata": {
    "collapsed": false,
    "pycharm": {
     "name": "#%% md\n"
    }
   }
  },
  {
   "cell_type": "markdown",
   "source": [
    "### Max Overload\n",
    "\n",
    "https://github.com/python/typeshed/issues/4051\n",
    "\n",
    "To fix issue #4051, wrote the code in Example 15-3"
   ],
   "metadata": {
    "collapsed": false,
    "pycharm": {
     "name": "#%% md\n"
    }
   }
  },
  {
   "cell_type": "code",
   "execution_count": 6,
   "outputs": [],
   "source": [
    "# Example 15-3. mymax.py: top of the module, with imports, definitions, and overloads\n",
    "\n",
    "from collections.abc import Callable, Iterable\n",
    "from typing import Protocol, Any, TypeVar, overload, Union\n",
    "\n",
    "class SupportsLessThan(Protocol):\n",
    "    def __lt__(self, other: Any) -> bool: ...\n",
    "\n",
    "T = TypeVar('T')\n",
    "LT = TypeVar('LT', bound=SupportsLessThan)\n",
    "DT = TypeVar('DT')\n",
    "\n",
    "MISSING = object()\n",
    "EMPTY_MSG = 'max() arg is an empty sequence'\n",
    "\n",
    "@overload\n",
    "def max(__arg1: LT, __arg2: LT, *args: LT, key: None = ...) -> LT:\n",
    "    ...\n",
    "@overload\n",
    "def max(__arg1: T, __arg2: T, *args: T, key: Callable[[T], LT]) -> T:\n",
    "    ...\n",
    "@overload\n",
    "def max(__iterable: Iterable[LT], *, key: None = ...) -> LT:\n",
    "    ...\n",
    "@overload\n",
    "def max(__iterable: Iterable[T], *, key: Callable[[T], LT]) -> T:\n",
    "    ...\n",
    "@overload\n",
    "def max(__iterable: Iterable[LT], *, key: None = ...,\n",
    "        default: DT) -> Union[LT, DT]:\n",
    "    ...\n",
    "@overload\n",
    "def max(__iterable: Iterable[T], *, key: Callable[[T], LT],\n",
    "        default: DT) -> Union[T, DT]:\n",
    "    ...\n",
    "\n",
    "def max(first, *args, key=None, default=MISSING):\n",
    "    if args:\n",
    "        series = args\n",
    "        candidate = first\n",
    "    else:\n",
    "        series = iter(first)\n",
    "        try:\n",
    "            candidate = next(series)\n",
    "        except StopIteration:\n",
    "            if default is not MISSING:\n",
    "                return default\n",
    "            raise ValueError(EMPTY_MSG) from None\n",
    "    if key is None:\n",
    "        for current in series:\n",
    "            if candidate < current:\n",
    "                candidate = current\n",
    "    else:\n",
    "        candidate_key = key(candidate)\n",
    "        for current in series:\n",
    "            current_key = key(current)\n",
    "            if candidate_key < current_key:\n",
    "                candidate = current\n",
    "                candidate_key = current_key\n",
    "    return candidate"
   ],
   "metadata": {
    "collapsed": false,
    "pycharm": {
     "name": "#%%\n"
    }
   }
  },
  {
   "cell_type": "markdown",
   "source": [
    "Thanks to `duck typing`, code has no `isinstance` checks, and provides the same error checking as those type hints—but only at runtime, of course.\n"
   ],
   "metadata": {
    "collapsed": false,
    "pycharm": {
     "name": "#%% md\n"
    }
   }
  },
  {
   "cell_type": "markdown",
   "source": [
    "### Arguments implementing SupportsLessThan, but key and default not provided\n",
    "\n",
    "The return type of max is the same as the actual arguments or items"
   ],
   "metadata": {
    "collapsed": false,
    "pycharm": {
     "name": "#%% md\n"
    }
   }
  },
  {
   "cell_type": "code",
   "execution_count": 7,
   "outputs": [
    {
     "data": {
      "text/plain": "2"
     },
     "execution_count": 7,
     "metadata": {},
     "output_type": "execute_result"
    }
   ],
   "source": [
    "\"\"\"\n",
    "@overload\n",
    "def max(__arg1: LT, __arg2: LT, *_args: LT, key: None = ...) -> LT:\n",
    "    ...\n",
    "# ... lines omitted ...\n",
    "@overload\n",
    "def max(__iterable: Iterable[LT], *, key: None = ...) -> LT:\n",
    "    ...\n",
    "\"\"\"\n",
    "max(1, 2, -3)"
   ],
   "metadata": {
    "collapsed": false,
    "pycharm": {
     "name": "#%%\n"
    }
   }
  },
  {
   "cell_type": "code",
   "execution_count": 8,
   "outputs": [
    {
     "data": {
      "text/plain": "'Rust'"
     },
     "execution_count": 8,
     "metadata": {},
     "output_type": "execute_result"
    }
   ],
   "source": [
    "max(['Go', 'Python', 'Rust'])"
   ],
   "metadata": {
    "collapsed": false,
    "pycharm": {
     "name": "#%%\n"
    }
   }
  },
  {
   "cell_type": "markdown",
   "source": [
    "### Argument key provided, but no default"
   ],
   "metadata": {
    "collapsed": false,
    "pycharm": {
     "name": "#%% md\n"
    }
   }
  },
  {
   "cell_type": "code",
   "execution_count": 9,
   "outputs": [
    {
     "data": {
      "text/plain": "-3"
     },
     "execution_count": 9,
     "metadata": {},
     "output_type": "execute_result"
    }
   ],
   "source": [
    "\"\"\"\n",
    "@overload\n",
    "def max(__arg1: T, __arg2: T, *_args: T, key: Callable[[T], LT]) -> T:\n",
    "    ...\n",
    "# ... lines omitted ...\n",
    "@overload\n",
    "def max(__iterable: Iterable[T], *, key: Callable[[T], LT]) -> T:\n",
    "    ...\n",
    "\"\"\"\n",
    "\n",
    "max(1, 2, -3, key=abs)"
   ],
   "metadata": {
    "collapsed": false,
    "pycharm": {
     "name": "#%%\n"
    }
   }
  },
  {
   "cell_type": "code",
   "execution_count": 10,
   "outputs": [
    {
     "data": {
      "text/plain": "'Python'"
     },
     "execution_count": 10,
     "metadata": {},
     "output_type": "execute_result"
    }
   ],
   "source": [
    "max(['Go', 'Python', 'Rust'], key=len)"
   ],
   "metadata": {
    "collapsed": false,
    "pycharm": {
     "name": "#%%\n"
    }
   }
  },
  {
   "cell_type": "markdown",
   "source": [
    "### Argument default provided, but no key"
   ],
   "metadata": {
    "collapsed": false,
    "pycharm": {
     "name": "#%% md\n"
    }
   }
  },
  {
   "cell_type": "code",
   "execution_count": 11,
   "outputs": [
    {
     "data": {
      "text/plain": "2"
     },
     "execution_count": 11,
     "metadata": {},
     "output_type": "execute_result"
    }
   ],
   "source": [
    "\"\"\"\n",
    "@overload\n",
    "def max(__iterable: Iterable[LT], *, key: None = ...,\n",
    "        default: DT) -> Union[LT, DT]:\n",
    "    ...\n",
    "\"\"\"\n",
    "\n",
    "max([1, 2, -3], default=0)"
   ],
   "metadata": {
    "collapsed": false,
    "pycharm": {
     "name": "#%%\n"
    }
   }
  },
  {
   "cell_type": "code",
   "execution_count": 12,
   "outputs": [],
   "source": [
    "max([], default=None)"
   ],
   "metadata": {
    "collapsed": false,
    "pycharm": {
     "name": "#%%\n"
    }
   }
  },
  {
   "cell_type": "markdown",
   "source": [
    "### Arguments key and default provided"
   ],
   "metadata": {
    "collapsed": false,
    "pycharm": {
     "name": "#%% md\n"
    }
   }
  },
  {
   "cell_type": "code",
   "execution_count": 13,
   "outputs": [
    {
     "data": {
      "text/plain": "-3"
     },
     "execution_count": 13,
     "metadata": {},
     "output_type": "execute_result"
    }
   ],
   "source": [
    "\"\"\"\n",
    "@overload\n",
    "def max(__iterable: Iterable[T], *, key: Callable[[T], LT],\n",
    "        default: DT) -> Union[T, DT]:\n",
    "    ...\n",
    "\"\"\"\n",
    "max([1, 2, -3], key=abs, default=None)"
   ],
   "metadata": {
    "collapsed": false,
    "pycharm": {
     "name": "#%%\n"
    }
   }
  },
  {
   "cell_type": "code",
   "execution_count": 14,
   "outputs": [],
   "source": [
    "max([], key=abs, default=None)"
   ],
   "metadata": {
    "collapsed": false,
    "pycharm": {
     "name": "#%%\n"
    }
   }
  },
  {
   "cell_type": "markdown",
   "source": [
    "### Bài học từ Overloading max\n",
    "\n",
    "Type hints allow Mypy to flag a call like `max([None, None])` with this error message\n",
    "\n",
    "`mymax_demo.py:109: error: Value of type variable \"_LT\" of \"max\"\n",
    "  cannot be \"None\"`\n",
    "--compli` time"
   ],
   "metadata": {
    "collapsed": false,
    "pycharm": {
     "name": "#%% md\n"
    }
   }
  },
  {
   "cell_type": "code",
   "execution_count": 15,
   "outputs": [
    {
     "ename": "TypeError",
     "evalue": "'<' not supported between instances of 'NoneType' and 'NoneType'",
     "output_type": "error",
     "traceback": [
      "\u001B[0;31m---------------------------------------------------------------------------\u001B[0m",
      "\u001B[0;31mTypeError\u001B[0m                                 Traceback (most recent call last)",
      "Cell \u001B[0;32mIn[15], line 1\u001B[0m\n\u001B[0;32m----> 1\u001B[0m \u001B[38;5;28;43mmax\u001B[39;49m\u001B[43m(\u001B[49m\u001B[43m[\u001B[49m\u001B[38;5;28;43;01mNone\u001B[39;49;00m\u001B[43m,\u001B[49m\u001B[43m \u001B[49m\u001B[38;5;28;43;01mNone\u001B[39;49;00m\u001B[43m]\u001B[49m\u001B[43m)\u001B[49m\n",
      "Cell \u001B[0;32mIn[6], line 51\u001B[0m, in \u001B[0;36mmax\u001B[0;34m(first, key, default, *args)\u001B[0m\n\u001B[1;32m     49\u001B[0m \u001B[38;5;28;01mif\u001B[39;00m key \u001B[38;5;129;01mis\u001B[39;00m \u001B[38;5;28;01mNone\u001B[39;00m:\n\u001B[1;32m     50\u001B[0m     \u001B[38;5;28;01mfor\u001B[39;00m current \u001B[38;5;129;01min\u001B[39;00m series:\n\u001B[0;32m---> 51\u001B[0m         \u001B[38;5;28;01mif\u001B[39;00m \u001B[43mcandidate\u001B[49m\u001B[43m \u001B[49m\u001B[38;5;241;43m<\u001B[39;49m\u001B[43m \u001B[49m\u001B[43mcurrent\u001B[49m:\n\u001B[1;32m     52\u001B[0m             candidate \u001B[38;5;241m=\u001B[39m current\n\u001B[1;32m     53\u001B[0m \u001B[38;5;28;01melse\u001B[39;00m:\n",
      "\u001B[0;31mTypeError\u001B[0m: '<' not supported between instances of 'NoneType' and 'NoneType'"
     ]
    }
   ],
   "source": [
    "max([None, None]) # runtime"
   ],
   "metadata": {
    "collapsed": false,
    "pycharm": {
     "name": "#%%\n"
    }
   }
  },
  {
   "cell_type": "markdown",
   "source": [
    "Nhưng nó phải viết quá nhiều code để support type checker, và với hàm `min` , ta cũng cần viết số code đó"
   ],
   "metadata": {
    "collapsed": false,
    "pycharm": {
     "name": "#%% md\n"
    }
   }
  },
  {
   "cell_type": "markdown",
   "source": [
    "OK, giờ đến phần `TypedDict`, nó cũng ko quá hữu ích, và nó chỉ cho ta thấy những hạn chế của `static typing` khi handle dynamic structure (VD: JSON)\n",
    "\n",
    "## TypedDict\n",
    "\n",
    "Rất OK nếu dùng `TypeDict` để tránh errors khi handle dynamic structure như JSON API response.\n",
    "\n",
    "Nhưng correct handle JSON phải đc done ở runtime, chứ ko phải ở static type checking ở type hints.\n",
    "\n",
    "Để runtime check cho JSON/XML structure bằng type hints, nên dùng `pydantic`"
   ],
   "metadata": {
    "collapsed": false,
    "pycharm": {
     "name": "#%% md\n"
    }
   }
  },
  {
   "cell_type": "markdown",
   "source": [
    "Ví dụ:\n",
    "\n",
    "```json\n",
    "{\"isbn\": \"0134757599\",\n",
    " \"title\": \"Refactoring, 2e\",\n",
    " \"authors\": [\"Martin Fowler\", \"Kent Beck\"],\n",
    " \"pagecount\": 478}\n",
    "```\n",
    "\n",
    "Type hints, có 3 cách để biểu đạt\n",
    "- `Dict[str, Any]`\n",
    "- `Dict[str, Union[str, int, List[str]]]`\n",
    "- `TypedDict` (OK hơn 2 cái trên): khá giống với `typing.NamedTuple` (chap 5) nhưng chỉ dùng cho type checker, no runtime effect"
   ],
   "metadata": {
    "collapsed": false,
    "pycharm": {
     "name": "#%% md\n"
    }
   }
  },
  {
   "cell_type": "code",
   "execution_count": 16,
   "outputs": [
    {
     "data": {
      "text/plain": "dict"
     },
     "execution_count": 16,
     "metadata": {},
     "output_type": "execute_result"
    }
   ],
   "source": [
    "from typing import TypedDict\n",
    "\n",
    "class BookDict(TypedDict):\n",
    "    isbn: str\n",
    "    title: str\n",
    "    authors: list[str]\n",
    "    pagecount: int\n",
    "\n",
    "pp = BookDict(title='Programming Pearls',\n",
    "              authors='Jon Bentley',\n",
    "              isbn='0201657880',\n",
    "              pagecount=256)\n",
    "\n",
    "type(pp)"
   ],
   "metadata": {
    "collapsed": false,
    "pycharm": {
     "name": "#%%\n"
    }
   }
  },
  {
   "cell_type": "code",
   "execution_count": 17,
   "outputs": [
    {
     "ename": "AttributeError",
     "evalue": "'dict' object has no attribute 'title'",
     "output_type": "error",
     "traceback": [
      "\u001B[0;31m---------------------------------------------------------------------------\u001B[0m",
      "\u001B[0;31mAttributeError\u001B[0m                            Traceback (most recent call last)",
      "Cell \u001B[0;32mIn[17], line 1\u001B[0m\n\u001B[0;32m----> 1\u001B[0m \u001B[43mpp\u001B[49m\u001B[38;5;241;43m.\u001B[39;49m\u001B[43mtitle\u001B[49m\n",
      "\u001B[0;31mAttributeError\u001B[0m: 'dict' object has no attribute 'title'"
     ]
    }
   ],
   "source": [
    "pp.title # vì là dict -> ko thể dùng object.field"
   ],
   "metadata": {
    "collapsed": false,
    "pycharm": {
     "name": "#%%\n"
    }
   }
  },
  {
   "cell_type": "code",
   "execution_count": 18,
   "outputs": [
    {
     "data": {
      "text/plain": "'Programming Pearls'"
     },
     "execution_count": 18,
     "metadata": {},
     "output_type": "execute_result"
    }
   ],
   "source": [
    "pp['title']"
   ],
   "metadata": {
    "collapsed": false,
    "pycharm": {
     "name": "#%%\n"
    }
   }
  },
  {
   "cell_type": "code",
   "execution_count": 19,
   "outputs": [
    {
     "data": {
      "text/plain": "{'isbn': str, 'title': str, 'authors': list[str], 'pagecount': int}"
     },
     "execution_count": 19,
     "metadata": {},
     "output_type": "execute_result"
    }
   ],
   "source": [
    "BookDict.__annotations__"
   ],
   "metadata": {
    "collapsed": false,
    "pycharm": {
     "name": "#%%\n"
    }
   }
  },
  {
   "cell_type": "markdown",
   "source": [
    "Example 15-6 builds a valid `BookDict` and tries some operations on it. This shows how `TypedDict` enables `Mypy` to catch errors, shown in Example 15-7."
   ],
   "metadata": {
    "collapsed": false,
    "pycharm": {
     "name": "#%% md\n"
    }
   }
  },
  {
   "cell_type": "code",
   "execution_count": 21,
   "outputs": [],
   "source": [
    "# Example 15-6. demo_books.py\n",
    "from typing import TYPE_CHECKING\n",
    "\n",
    "def demo() -> None:  # <1>\n",
    "    book = BookDict(  # <2> valid BookDict\n",
    "        isbn='0134757599',\n",
    "        title='Refactoring, 2e',\n",
    "        authors=['Martin Fowler', 'Kent Beck'],\n",
    "        pagecount=478\n",
    "    )\n",
    "    authors = book['authors'] # <3> Mypy will infer the type of authors\n",
    "    if TYPE_CHECKING:  # <4>\n",
    "        reveal_type(authors)  # <5>\n",
    "    authors = 'Bob'  # <6>\n",
    "    book['weight'] = 4.2\n",
    "    del book['title']\n",
    "\n",
    "\n",
    "if __name__ == '__main__':\n",
    "    demo()\n",
    "\n",
    "# 1: Remember to add a return type, so that Mypy doesn’t ignore the function.\n",
    "# 4: typing.TYPE_CHECKING is only True when the program is being type checked. At runtime, it’s always false.\n",
    "# 5: reveal_type is not a runtime Python function, but a debugging facility provided by Mypy\n",
    "# 6: Error"
   ],
   "metadata": {
    "collapsed": false,
    "pycharm": {
     "name": "#%%\n"
    }
   }
  },
  {
   "cell_type": "markdown",
   "source": [
    "```bash\n",
    "…/typeddict/ $ mypy demo_books.py\n",
    "demo_books.py:13: note: Revealed type is 'built-ins.list[built-ins.str]'  1\n",
    "demo_books.py:14: error: Incompatible types in assignment\n",
    "                  (expression has type \"str\", variable has type \"List[str]\")  2\n",
    "demo_books.py:15: error: TypedDict \"BookDict\" has no key 'weight'  3\n",
    "demo_books.py:16: error: Key 'title' of TypedDict \"BookDict\" cannot be deleted  4\n",
    "Found 3 errors in 1 file (checked 1 source file)\n",
    "```"
   ],
   "metadata": {
    "collapsed": false,
    "pycharm": {
     "name": "#%% md\n"
    }
   }
  },
  {
   "cell_type": "markdown",
   "source": [
    "#1. This note is the result of reveal_type(authors).\n",
    "#2. authors lấy type từ `book['authors']`: List[str]\n",
    "#3. Book ko có key là weight"
   ],
   "metadata": {
    "collapsed": false,
    "pycharm": {
     "name": "#%% md\n"
    }
   }
  },
  {
   "cell_type": "markdown",
   "source": [
    "Giờ thì cần sinh ra XML từ book record"
   ],
   "metadata": {
    "collapsed": false,
    "pycharm": {
     "name": "#%% md\n"
    }
   }
  },
  {
   "cell_type": "markdown",
   "source": [
    "Static type checking is unable to prevent errors with code that is dynamic, such as `json.loads()`, which builds Python objects of different types at runtime, as Examples 15-11, 15-12, and 15-13 demonstrate."
   ],
   "metadata": {
    "collapsed": false,
    "pycharm": {
     "name": "#%% md\n"
    }
   }
  },
  {
   "cell_type": "markdown",
   "source": [
    "- Example 15-11. demo_not_book.py: from_json returns an invalid BookDict, and to_xml accepts it\n",
    "\n",
    "```bash\n",
    "…/typeddict/ $ mypy demo_not_book.py\n",
    "demo_not_book.py:12: note: Revealed type is\n",
    "   'TypedDict('books.BookDict', {'isbn': built-ins.str,\n",
    "                                 'title': built-ins.str,\n",
    "                                 'authors': built-ins.list[built-ins.str],\n",
    "                                 'pagecount': built-ins.int})'  1\n",
    "demo_not_book.py:13: note: Revealed type is 'built-ins.list[built-ins.str]'  2\n",
    "demo_not_book.py:16: error: TypedDict \"BookDict\" has no key 'flavor'  3\n",
    "Found 1 error in 1 file (checked 1 source file)\n",
    "```"
   ],
   "metadata": {
    "collapsed": false,
    "pycharm": {
     "name": "#%% md\n"
    }
   }
  },
  {
   "cell_type": "markdown",
   "source": [
    "\n",
    "```bash\n",
    "…/typeddict/ $ python3 demo_not_book.py\n",
    "{'title': 'Andromeda Strain', 'flavor': 'pistachio', 'authors': True}  1\n",
    "pistachio  2\n",
    "<BOOK>  3\n",
    "        <TITLE>Andromeda Strain</TITLE>\n",
    "        <FLAVOR>pistachio</FLAVOR>\n",
    "        <AUTHORS>True</AUTHORS>\n",
    "</BOOK>\n",
    "```\n",
    "1. Nó ko là `BookDict`\n",
    "2. Giá trị của `not_book['flavor']`\n",
    "3. `to_xml` takes a BookDict argument, but there is no runtime checking: garbage in, garbage out."
   ],
   "metadata": {
    "collapsed": false,
    "pycharm": {
     "name": "#%% md\n"
    }
   }
  },
  {
   "cell_type": "markdown",
   "source": [
    "--> compli time sai, nhưng runtime vẫn ok\n",
    "--> `TypeDict` để handle `JSON`/`XML` ko an toàn\n",
    "--> Khi đó, nên dùng `pydantic`: https://pypi.org/project/pydantic/\n",
    "\n",
    "```python\n",
    "from datetime import datetime\n",
    "from typing import List, Optional\n",
    "from pydantic import BaseModel\n",
    "\n",
    "class User(BaseModel):\n",
    "    id: int\n",
    "    name = 'John Doe'\n",
    "    signup_ts: Optional[datetime] = None\n",
    "    friends: List[int] = []\n",
    "\n",
    "external_data = {'id': '123', 'signup_ts': '2017-06-01 12:22', 'friends': [1, '2', b'3']}\n",
    "user = User(**external_data)\n",
    "print(user)\n",
    "#> User id=123 name='John Doe' signup_ts=datetime.datetime(2017, 6, 1, 12, 22) friends=[1, 2, 3]\n",
    "print(user.id)\n",
    "#> 123\n",
    "```"
   ],
   "metadata": {
    "collapsed": false,
    "pycharm": {
     "name": "#%% md\n"
    }
   }
  },
  {
   "cell_type": "markdown",
   "source": [
    "## Type Casting\n",
    "\n",
    "Nên tránh dùng nhất khi có thể"
   ],
   "metadata": {
    "collapsed": false,
    "pycharm": {
     "name": "#%% md\n"
    }
   }
  },
  {
   "cell_type": "markdown",
   "source": [
    "The `typing.cast()` special function provides one way to handle type checking malfunctions (trục trặc) or incorrect type hints in code we can’t fix.\n",
    "\n",
    "At runtime, typing.cast does absolutely nothing."
   ],
   "metadata": {
    "collapsed": false,
    "pycharm": {
     "name": "#%% md\n"
    }
   }
  },
  {
   "cell_type": "code",
   "execution_count": 23,
   "outputs": [],
   "source": [
    "def cast(typ, val):\n",
    "    \"\"\"Cast a value to a type.\n",
    "    This returns the value unchanged.  To the type checker this\n",
    "    signals that the return value has the designated type, but at\n",
    "    runtime we intentionally don't check anything (we want this\n",
    "    to be as fast as possible).\n",
    "    \"\"\"\n",
    "    return val"
   ],
   "metadata": {
    "collapsed": false,
    "pycharm": {
     "name": "#%%\n"
    }
   }
  },
  {
   "cell_type": "code",
   "execution_count": 24,
   "outputs": [],
   "source": [
    "# Ví dụ cần dùng cast,\n",
    "# VD1: tìm str đầu tiên trong list\n",
    "\n",
    "from typing import cast\n",
    "\n",
    "def find_first_str(a: list[object]) -> str:\n",
    "    index = next(i for i, x in enumerate(a) if isinstance(x, str))\n",
    "    # We only get here if there's at least one string\n",
    "    return cast(str, a[index])\n",
    "\n",
    "# VD2: Mypy reported this error\n",
    "addr = server.sockets[0].getsockname()\n",
    "## Mypy error: Value of type \"Optional[List[socket]]\" is not indexable\n",
    "\n",
    "## --> dùng cast\n",
    "from asyncio.trsock import TransportSocket\n",
    "from typing import cast\n",
    "\n",
    "# ... many lines omitted ...\n",
    "\n",
    "socket_list = cast(tuple[TransportSocket, ...], server.sockets)\n",
    "addr = socket_list[0].getsockname()"
   ],
   "metadata": {
    "collapsed": false,
    "pycharm": {
     "name": "#%%\n"
    }
   }
  },
  {
   "cell_type": "markdown",
   "source": [
    "WARNING\n",
    "\n",
    "Don’t get too comfortable using `cast` to silence `Mypy`, because Mypy is usually right when it reports an error. If you are using cast very often, that’s a `code smell`."
   ],
   "metadata": {
    "collapsed": false,
    "pycharm": {
     "name": "#%% md\n"
    }
   }
  },
  {
   "cell_type": "markdown",
   "source": [
    "Of course, not all typing mishaps can be fixed with `cast`. Sometimes we need `# type: ignore`, the occasional `Any`, or even leaving a function without type hints."
   ],
   "metadata": {
    "collapsed": false,
    "pycharm": {
     "name": "#%% md\n"
    }
   }
  },
  {
   "cell_type": "markdown",
   "source": [
    "## Reading Type Hints at Runtime\n",
    "\n",
    "At import time, Python reads the type hints in functions, classes, and modules, and stores them in attributes named `__annotations__`"
   ],
   "metadata": {
    "collapsed": false,
    "pycharm": {
     "name": "#%% md\n"
    }
   }
  },
  {
   "cell_type": "code",
   "execution_count": 6,
   "outputs": [],
   "source": [
    "def clip(text: str, max_len: int = 80) -> str:\n",
    "    a = text + max_len"
   ],
   "metadata": {
    "collapsed": false,
    "pycharm": {
     "name": "#%%\n"
    }
   }
  },
  {
   "cell_type": "code",
   "execution_count": 7,
   "outputs": [
    {
     "data": {
      "text/plain": "{'text': str, 'max_len': int, 'return': str}"
     },
     "execution_count": 7,
     "metadata": {},
     "output_type": "execute_result"
    }
   ],
   "source": [
    "clip.__annotations__ # <-- evaluated by the interpreter at import time"
   ],
   "metadata": {
    "collapsed": false,
    "pycharm": {
     "name": "#%%\n"
    }
   }
  },
  {
   "cell_type": "markdown",
   "source": [
    "### Problems with Annotations at Runtime\n",
    "\n",
    "Việc sử dụng type hints có 2 vấn đề:\n",
    "- Importing modules tốn nhiều CPU + Memory khi sử dụng type hints\n",
    "- Các loại chưa được define sẽ sử dụng string ('int') thay vì actual type (int)\n",
    "   - Lưu annotations là strings được dùng do vấn đề “forward reference” (when a type hint needs to refer to a class defined below in the same module)\n",
    "   - Code needs to figure out what that string means: `typing.get_type_hints`"
   ],
   "metadata": {
    "collapsed": false,
    "pycharm": {
     "name": "#%% md\n"
    }
   }
  },
  {
   "cell_type": "code",
   "execution_count": null,
   "outputs": [],
   "source": [
    "# Ví dụ: Kiểu Rectangle\n",
    "# Vì __annotations__ đc xác định ở import time\n",
    "class Rectangle:\n",
    "    # ... lines omitted ...\n",
    "    def stretch(self, factor: float) -> 'Rectangle':\n",
    "        return Rectangle(width=self.width * factor)"
   ],
   "metadata": {
    "collapsed": false,
    "pycharm": {
     "name": "#%%\n"
    }
   }
  },
  {
   "cell_type": "markdown",
   "source": [
    "```\n",
    "from __future__ import annotations\n",
    ">>> from clip_annot_post import clip\n",
    ">>> clip.__annotations__\n",
    "{'text': 'str', 'max_len': 'int', 'return': 'str'}\n",
    "```"
   ],
   "metadata": {
    "collapsed": false,
    "pycharm": {
     "name": "#%% md\n"
    }
   }
  },
  {
   "cell_type": "markdown",
   "source": [
    "```\n",
    ">>> from clip_annot_post import clip\n",
    ">>> from typing import get_type_hints\n",
    ">>> get_type_hints(clip)\n",
    "{'text': <class 'str'>, 'max_len': <class 'int'>, 'return': <class 'str'>}\n",
    "```"
   ],
   "metadata": {
    "collapsed": false,
    "pycharm": {
     "name": "#%% md\n"
    }
   }
  },
  {
   "cell_type": "markdown",
   "source": [
    "-->\n",
    "\n",
    "Calling `get_type_hints` gives us the `real types—even` in some cases where the `original type hint` is written as a quoted string. That’s the recommended way to read type hints at runtime."
   ],
   "metadata": {
    "collapsed": false,
    "pycharm": {
     "name": "#%% md\n"
    }
   }
  },
  {
   "cell_type": "markdown",
   "source": [
    "NOTE\n",
    "Các công ty sử dụng Python ở quy mô rất lớn muốn có những lợi ích của static typing, nhưng họ không muốn trả giá cho việc đánh giá các type hint ở import time. Static check thường ở máy local hoặc CI, nó check thường xuyên -> chi phí lớn.\n",
    "\n",
    "-> Có người thì thích type hint ở dạng String (giảm loading cost) , Có người lại thích type hint ở runtime, lưu type objects  (VD: người tạo và người dùng pydantic và FastAPI)\n",
    "- FastAPI (code API nhanh mà dễ ẹc) được build dựa trên OpenAPI (trước có tên Swagger), phần web được support bởi Starlette, còn phần data được support bởi Pydantic."
   ],
   "metadata": {
    "collapsed": false,
    "pycharm": {
     "name": "#%% md\n"
    }
   }
  },
  {
   "cell_type": "markdown",
   "source": [
    "### Dealing with the Problem\n",
    "\n",
    "Nếu muốn đọc annotations ở runtime, nên:\n",
    "- Avoid reading `__annotations__` directly; instead, use:\n",
    "   - `inspect.get_annotations` (from Python 3.10)\n",
    "   - `typing.get_type_hints` (since Python 3.5)\n",
    "- Write a custom function of your own as a thin wrapper around `inspect.get_annotations` or `typing.get_type_hints`, and have the rest of your codebase call that custom function, so that future changes are localized to a single function.\n",
    "\n",
    "Ví dụ poin 2:\n",
    "\n",
    "```python\n",
    "class Checked:\n",
    "    @classmethod\n",
    "    def _fields(cls) -> dict[str, type]:\n",
    "        return get_type_hints(cls)\n",
    "    # ... more lines ...\n",
    "```\n",
    "\n",
    "The `Checked._fields` class method protects other parts of the module from depending directly on `typing.get_type_hints`"
   ],
   "metadata": {
    "collapsed": false,
    "pycharm": {
     "name": "#%% md\n"
    }
   }
  },
  {
   "cell_type": "markdown",
   "source": [
    "Các phần còn lại của chương này đề cập đến khái quát, bắt đầu với cách định nghĩa một lớp chung mà người dùng có thể tham số hóa."
   ],
   "metadata": {
    "collapsed": false,
    "pycharm": {
     "name": "#%% md\n"
    }
   }
  },
  {
   "cell_type": "markdown",
   "source": [
    "## Implementing a Generic Class\n",
    "\n",
    "Ví dụ 13-7, ta định nghĩa `Tombola` ABC: 1 interface cho class như \"bingo cage\". `LottoBlower` class ở ví dụ 13-10 là 1 implement của nó.\n",
    "\n",
    "Giờ ta sẽ xem về generic version của `LottoBlower` ở Ví dụ 15-15."
   ],
   "metadata": {
    "collapsed": false,
    "pycharm": {
     "name": "#%% md\n"
    }
   }
  },
  {
   "cell_type": "markdown",
   "source": [
    "Xem cách implements ở\n",
    "\n",
    "[generic_lotto.py](https://github.com/huymq1710/example-code-2e/blob/master/15-more-types/lotto/generic_lotto.py)\n",
    "\n",
    "Generic class cần định nghĩa kiểu\n",
    "\n",
    "VD: `lotto = LottoBlower[int]([1,2,3])`"
   ],
   "metadata": {
    "collapsed": false,
    "pycharm": {
     "name": "#%% md\n"
    }
   }
  },
  {
   "cell_type": "markdown",
   "source": [
    "### Các thuật ngữ cơ bản của Generic Types\n",
    "\n",
    "Generic type\n",
    "- A type declared with one or more type variables.\n",
    "- Examples: `LottoBlower[T]`, `abc.Mapping[KT, VT]`\n",
    "\n",
    "Formal type parameter\n",
    "- The type variables that appear in a generic type declaration.\n",
    "- Example: KT and VT in the previous example `abc.Mapping[KT, VT]`\n",
    "\n",
    "Parameterized type\n",
    "- A type declared with actual type parameters.\n",
    "- Examples: `LottoBlower[int]`, `abc.Mapping[str, float]`\n",
    "\n",
    "Actual type parameter\n",
    "- The actual types given as parameters when a parameterized type is declared.\n",
    "- Example: the `int` in `LottoBlower[int]`\n",
    "\n"
   ],
   "metadata": {
    "collapsed": false,
    "pycharm": {
     "name": "#%% md\n"
    }
   }
  },
  {
   "cell_type": "markdown",
   "source": [
    "Chủ đề tiếp theo là về cách làm cho các generic types linh hoạt hơn, giới thiệu các khái niệm về hiệp phương sai, chống phương sai và bất biến."
   ],
   "metadata": {
    "collapsed": false,
    "pycharm": {
     "name": "#%% md\n"
    }
   }
  },
  {
   "cell_type": "markdown",
   "source": [
    "## Variance (phương sai)\n",
    "\n",
    "- Phần khó nhất\n",
    "- Giống toán\n",
    "\n",
    "\n",
    "NOTE\n",
    "\n",
    "Trong thực tế, phương sai chủ yếu được dùng bởi người viết thư viện, người muốn hỗ trợ new generic container types hoặc cung cấp callback-based APIs.\n",
    "\n",
    "Ta có thể tránh sự phức tạp bằng cách chỉ hỗ trợ invariant (bất biến) containers\n",
    "\n",
    "Ta lần đầu thất *variance* ở chương 8 (Variance in Callable types):"
   ],
   "metadata": {
    "collapsed": false,
    "pycharm": {
     "name": "#%% md\n"
    }
   }
  },
  {
   "cell_type": "code",
   "execution_count": null,
   "outputs": [],
   "source": [
    "# Example 8-24. Minh hoạ variance.\n",
    "from collections.abc import Callable\n",
    "\n",
    "def update(  #1\n",
    "    probe: Callable[[], float],  #2\n",
    "    display: Callable[[float], None]  #3\n",
    "    ) -> None:\n",
    "    temperature = probe()\n",
    "    # imagine lots of control code here\n",
    "    display(temperature)\n",
    "\n",
    "def probe_ok() -> int:  #4\n",
    "    return 42\n",
    "\n",
    "def display_wrong(temperature: int) -> None:  #5\n",
    "    print(hex(temperature))\n",
    "\n",
    "update(probe_ok, display_wrong)  # type error  #6\n",
    "\n",
    "def display_ok(temperature: complex) -> None:  #7\n",
    "    print(temperature)\n",
    "\n",
    "update(probe_ok, display_ok)  # OK  8\n",
    "\n",
    "#1: `update` takes two callables as arguments.\n",
    "#2: `probe` must be a callable that takes no arguments and returns a float\n",
    "#3: `display` takes a float argument and returns None\n",
    "#4: `probe_ok` is consistent-with `Callable[[], float]` because returning an int does not break code that expects a float\n",
    "\n",
    "#5: display_wrong is not consistent-with Callable[[float], None] because there’s no guarantee that a function that expects an int can handle a float;\n",
    "\n",
    "#6: Mypy flags this line because display_wrong is incompatible with the type hint in the display parameter of update.\n",
    "\n",
    "#7: display_ok is consistent-with Callable[[float], None] because a function that accepts a complex can also handle a float argument.\n",
    "\n",
    "#8: Mypy OK"
   ],
   "metadata": {
    "collapsed": false,
    "pycharm": {
     "name": "#%%\n"
    }
   }
  },
  {
   "cell_type": "markdown",
   "source": [
    "Ở đây, chúng ta sẽ mở rộng khái niệm này để bao gồm generic collection types, làm cho khái niệm trừu tượng này cụ thể hơn."
   ],
   "metadata": {
    "collapsed": false,
    "pycharm": {
     "name": "#%% md\n"
    }
   }
  },
  {
   "cell_type": "markdown",
   "source": [
    "Ví dụ: Máy bán hàng ở trường chỉ được dùng loại bán nước trái cây (juice dispensers). Không được loại máy bán thường (General beverage dispensers) vì nó có thể bán đồ có cồn."
   ],
   "metadata": {
    "collapsed": false,
    "pycharm": {
     "name": "#%% md\n"
    }
   }
  },
  {
   "cell_type": "markdown",
   "source": [
    "### An Invariant (bất biến) Dispenser\n",
    "- Chỉ là class\n",
    "\n",
    "Bắt đầu vs tình huống ở ví dụ bằng 1 generic `BeverageDispenser` class"
   ],
   "metadata": {
    "collapsed": false,
    "pycharm": {
     "name": "#%% md\n"
    }
   }
  },
  {
   "cell_type": "code",
   "execution_count": 1,
   "outputs": [],
   "source": [
    "# Example 15-18. invariant.py\n",
    "# tag::BEVERAGE_TYPES[]\n",
    "from typing import TypeVar, Generic\n",
    "\n",
    "class Beverage:  # <1>\n",
    "    \"\"\"Any beverage (đồ uống).\"\"\"\n",
    "\n",
    "class Juice(Beverage):\n",
    "    \"\"\"Any fruit juice.\"\"\"\n",
    "\n",
    "class OrangeJuice(Juice):\n",
    "    \"\"\"Delicious juice from Brazilian oranges.\"\"\"\n",
    "\n",
    "T = TypeVar('T')  # <2> Simple TypeVar declaration.\n",
    "\n",
    "class BeverageDispenser(Generic[T]):  # <3> được tham số hóa trên loại đồ uống\n",
    "    \"\"\"A dispenser (máy bán hàng) parameterized on the beverage type.\"\"\"\n",
    "    def __init__(self, beverage: T) -> None:\n",
    "        self.beverage = beverage\n",
    "\n",
    "    def dispense(self) -> T:\n",
    "        return self.beverage\n",
    "\n",
    "def install(dispenser: BeverageDispenser[Juice]) -> None:  # <4> Chỉ cho install loại Juice\n",
    "    \"\"\"Install a fruit juice dispenser.\"\"\"\n",
    "# end::BEVERAGE_TYPES[]"
   ],
   "metadata": {
    "collapsed": false,
    "pycharm": {
     "name": "#%%\n"
    }
   }
  },
  {
   "cell_type": "code",
   "execution_count": 3,
   "outputs": [],
   "source": [
    "# Hợp lệ:\n",
    "juice_dispenser = BeverageDispenser(Juice())\n",
    "install(juice_dispenser)"
   ],
   "metadata": {
    "collapsed": false,
    "pycharm": {
     "name": "#%%\n"
    }
   }
  },
  {
   "cell_type": "code",
   "execution_count": 2,
   "outputs": [],
   "source": [
    "# Không hợp lệ\n",
    "beverage_dispenser = BeverageDispenser(Beverage())\n",
    "install(beverage_dispenser)\n",
    "## mypy: Argument 1 to \"install\" has\n",
    "## incompatible type \"BeverageDispenser[Beverage]\"\n",
    "##          expected \"BeverageDispenser[Juice]\""
   ],
   "metadata": {
    "collapsed": false,
    "pycharm": {
     "name": "#%%\n"
    }
   }
  },
  {
   "cell_type": "code",
   "execution_count": null,
   "outputs": [],
   "source": [
    "# Nhưng cái này cũng ko hợp lệ\n",
    "\n",
    "orange_juice_dispenser = BeverageDispenser(OrangeJuice())\n",
    "install(orange_juice_dispenser)\n",
    "## mypy: Argument 1 to \"install\" has\n",
    "## incompatible type \"BeverageDispenser[OrangeJuice]\"\n",
    "##          expected \"BeverageDispenser[Juice]\""
   ],
   "metadata": {
    "collapsed": false,
    "pycharm": {
     "name": "#%%\n"
    }
   }
  },
  {
   "cell_type": "markdown",
   "source": [
    "--> Ta nói `BeverageDispenser(Generic[T])` là invariant (bất biến/ko thể đổi) khi `BeverageDispenser[OrangeJuice]` không tương thích với `BeverageDispenser[Juice]`—mặc dù thực tế là `OrangeJuice` là một loại phụ của `Juice`."
   ],
   "metadata": {
    "collapsed": false,
    "pycharm": {
     "name": "#%% md\n"
    }
   }
  },
  {
   "cell_type": "markdown",
   "source": [
    "Python mutable collection types—such as `list` and `set`—are invariant."
   ],
   "metadata": {
    "collapsed": false,
    "pycharm": {
     "name": "#%% md\n"
    }
   }
  },
  {
   "cell_type": "markdown",
   "source": [
    "NOTE\n",
    "- Immutable: bất biến, typically is applied to objects\n",
    "- Invariant: bất biến, typically applied to attributes/values."
   ],
   "metadata": {
    "collapsed": false,
    "pycharm": {
     "name": "#%% md\n"
    }
   }
  },
  {
   "cell_type": "markdown",
   "source": [
    "### A Covariant (Hiệp phương sai) Dispenser\n",
    "- Chấp nhận class + con của nó\n",
    "\n",
    "Nếu ta muốn linh hoạt, chấp nhận Juice và subtype của nó (OrangeJuice) -> ta làm generic class trở lên `Covariant`"
   ],
   "metadata": {
    "collapsed": false,
    "pycharm": {
     "name": "#%% md\n"
    }
   }
  },
  {
   "cell_type": "code",
   "execution_count": 4,
   "outputs": [],
   "source": [
    "# Example 15-19. covariant.py\n",
    "from typing import TypeVar, Generic\n",
    "\n",
    "\n",
    "class Beverage:\n",
    "    \"\"\"Any beverage.\"\"\"\n",
    "\n",
    "\n",
    "class Juice(Beverage):\n",
    "    \"\"\"Any fruit juice.\"\"\"\n",
    "\n",
    "\n",
    "class OrangeJuice(Juice): # Subclass của Juice\n",
    "    \"\"\"Delicious juice from Brazilian oranges.\"\"\"\n",
    "\n",
    "\n",
    "# tag::BEVERAGE_TYPES[]\n",
    "T_co = TypeVar('T_co', covariant=True)  # <1> Chấp nhận class + con của nó\n",
    "\n",
    "\n",
    "class BeverageDispenser(Generic[T_co]):  # <2>\n",
    "    def __init__(self, beverage: T_co) -> None:\n",
    "        self.beverage = beverage\n",
    "\n",
    "    def dispense(self) -> T_co:\n",
    "        return self.beverage\n",
    "\n",
    "def install(dispenser: BeverageDispenser[Juice]) -> None:  # <3>\n",
    "    \"\"\"Install a fruit juice dispenser.\"\"\"\n",
    "# end::BEVERAGE_TYPES[]"
   ],
   "metadata": {
    "collapsed": false,
    "pycharm": {
     "name": "#%%\n"
    }
   }
  },
  {
   "cell_type": "code",
   "execution_count": 5,
   "outputs": [],
   "source": [
    "# Hợp lệ\n",
    "orange_juice_dispenser = BeverageDispenser(OrangeJuice())\n",
    "install(orange_juice_dispenser)"
   ],
   "metadata": {
    "collapsed": false,
    "pycharm": {
     "name": "#%%\n"
    }
   }
  },
  {
   "cell_type": "markdown",
   "source": [
    "### A Contravariant (trái ngược/chống lại) Trash Can\n",
    "- Chấp nhận class + cha của  nó\n",
    "\n",
    "Giờ ta sẽ lập 1 quy tắc ở quán cafe để vứt rác:\n",
    "- `Refuse`:  general type of trash\n",
    "- `Biodegradable`: rác có thể phân huỷ\n",
    "- `Compostable`: rác có thể phân huỷ và được chuyển thành phân bón"
   ],
   "metadata": {
    "collapsed": false,
    "pycharm": {
     "name": "#%% md\n"
    }
   }
  },
  {
   "cell_type": "code",
   "execution_count": null,
   "outputs": [],
   "source": [
    "# Example 15-20. contravariant.py: type definitions and install function\n",
    "\n",
    "# tag::TRASH_TYPES[]\n",
    "from typing import TypeVar, Generic\n",
    "\n",
    "class Refuse:  # <1>\n",
    "    \"\"\"Any refuse.\"\"\"\n",
    "\n",
    "class Biodegradable(Refuse):\n",
    "    \"\"\"Biodegradable refuse.\"\"\"\n",
    "\n",
    "class Compostable(Biodegradable):\n",
    "    \"\"\"Compostable refuse.\"\"\"\n",
    "\n",
    "T_contra = TypeVar('T_contra', contravariant=True)  # <2> Chấp nhận class + cha của  nó\n",
    "\n",
    "class TrashCan(Generic[T_contra]):  # <3>\n",
    "    def put(self, refuse: T_contra) -> None:\n",
    "        \"\"\"Store trash until dumped.\"\"\"\n",
    "\n",
    "def deploy(trash_can: TrashCan[Biodegradable]):\n",
    "    \"\"\"Deploy a trash can for biodegradable refuse.\"\"\"\n",
    "# end::TRASH_TYPES[]\n",
    "\n",
    "\n",
    "################################################ contravariant trash can\n",
    "\n",
    "\n",
    "# tag::DEPLOY_TRASH_CANS[]\n",
    "bio_can: TrashCan[Biodegradable] = TrashCan()\n",
    "deploy(bio_can)\n",
    "\n",
    "trash_can: TrashCan[Refuse] = TrashCan()\n",
    "deploy(trash_can)\n",
    "# end::DEPLOY_TRASH_CANS[]\n",
    "\n",
    "\n",
    "################################################ more specific trash can\n",
    "\n",
    "# tag::DEPLOY_NOT_VALID[]\n",
    "compost_can: TrashCan[Compostable] = TrashCan()\n",
    "deploy(compost_can)\n",
    "## mypy: Argument 1 to \"deploy\" has\n",
    "## incompatible type \"TrashCan[Compostable]\"\n",
    "##          expected \"TrashCan[Biodegradable]\"\n",
    "# end::DEPLOY_NOT_VALID[]"
   ],
   "metadata": {
    "collapsed": false,
    "pycharm": {
     "name": "#%%\n"
    }
   }
  },
  {
   "cell_type": "markdown",
   "source": [
    "### Variance Review\n",
    "\n",
    "Các phần sau tóm tắt lại khái niệm về các loại invariant (bất biến), covariant (hiệp biến) và contravariant (chống biến), đồng thời cung cấp một số quy tắc để dùng."
   ],
   "metadata": {
    "collapsed": false,
    "pycharm": {
     "name": "#%% md\n"
    }
   }
  },
  {
   "cell_type": "markdown",
   "source": [
    "### Rules of thumb when thinking variance\n",
    "\n",
    "- If a formal type parameter defines a type for data that comes out of the object, it can be covariant.\n",
    "- If a formal type parameter defines a type for data that goes into the object after its initial construction, it can be contravariant.\n",
    "- If a formal type parameter defines a type for data that comes out of the object and the same parameter defines a type for data that goes into the object, it must be invariant.\n",
    "- To err on the safe side, make formal type parameters invariant.\n",
    "\n",
    "`Callable[[ParamType, …], ReturnType]` demonstrates rules #1 and #2: The `ReturnType` is *covariant*, and each `ParamType` is *contravariant*.\n",
    "\n",
    "By default, `TypeVar` creates formal parameters that are *invariant*, and that’s how the mutable collections in the standard library are annotated.\n"
   ],
   "metadata": {
    "collapsed": false,
    "pycharm": {
     "name": "#%% md\n"
    }
   }
  },
  {
   "cell_type": "markdown",
   "source": [
    "## Implementing a Generic Static Protocol\n",
    "Dùng ý tưởng covariance ở phần trước"
   ],
   "metadata": {
    "collapsed": false,
    "pycharm": {
     "name": "#%% md\n"
    }
   }
  },
  {
   "cell_type": "markdown",
   "source": [
    "```python\n",
    "@runtime_checkable\n",
    "class SupportsAbs(Protocol[T_co]):\n",
    "    \"\"\"An ABC with one abstract method __abs__ that is covariant in its\n",
    "        return type.\"\"\"\n",
    "    # type class + con của nó\n",
    "    __slots__ = ()\n",
    "\n",
    "    @abstractmethod\n",
    "    def __abs__(self) -> T_co:\n",
    "        pass\n",
    "```"
   ],
   "metadata": {
    "collapsed": false,
    "pycharm": {
     "name": "#%% md\n"
    }
   }
  },
  {
   "cell_type": "code",
   "execution_count": 6,
   "outputs": [
    {
     "name": "stdout",
     "output_type": "stream",
     "text": [
      "OK\n"
     ]
    }
   ],
   "source": [
    "# Example 15-21. abs_demo.py: use of the generic SupportsAbs protocol\n",
    "\n",
    "import math\n",
    "from typing import NamedTuple, SupportsAbs\n",
    "\n",
    "class Vector2d(NamedTuple):\n",
    "    x: float\n",
    "    y: float\n",
    "\n",
    "    def __abs__(self) -> float:  # <1>\n",
    "        return math.hypot(self.x, self.y)\n",
    "\n",
    "def is_unit(v: SupportsAbs[float]) -> bool:  # <2>\n",
    "    \"\"\"'True' if the magnitude of 'v' is close to 1.\"\"\"\n",
    "    return math.isclose(abs(v), 1.0)  # <3>\n",
    "\n",
    "assert issubclass(Vector2d, SupportsAbs)  # <4>\n",
    "\n",
    "v0 = Vector2d(0, 1)  # <5>\n",
    "sqrt2 = math.sqrt(2)\n",
    "v1 = Vector2d(sqrt2 / 2, sqrt2 / 2)\n",
    "v2 = Vector2d(1, 1)\n",
    "v3 = complex(.5, math.sqrt(3) / 2)\n",
    "v4 = 1  # <6>\n",
    "\n",
    "# 1: Defining __abs__ makes Vector2d consistent-with SupportsAbs.\n",
    "# 2: Parameterizing SupportsAbs with float ensures…\n",
    "# 3: …that Mypy accepts abs(v) as the first argument for math.isclose.\n",
    "\n",
    "# 6: The int type is also consistent-with SupportsAbs. According to typeshed, int.__abs__ returns an int, which is consistent-with the float type parameter declared in the is_unit type hint for the v argument.\n",
    "\n",
    "assert is_unit(v0)\n",
    "assert is_unit(v1)\n",
    "assert not is_unit(v2)\n",
    "assert is_unit(v3)\n",
    "assert is_unit(v4)\n",
    "\n",
    "print('OK')\n"
   ],
   "metadata": {
    "collapsed": false,
    "pycharm": {
     "name": "#%%\n"
    }
   }
  },
  {
   "cell_type": "code",
   "execution_count": 7,
   "outputs": [
    {
     "data": {
      "text/plain": "(Vector2d(x=0, y=1),\n Vector2d(x=0.7071067811865476, y=0.7071067811865476),\n Vector2d(x=1, y=1),\n (0.5+0.8660254037844386j),\n 1)"
     },
     "execution_count": 7,
     "metadata": {},
     "output_type": "execute_result"
    }
   ],
   "source": [
    "v0, v1, v2, v3, v4"
   ],
   "metadata": {
    "collapsed": false,
    "pycharm": {
     "name": "#%%\n"
    }
   }
  },
  {
   "cell_type": "code",
   "execution_count": 8,
   "outputs": [
    {
     "data": {
      "text/plain": "'\\nThe generic RandomPicker protocol can be covariant because its only formal parameter is used in a return type.\\n'"
     },
     "execution_count": 8,
     "metadata": {},
     "output_type": "execute_result"
    }
   ],
   "source": [
    "# Example 15-22. generic_randompick.py: definition of generic RandomPicker\n",
    "\n",
    "from typing import Protocol, runtime_checkable, TypeVar\n",
    "\n",
    "T_co = TypeVar('T_co', covariant=True)  # <1>\n",
    "\n",
    "@runtime_checkable\n",
    "class RandomPicker(Protocol[T_co]):  # <2>\n",
    "    def pick(self) -> T_co: ...  # <3>\n",
    "\n",
    "# 1. Declare T_co as covariant.\n",
    "\n",
    "# 2. This makes RandomPicker generic with a covariant formal type parameter.\n",
    "\n",
    "# 3. Use T_co as the return type.\n",
    "\n",
    "\"\"\"\n",
    "The generic RandomPicker protocol can be covariant because its only formal parameter is used in a return type.\n",
    "\"\"\""
   ],
   "metadata": {
    "collapsed": false,
    "pycharm": {
     "name": "#%%\n"
    }
   }
  },
  {
   "cell_type": "code",
   "execution_count": null,
   "outputs": [],
   "source": [],
   "metadata": {
    "collapsed": false,
    "pycharm": {
     "name": "#%%\n"
    }
   }
  }
 ],
 "metadata": {
  "kernelspec": {
   "display_name": "Python 3",
   "language": "python",
   "name": "python3"
  },
  "language_info": {
   "codemirror_mode": {
    "name": "ipython",
    "version": 2
   },
   "file_extension": ".py",
   "mimetype": "text/x-python",
   "name": "python",
   "nbconvert_exporter": "python",
   "pygments_lexer": "ipython2",
   "version": "2.7.6"
  }
 },
 "nbformat": 4,
 "nbformat_minor": 0
}
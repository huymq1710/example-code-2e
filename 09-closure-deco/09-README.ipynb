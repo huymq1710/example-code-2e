{
 "cells": [
  {
   "cell_type": "markdown",
   "source": [
    "# Chapter 9. Decorators and Closures"
   ],
   "metadata": {
    "collapsed": false,
    "pycharm": {
     "name": "#%% md\n"
    }
   }
  },
  {
   "cell_type": "markdown",
   "source": [
    "Sẽ ok nếu tuân chặt theo *class-centered object orientation*. Tuy nhiên, nếu muốn implement function decorators, cẩn hiểu rõ closures và `nonlocal`"
   ],
   "metadata": {
    "collapsed": false,
    "pycharm": {
     "name": "#%% md\n"
    }
   }
  },
  {
   "cell_type": "markdown",
   "source": [
    "we need to cover:\n",
    "\n",
    "- How Python evaluates decorator syntax\n",
    "\n",
    "- How Python decides whether a variable is local\n",
    "\n",
    "- Why closures exist and how they work\n",
    "\n",
    "- What problem is solved by `nonlocal`\n",
    "\n",
    "and then:\n",
    "\n",
    "- Implementing a well-behaved decorator\n",
    "\n",
    "- Powerful decorators in the standard library: @cache, @lru_cache, and @singledispatch\n",
    "\n",
    "- Implementing a parameterized (tham số hoá) decorator"
   ],
   "metadata": {
    "collapsed": false,
    "pycharm": {
     "name": "#%% md\n"
    }
   }
  },
  {
   "cell_type": "markdown",
   "source": [
    "## Decorators 101\n",
    "\n",
    "A *decorator* is a callable that takes another function as an argument (the decorated function).\n",
    "\n",
    "Ví dụ:\n",
    "\n",
    "```python\n",
    "@decorate\n",
    "def target():\n",
    "    print('running target()')\n",
    "```\n",
    "có tác dụng tương tự như:\n",
    "```python\n",
    "def target():\n",
    "    print('running target()')\n",
    "\n",
    "target = decorate(target)\n",
    "```"
   ],
   "metadata": {
    "collapsed": false,
    "pycharm": {
     "name": "#%% md\n"
    }
   }
  },
  {
   "cell_type": "code",
   "execution_count": 4,
   "metadata": {
    "collapsed": true,
    "pycharm": {
     "name": "#%%\n"
    }
   },
   "outputs": [],
   "source": [
    "def deco(func):\n",
    "    def inner():\n",
    "        print('running inner()')\n",
    "    return inner"
   ]
  },
  {
   "cell_type": "code",
   "execution_count": 5,
   "outputs": [
    {
     "name": "stdout",
     "output_type": "stream",
     "text": [
      "running inner()\n"
     ]
    }
   ],
   "source": [
    "@deco\n",
    "def target():\n",
    "    print('running target()')\n",
    "\n",
    "target() # run deco(target)"
   ],
   "metadata": {
    "collapsed": false,
    "pycharm": {
     "name": "#%%\n"
    }
   }
  },
  {
   "cell_type": "code",
   "execution_count": 7,
   "outputs": [
    {
     "data": {
      "text/plain": "<function __main__.deco.<locals>.inner()>"
     },
     "execution_count": 7,
     "metadata": {},
     "output_type": "execute_result"
    }
   ],
   "source": [
    "# target is a now a reference to inner\n",
    "target"
   ],
   "metadata": {
    "collapsed": false,
    "pycharm": {
     "name": "#%%\n"
    }
   }
  },
  {
   "cell_type": "markdown",
   "source": [
    "Sometimes call `@deco` is actually convenient, especially when doing `metaprogramming`—changing program behavior at runtime."
   ],
   "metadata": {
    "collapsed": false,
    "pycharm": {
     "name": "#%% md\n"
    }
   }
  },
  {
   "cell_type": "markdown",
   "source": [
    "NOTE:\n",
    "- Decorators are executed immediately when a module is loaded."
   ],
   "metadata": {
    "collapsed": false,
    "pycharm": {
     "name": "#%% md\n"
    }
   }
  },
  {
   "cell_type": "markdown",
   "source": [
    "## When Python Executes Decorators\n",
    "\n",
    "decorators chạy ngay khi decorated function được define (thường ở import time)"
   ],
   "metadata": {
    "collapsed": false,
    "pycharm": {
     "name": "#%% md\n"
    }
   }
  },
  {
   "cell_type": "code",
   "execution_count": 8,
   "outputs": [
    {
     "name": "stdout",
     "output_type": "stream",
     "text": [
      "running register(<function f1 at 0x7fcd21720160>)\n",
      "running register(<function f2 at 0x7fcd21720280>)\n",
      "running main()\n",
      "registry -> [<function f1 at 0x7fcd21720160>, <function f2 at 0x7fcd21720280>]\n",
      "running f1()\n",
      "running f2()\n",
      "running f3()\n"
     ]
    }
   ],
   "source": [
    "registry = []\n",
    "\n",
    "def register(func):\n",
    "    print(f'running register({func})')\n",
    "    registry.append(func)\n",
    "    return func\n",
    "\n",
    "@register\n",
    "def f1():\n",
    "    print('running f1()')\n",
    "\n",
    "@register\n",
    "def f2():\n",
    "    print('running f2()')\n",
    "\n",
    "def f3():\n",
    "    print('running f3()')\n",
    "\n",
    "if __name__ == '__main__':\n",
    "    print('running main()')\n",
    "    print('registry ->', registry)\n",
    "    f1()\n",
    "    f2()\n",
    "    f3()"
   ],
   "metadata": {
    "collapsed": false,
    "pycharm": {
     "name": "#%%\n"
    }
   }
  },
  {
   "cell_type": "markdown",
   "source": [
    "`running register` được chạy đầu tiên. Và khi call @register, nó nhận decorated function object như 1 tham số (`<function f1 at 0x100631bf8>`)\n"
   ],
   "metadata": {
    "collapsed": false,
    "pycharm": {
     "name": "#%% md\n"
    }
   }
  },
  {
   "cell_type": "markdown",
   "source": [
    "--> function decorators (`@deco`) are executed as soon as the module is imported, but the decorated functions only run when they are explicitly invoked. This highlights the difference between what Pythonistas call _import time_ and _runtime_."
   ],
   "metadata": {
    "collapsed": false,
    "pycharm": {
     "name": "#%% md\n"
    }
   }
  },
  {
   "cell_type": "markdown",
   "source": [
    "## Registration Decorators\n",
    "\n",
    "Considering how decorators are commonly employed in real code:\n",
    "- A real decorator is usually defined in one module and applied to functions in other modules.\n",
    "- Most decorators define 1 inner function and return it."
   ],
   "metadata": {
    "collapsed": false,
    "pycharm": {
     "name": "#%% md\n"
    }
   }
  },
  {
   "cell_type": "markdown",
   "source": [
    "To understand closures, we need to review how variable scopes work in Python\n",
    "\n",
    "## Variable Scope Rules"
   ],
   "metadata": {
    "collapsed": false,
    "pycharm": {
     "name": "#%% md\n"
    }
   }
  },
  {
   "cell_type": "code",
   "execution_count": 9,
   "outputs": [
    {
     "name": "stdout",
     "output_type": "stream",
     "text": [
      "3\n"
     ]
    },
    {
     "ename": "UnboundLocalError",
     "evalue": "local variable 'b' referenced before assignment",
     "output_type": "error",
     "traceback": [
      "\u001B[0;31m---------------------------------------------------------------------------\u001B[0m",
      "\u001B[0;31mUnboundLocalError\u001B[0m                         Traceback (most recent call last)",
      "Cell \u001B[0;32mIn[9], line 8\u001B[0m\n\u001B[1;32m      5\u001B[0m     \u001B[38;5;28mprint\u001B[39m(b)\n\u001B[1;32m      6\u001B[0m     b \u001B[38;5;241m=\u001B[39m \u001B[38;5;241m9\u001B[39m\n\u001B[0;32m----> 8\u001B[0m \u001B[43mf2\u001B[49m\u001B[43m(\u001B[49m\u001B[38;5;241;43m3\u001B[39;49m\u001B[43m)\u001B[49m\n",
      "Cell \u001B[0;32mIn[9], line 5\u001B[0m, in \u001B[0;36mf2\u001B[0;34m(a)\u001B[0m\n\u001B[1;32m      3\u001B[0m \u001B[38;5;28;01mdef\u001B[39;00m \u001B[38;5;21mf2\u001B[39m(a):\n\u001B[1;32m      4\u001B[0m     \u001B[38;5;28mprint\u001B[39m(a)\n\u001B[0;32m----> 5\u001B[0m     \u001B[38;5;28mprint\u001B[39m(\u001B[43mb\u001B[49m)\n\u001B[1;32m      6\u001B[0m     b \u001B[38;5;241m=\u001B[39m \u001B[38;5;241m9\u001B[39m\n",
      "\u001B[0;31mUnboundLocalError\u001B[0m: local variable 'b' referenced before assignment"
     ]
    }
   ],
   "source": [
    "b = 6 # global variable\n",
    "\n",
    "def f2(a):\n",
    "    print(a)\n",
    "    print(b)\n",
    "    b = 9\n",
    "\n",
    "f2(3)"
   ],
   "metadata": {
    "collapsed": false,
    "pycharm": {
     "name": "#%%\n"
    }
   }
  },
  {
   "cell_type": "markdown",
   "source": [
    "khi Python biên dịch phần thân của hàm, nó quyết định rằng `b` là một biến cục bộ vì nó được gán bên trong hàm.\n",
    "\n",
    "Python không yêu cầu bạn khai báo biến, nhưng giả định rằng biến được gán trong phần thân của hàm là cục bộ. Khác với JavaScript khi không khai báo biến, nếu không khai báo biến cục bộ với `var` , sẽ ghi đè lên biến toàn cục."
   ],
   "metadata": {
    "collapsed": false,
    "pycharm": {
     "name": "#%% md\n"
    }
   }
  },
  {
   "cell_type": "code",
   "execution_count": 10,
   "outputs": [
    {
     "name": "stdout",
     "output_type": "stream",
     "text": [
      "3\n",
      "6\n"
     ]
    }
   ],
   "source": [
    "b = 6\n",
    "\n",
    "def f3(a):\n",
    "    global b\n",
    "    print(a)\n",
    "    print(b)\n",
    "    b = 9\n",
    "\n",
    "f3(3)"
   ],
   "metadata": {
    "collapsed": false,
    "pycharm": {
     "name": "#%%\n"
    }
   }
  },
  {
   "cell_type": "code",
   "execution_count": 11,
   "outputs": [
    {
     "data": {
      "text/plain": "9"
     },
     "execution_count": 11,
     "metadata": {},
     "output_type": "execute_result"
    }
   ],
   "source": [
    "b"
   ],
   "metadata": {
    "collapsed": false,
    "pycharm": {
     "name": "#%%\n"
    }
   }
  },
  {
   "cell_type": "markdown",
   "source": [
    "Biến có thể đến từ:\n",
    "- The module global scope\n",
    "- The f3 function local scope\n",
    "- nonlocal (is fundamental for closures)"
   ],
   "metadata": {
    "collapsed": false,
    "pycharm": {
     "name": "#%% md\n"
    }
   }
  },
  {
   "cell_type": "markdown",
   "source": [
    "## Closures\n",
    "\n",
    "Closure is a function, it can access nonglobal variables that are defined outside of its body.\n",
    "\n"
   ],
   "metadata": {
    "collapsed": false,
    "pycharm": {
     "name": "#%% md\n"
    }
   }
  },
  {
   "cell_type": "markdown",
   "source": [
    "Ví dụ: Trung bình giá. Mỗi ngày, 1 gía mới được thêm\n",
    "\n",
    "```Python\n",
    ">>> avg(10)\n",
    "10.0\n",
    ">>> avg(11)\n",
    "10.5\n",
    ">>> avg(12)\n",
    "11.0\n",
    "```\n",
    "\n",
    "Xem các cách mà avg lưu lịch sử giá và tính toán"
   ],
   "metadata": {
    "collapsed": false,
    "pycharm": {
     "name": "#%% md\n"
    }
   }
  },
  {
   "cell_type": "code",
   "execution_count": 14,
   "outputs": [],
   "source": [
    "# Example 9-7. average_oo.py: a class to calculate a running average\n",
    "class Averager():\n",
    "\n",
    "    def __init__(self):\n",
    "        self.series = []\n",
    "\n",
    "    def __call__(self, new_value):\n",
    "        self.series.append(new_value)\n",
    "        total = sum(self.series)\n",
    "        return total / len(self.series)"
   ],
   "metadata": {
    "collapsed": false,
    "pycharm": {
     "name": "#%%\n"
    }
   }
  },
  {
   "cell_type": "code",
   "execution_count": 15,
   "outputs": [
    {
     "data": {
      "text/plain": "10.0"
     },
     "execution_count": 15,
     "metadata": {},
     "output_type": "execute_result"
    }
   ],
   "source": [
    "avg = Averager()\n",
    "avg(10)"
   ],
   "metadata": {
    "collapsed": false,
    "pycharm": {
     "name": "#%%\n"
    }
   }
  },
  {
   "cell_type": "code",
   "execution_count": 16,
   "outputs": [
    {
     "data": {
      "text/plain": "10.5"
     },
     "execution_count": 16,
     "metadata": {},
     "output_type": "execute_result"
    }
   ],
   "source": [
    "avg(11)"
   ],
   "metadata": {
    "collapsed": false,
    "pycharm": {
     "name": "#%%\n"
    }
   }
  },
  {
   "cell_type": "code",
   "execution_count": 30,
   "outputs": [
    {
     "data": {
      "text/plain": "10.0"
     },
     "execution_count": 30,
     "metadata": {},
     "output_type": "execute_result"
    }
   ],
   "source": [
    "# Example 9-8. average.py: a higher-order function to calculate a running average\n",
    "\n",
    "def make_averager():\n",
    "    series = [] # <-- list: mutable\n",
    "    # Each time an averager is called, it appends the passed argument to the series\n",
    "    def averager(new_value):\n",
    "        series.append(new_value)\n",
    "        total = sum(series)\n",
    "        return total / len(series)\n",
    "\n",
    "    return averager\n",
    "\n",
    "avg = make_averager()\n",
    "avg(10)"
   ],
   "metadata": {
    "collapsed": false,
    "pycharm": {
     "name": "#%%\n"
    }
   }
  },
  {
   "cell_type": "code",
   "execution_count": 24,
   "outputs": [
    {
     "data": {
      "text/plain": "10.5"
     },
     "execution_count": 24,
     "metadata": {},
     "output_type": "execute_result"
    }
   ],
   "source": [
    "avg(11)"
   ],
   "metadata": {
    "collapsed": false,
    "pycharm": {
     "name": "#%%\n"
    }
   }
  },
  {
   "cell_type": "markdown",
   "source": [
    "Example 9-7, `avg` is an instance of `Averager`,\n",
    "- `self.series` keep history\n",
    "\n",
    "Example 9-8, `avg` is the inner function, `averager`\n",
    "- `series` is a free variable, that keep history\n",
    "\n",
    "free variable : biến không bị ràng buộc trong phạm vi cục bộ\n",
    "\n",
    "![img.png](9-1.png)"
   ],
   "metadata": {
    "collapsed": false,
    "pycharm": {
     "name": "#%% md\n"
    }
   }
  },
  {
   "cell_type": "code",
   "execution_count": 25,
   "outputs": [
    {
     "data": {
      "text/plain": "('new_value', 'total')"
     },
     "execution_count": 25,
     "metadata": {},
     "output_type": "execute_result"
    }
   ],
   "source": [
    "avg.__code__.co_varnames"
   ],
   "metadata": {
    "collapsed": false,
    "pycharm": {
     "name": "#%%\n"
    }
   }
  },
  {
   "cell_type": "markdown",
   "source": [
    "The value for `series` is kept in the` __closure__` attribute of the returned function `avg`"
   ],
   "metadata": {
    "collapsed": false,
    "pycharm": {
     "name": "#%% md\n"
    }
   }
  },
  {
   "cell_type": "code",
   "execution_count": 27,
   "outputs": [
    {
     "data": {
      "text/plain": "(<cell at 0x7fcd216f63e0: list object at 0x7fcd21776680>,)"
     },
     "execution_count": 27,
     "metadata": {},
     "output_type": "execute_result"
    }
   ],
   "source": [
    "avg.__closure__"
   ],
   "metadata": {
    "collapsed": false,
    "pycharm": {
     "name": "#%%\n"
    }
   }
  },
  {
   "cell_type": "markdown",
   "source": [
    "Each item in `avg.__closure__` corresponds to a name in `avg.__code__.co_freevars`"
   ],
   "metadata": {
    "collapsed": false,
    "pycharm": {
     "name": "#%% md\n"
    }
   }
  },
  {
   "cell_type": "code",
   "execution_count": 26,
   "outputs": [
    {
     "data": {
      "text/plain": "('series',)"
     },
     "execution_count": 26,
     "metadata": {},
     "output_type": "execute_result"
    }
   ],
   "source": [
    "avg.__code__.co_freevars"
   ],
   "metadata": {
    "collapsed": false,
    "pycharm": {
     "name": "#%%\n"
    }
   }
  },
  {
   "cell_type": "markdown",
   "source": [
    "items are `cells`"
   ],
   "metadata": {
    "collapsed": false,
    "pycharm": {
     "name": "#%% md\n"
    }
   }
  },
  {
   "cell_type": "code",
   "execution_count": 28,
   "outputs": [
    {
     "data": {
      "text/plain": "[10, 11]"
     },
     "execution_count": 28,
     "metadata": {},
     "output_type": "execute_result"
    }
   ],
   "source": [
    "avg.__closure__[0].cell_contents"
   ],
   "metadata": {
    "collapsed": false,
    "pycharm": {
     "name": "#%%\n"
    }
   }
  },
  {
   "cell_type": "markdown",
   "source": [
    "Tóm lại:\n",
    "\n",
    "Closure là một hàm giữ lại các ràng buộc của các free variables tồn tại khi hàm được define, để chúng có thể được sử dụng sau này khi hàm được gọi và phạm vi xác định không còn khả dụng"
   ],
   "metadata": {
    "collapsed": false,
    "pycharm": {
     "name": "#%% md\n"
    }
   }
  },
  {
   "cell_type": "markdown",
   "source": [
    "## The nonlocal Declaration\n",
    "\n",
    "Ví dụ 9-8 ko tối ưu khi mà nó luôn tính lại giá trị trung bình khi 1 biến mới được thêm vào."
   ],
   "metadata": {
    "collapsed": false,
    "pycharm": {
     "name": "#%% md\n"
    }
   }
  },
  {
   "cell_type": "code",
   "execution_count": 29,
   "outputs": [
    {
     "ename": "UnboundLocalError",
     "evalue": "local variable 'count' referenced before assignment",
     "output_type": "error",
     "traceback": [
      "\u001B[0;31m---------------------------------------------------------------------------\u001B[0m",
      "\u001B[0;31mUnboundLocalError\u001B[0m                         Traceback (most recent call last)",
      "Cell \u001B[0;32mIn[29], line 14\u001B[0m\n\u001B[1;32m     11\u001B[0m     \u001B[38;5;28;01mreturn\u001B[39;00m averager\n\u001B[1;32m     13\u001B[0m avg \u001B[38;5;241m=\u001B[39m make_averager()\n\u001B[0;32m---> 14\u001B[0m \u001B[43mavg\u001B[49m\u001B[43m(\u001B[49m\u001B[38;5;241;43m10\u001B[39;49m\u001B[43m)\u001B[49m\n",
      "Cell \u001B[0;32mIn[29], line 7\u001B[0m, in \u001B[0;36mmake_averager.<locals>.averager\u001B[0;34m(new_value)\u001B[0m\n\u001B[1;32m      6\u001B[0m \u001B[38;5;28;01mdef\u001B[39;00m \u001B[38;5;21maverager\u001B[39m(new_value):\n\u001B[0;32m----> 7\u001B[0m     count \u001B[38;5;241m+\u001B[39m\u001B[38;5;241m=\u001B[39m \u001B[38;5;241m1\u001B[39m\n\u001B[1;32m      8\u001B[0m     total \u001B[38;5;241m+\u001B[39m\u001B[38;5;241m=\u001B[39m new_value\n\u001B[1;32m      9\u001B[0m     \u001B[38;5;28;01mreturn\u001B[39;00m total \u001B[38;5;241m/\u001B[39m count\n",
      "\u001B[0;31mUnboundLocalError\u001B[0m: local variable 'count' referenced before assignment"
     ]
    }
   ],
   "source": [
    "# Example 9-12: Lỗi\n",
    "def make_averager():\n",
    "    count = 0 # <-- immutable type\n",
    "    total = 0 # <-- immutable type\n",
    "\n",
    "    def averager(new_value):\n",
    "        count += 1\n",
    "        total += new_value\n",
    "        return total / count\n",
    "\n",
    "    return averager\n",
    "\n",
    "avg = make_averager()\n",
    "avg(10)"
   ],
   "metadata": {
    "collapsed": false,
    "pycharm": {
     "name": "#%%\n"
    }
   }
  },
  {
   "cell_type": "markdown",
   "source": [
    "--> Sử dụng nonlocal"
   ],
   "metadata": {
    "collapsed": false,
    "pycharm": {
     "name": "#%% md\n"
    }
   }
  },
  {
   "cell_type": "code",
   "execution_count": 31,
   "outputs": [
    {
     "data": {
      "text/plain": "10.5"
     },
     "execution_count": 31,
     "metadata": {},
     "output_type": "execute_result"
    }
   ],
   "source": [
    "def make_averager():\n",
    "    count = 0\n",
    "    total = 0\n",
    "\n",
    "    def averager(new_value):\n",
    "        nonlocal count, total\n",
    "        count += 1\n",
    "        total += new_value\n",
    "        return total / count\n",
    "\n",
    "    return averager\n",
    "\n",
    "avg = make_averager()\n",
    "avg(10)\n",
    "avg(11)"
   ],
   "metadata": {
    "collapsed": false,
    "pycharm": {
     "name": "#%%\n"
    }
   }
  },
  {
   "cell_type": "markdown",
   "source": [
    "Tóm tắt cách thức hoạt động của tính năng tra cứu biến của Python.\n",
    "\n",
    "Dựa trên các quy tắc sau:\n",
    "- `global x`, `x` is assigned to the `x` global variable module.\n",
    "- `nonlocal x`, `x` is assigned to the `x` local variable of the nearest surrounding function where x is defined.\n",
    "- If `x` is assigned a value in the function body, `x` is the local variable.\n",
    "- If `x` is referenced but is not assigned and is not a parameter:\n",
    "    - `x` will be looked up in the local scopes of the surrounding function bodies (nonlocal scopes).\n",
    "    - If not found in surrounding scopes, it will be read from the module global scope.\n",
    "    - If not found in the global scope, it will be read from `__builtins__.__dict__`."
   ],
   "metadata": {
    "collapsed": false,
    "pycharm": {
     "name": "#%% md\n"
    }
   }
  },
  {
   "cell_type": "markdown",
   "source": [
    "## Implementing a Simple Decorator\n",
    "\n",
    "Example 9-14. clockdeco0.py: simple decorator to show the running time of functions"
   ],
   "metadata": {
    "collapsed": false,
    "pycharm": {
     "name": "#%% md\n"
    }
   }
  },
  {
   "cell_type": "code",
   "execution_count": 32,
   "outputs": [],
   "source": [
    "import time\n",
    "\n",
    "def clock(func):\n",
    "    def clocked(*args): # Define inner function\n",
    "        t0 = time.perf_counter()\n",
    "        result = func(*args) # func free variable\n",
    "        elapsed = time.perf_counter() - t0\n",
    "        name = func.__name__\n",
    "        arg_str = ', '.join(repr(arg) for arg in args)\n",
    "        print(f'[{elapsed:0.8f}s] {name}({arg_str}) -> {result!r}')\n",
    "        return result\n",
    "    return clocked\n",
    "\n",
    "# 1. Records the initial time t0.\n",
    "# 2. Calls the original factorial function, saving the result.\n",
    "# 3. Computes the elapsed time.\n",
    "# 4. Formats and displays the collected data.\n",
    "# 5. Returns the result saved in step 2."
   ],
   "metadata": {
    "collapsed": false,
    "pycharm": {
     "name": "#%%\n"
    }
   }
  },
  {
   "cell_type": "code",
   "execution_count": 34,
   "outputs": [
    {
     "name": "stdout",
     "output_type": "stream",
     "text": [
      "**************************************** Calling snooze(0.123)\n",
      "[0.12638821s] snooze(0.123) -> None\n",
      "None\n",
      "**************************************** Calling factorial(6)\n",
      "[0.00000025s] factorial(1) -> 1\n",
      "[0.00000679s] factorial(2) -> 2\n",
      "[0.00001108s] factorial(3) -> 6\n",
      "[0.00001563s] factorial(4) -> 24\n",
      "[0.00002021s] factorial(5) -> 120\n",
      "[0.00002596s] factorial(6) -> 720\n",
      "6! = 720\n"
     ]
    }
   ],
   "source": [
    "@clock\n",
    "def snooze(seconds):\n",
    "    time.sleep(seconds)\n",
    "\n",
    "@clock\n",
    "def factorial(n):\n",
    "    return 1 if n < 2 else n*factorial(n-1)\n",
    "\n",
    "if __name__ == '__main__':\n",
    "    print('*' * 40, 'Calling snooze(0.123)')\n",
    "    print(snooze(0.123))\n",
    "    print('*' * 40, 'Calling factorial(6)')\n",
    "    print('6! =', factorial(6))"
   ],
   "metadata": {
    "collapsed": false,
    "pycharm": {
     "name": "#%%\n"
    }
   }
  },
  {
   "cell_type": "markdown",
   "source": [
    "### How Above Works\n",
    "\n",
    "```\n",
    "@clock\n",
    "    def factorial(n):\n",
    "```\n",
    "\n",
    "Bằng với\n",
    "\n",
    "```\n",
    "factorial = clock(factorial)\n",
    "```\n",
    "\n",
    "`clock` gets the `factorial` function as its `func` argument, then creates and returns the `clocked` function.\n",
    "\n",
    "So `factorial` now actually holds a reference to the `clocked` function.\n",
    "\n",
    "From now on, each time `factorial(n)` is called, `clocked(n)` gets executed."
   ],
   "metadata": {
    "collapsed": false,
    "pycharm": {
     "name": "#%% md\n"
    }
   }
  },
  {
   "cell_type": "markdown",
   "source": [
    "Đây là hành vi điển hình của một `decorator`: nó thay thế hàm được `decorated` bằng một hàm mới chấp nhận cùng các đối số và (thông thường) trả về bất kỳ giá trị nào mà hàm được `decorated` lẽ ra phải trả về, đồng thời thực hiện một số xử lý bổ sung.\n",
    "\n",
    "Kiểu như: *“Attach additional responsibilities to an object dynamically.”*"
   ],
   "metadata": {
    "collapsed": false,
    "pycharm": {
     "name": "#%% md\n"
    }
   }
  },
  {
   "cell_type": "markdown",
   "source": [
    "Ví dụ trên có 1 hạn chế: Nó che đi `__name__` và `__doc__` của decorated function.\n",
    "\n",
    "--> Sử dụng `funcools.wraps` decorator để sao chép các thuộc tính có liên quan từ `func` sang `clocked`"
   ],
   "metadata": {
    "collapsed": false,
    "pycharm": {
     "name": "#%% md\n"
    }
   }
  },
  {
   "cell_type": "code",
   "execution_count": 35,
   "outputs": [
    {
     "name": "stdout",
     "output_type": "stream",
     "text": [
      "**************************************** Calling snooze(0.123)\n",
      "[0.12804767s] snooze(0.123) -> None\n",
      "None\n",
      "**************************************** Calling factorial(6)\n",
      "[0.00000046s] factorial(1) -> 1\n",
      "[0.00000742s] factorial(2) -> 2\n",
      "[0.00001133s] factorial(3) -> 6\n",
      "[0.00001492s] factorial(4) -> 24\n",
      "[0.00001917s] factorial(5) -> 120\n",
      "[0.00002954s] factorial(6) -> 720\n",
      "6! = 720\n"
     ]
    }
   ],
   "source": [
    "import time\n",
    "import functools\n",
    "\n",
    "\n",
    "def clock(func):\n",
    "    @functools.wraps(func)\n",
    "    def clocked(*args, **kwargs):\n",
    "        t0 = time.perf_counter()\n",
    "        result = func(*args, **kwargs)\n",
    "        elapsed = time.perf_counter() - t0\n",
    "        name = func.__name__\n",
    "        arg_lst = [repr(arg) for arg in args]\n",
    "        arg_lst.extend(f'{k}={v!r}' for k, v in kwargs.items())\n",
    "        arg_str = ', '.join(arg_lst)\n",
    "        print(f'[{elapsed:0.8f}s] {name}({arg_str}) -> {result!r}')\n",
    "        return result\n",
    "    return clocked\n",
    "\n",
    "@clock\n",
    "def snooze(seconds):\n",
    "    time.sleep(seconds)\n",
    "\n",
    "@clock\n",
    "def factorial(n):\n",
    "    return 1 if n < 2 else n*factorial(n-1)\n",
    "\n",
    "if __name__ == '__main__':\n",
    "    print('*' * 40, 'Calling snooze(0.123)')\n",
    "    print(snooze(0.123))\n",
    "    print('*' * 40, 'Calling factorial(6)')\n",
    "    print('6! =', factorial(6))"
   ],
   "metadata": {
    "collapsed": false,
    "pycharm": {
     "name": "#%%\n"
    }
   }
  },
  {
   "cell_type": "markdown",
   "source": [
    "See decorator `cache`\n",
    "## Decorators in the Standard Library\n",
    "\n",
    "Python has three built-in functions that are designed to decorate methods: `property` (chapter 22), `classmethod` (chapter 11), and `staticmethod` (chapter 11)\n",
    "\n",
    "Một số decorator quan trọng:\n",
    "- `functools.wraps`\n",
    "- `cache`, `lru_cache`, and `singledispatch` từ module `functools`."
   ],
   "metadata": {
    "collapsed": false,
    "pycharm": {
     "name": "#%% md\n"
    }
   }
  },
  {
   "cell_type": "markdown",
   "source": [
    "### Memoization with functools.cache\n",
    "\n",
    "Từ Python 3.9\n",
    "Trước Python 3.9, dùng `@lru_cache`"
   ],
   "metadata": {
    "collapsed": false,
    "pycharm": {
     "name": "#%% md\n"
    }
   }
  },
  {
   "cell_type": "code",
   "execution_count": 36,
   "outputs": [
    {
     "name": "stdout",
     "output_type": "stream",
     "text": [
      "[0.00000071s] fibonacci(1) -> 1\n",
      "[0.00000071s] fibonacci(0) -> 0\n",
      "[0.00000029s] fibonacci(1) -> 1\n",
      "[0.00001567s] fibonacci(2) -> 1\n",
      "[0.00009433s] fibonacci(3) -> 2\n",
      "2\n"
     ]
    }
   ],
   "source": [
    "@clock\n",
    "def fibonacci(n):\n",
    "    if n < 2:\n",
    "        return n\n",
    "    return fibonacci(n - 2) + fibonacci(n - 1)\n",
    "\n",
    "\n",
    "if __name__ == '__main__':\n",
    "    print(fibonacci(3))"
   ],
   "metadata": {
    "collapsed": false,
    "pycharm": {
     "name": "#%%\n"
    }
   }
  },
  {
   "cell_type": "code",
   "execution_count": 37,
   "outputs": [
    {
     "name": "stdout",
     "output_type": "stream",
     "text": [
      "[0.00000079s] fibonacci(1) -> 1\n",
      "[0.00000121s] fibonacci(0) -> 0\n",
      "[0.00003900s] fibonacci(2) -> 1\n",
      "[0.00048083s] fibonacci(3) -> 2\n",
      "2\n"
     ]
    }
   ],
   "source": [
    "import functools\n",
    "\n",
    "# @cache is applied on the function returned by @clock.\n",
    "# fibonacci = cache(clock(fibonacci))\n",
    "@functools.cache\n",
    "@clock\n",
    "def fibonacci(n):\n",
    "    if n < 2:\n",
    "        return n\n",
    "    return fibonacci(n - 2) + fibonacci(n - 1)\n",
    "\n",
    "\n",
    "if __name__ == '__main__':\n",
    "    print(fibonacci(3))"
   ],
   "metadata": {
    "collapsed": false,
    "pycharm": {
     "name": "#%%\n"
    }
   }
  },
  {
   "cell_type": "markdown",
   "source": [
    "Bên cạnh việc làm cho các thuật toán đệ quy ngớ ngẩn trở nên khả thi, @cache thực sự tỏa sáng trong các ứng dụng cần fetch thông tin từ các remote API."
   ],
   "metadata": {
    "collapsed": false,
    "pycharm": {
     "name": "#%% md\n"
    }
   }
  },
  {
   "cell_type": "markdown",
   "source": [
    "Tuy nhiên, `cache` ngốn bộ nhớ, phù hợp với short-lived command-line scripts.\n",
    "\n",
    "Với long-running processes, nên dùng `functools.lru_cache`\n",
    "\n",
    "### Using lru_cache\n",
    "\n",
    "Ưu điểm chính của @lru_cache là mức sử dụng bộ nhớ của nó bị giới hạn bởi tham số `maxsize` (default: 128) với cơ chế LRU (Least Recently Used)"
   ],
   "metadata": {
    "collapsed": false,
    "pycharm": {
     "name": "#%% md\n"
    }
   }
  },
  {
   "cell_type": "code",
   "execution_count": null,
   "outputs": [],
   "source": [
    "import functools\n",
    "\n",
    "# typed=True --> f(1) và f(1.0) lưu riêng biệt\n",
    "@functools.lru_cache(maxsize=2**20, typed=True)\n",
    "def costly_function(a, b):"
   ],
   "metadata": {
    "collapsed": false,
    "pycharm": {
     "name": "#%%\n"
    }
   }
  },
  {
   "cell_type": "markdown",
   "source": [
    "### Single Dispatch Generic Functions"
   ],
   "metadata": {
    "collapsed": false,
    "pycharm": {
     "name": "#%% md\n"
    }
   }
  },
  {
   "cell_type": "code",
   "execution_count": 38,
   "outputs": [],
   "source": [
    "# VD: tạo hiển thị HTML cho các loại đối tượng Python khác nhau để debug\n",
    "\n",
    "import html\n",
    "\n",
    "def htmlize(obj):\n",
    "    content = html.escape(repr(obj))\n",
    "    return f'<pre>{content}</pre>'"
   ],
   "metadata": {
    "collapsed": false,
    "pycharm": {
     "name": "#%%\n"
    }
   }
  },
  {
   "cell_type": "code",
   "execution_count": 39,
   "outputs": [
    {
     "data": {
      "text/plain": "'<pre>&lt;built-in function abs&gt;</pre>'"
     },
     "execution_count": 39,
     "metadata": {},
     "output_type": "execute_result"
    }
   ],
   "source": [
    "htmlize(abs)"
   ],
   "metadata": {
    "collapsed": false,
    "pycharm": {
     "name": "#%%\n"
    }
   }
  },
  {
   "cell_type": "code",
   "execution_count": 41,
   "outputs": [
    {
     "name": "stdout",
     "output_type": "stream",
     "text": [
      "<pre>[&#x27;alpha&#x27;, 66, {1, 2, 3}]</pre>\n"
     ]
    }
   ],
   "source": [
    "print(htmlize(['alpha', 66, {3, 2, 1}]))"
   ],
   "metadata": {
    "collapsed": false,
    "pycharm": {
     "name": "#%%\n"
    }
   }
  },
  {
   "cell_type": "markdown",
   "source": [
    "`@singledispatch` marks the base function that handles the object type.\n",
    "\n",
    "Xem cách dùng dưới đây"
   ],
   "metadata": {
    "collapsed": false,
    "pycharm": {
     "name": "#%% md\n"
    }
   }
  },
  {
   "cell_type": "code",
   "execution_count": 42,
   "outputs": [],
   "source": [
    "from functools import singledispatch\n",
    "from collections import abc\n",
    "import fractions\n",
    "import decimal\n",
    "import html\n",
    "import numbers\n",
    "\n",
    "# @singledispatch marks the base function\n",
    "# that handles the object type\n",
    "@singledispatch\n",
    "def htmlize(obj: object) -> str:\n",
    "    content = html.escape(repr(obj))\n",
    "    return f'<pre>{content}</pre>'\n",
    "\n",
    "# Each specialized function is decorated\n",
    "# with @«base».register\n",
    "@htmlize.register\n",
    "def _(text: str) -> str:\n",
    "    content = html.escape(text).replace('\\n', '<br/>\\n')\n",
    "    return f'<p>{content}</p>'\n",
    "\n",
    "# Hoặc có thể add type hints cho decorated function\n",
    "@htmlize.register(decimal.Decimal)\n",
    "@htmlize.register(float)\n",
    "@htmlize.register(fractions.Fraction)\n",
    "def _(x) -> str:\n",
    "    frac = fractions.Fraction(x).limit_denominator()\n",
    "    return f'<pre>{x} ({frac.numerator}/{frac.denominator})</pre>'"
   ],
   "metadata": {
    "collapsed": false,
    "pycharm": {
     "name": "#%%\n"
    }
   }
  },
  {
   "cell_type": "markdown",
   "source": [
    "Phần tiếp theo chỉ ra cách xây dựng các decorators chấp nhận các tham số ( như `@lru_cache()` và `htmlize.register(float)`)"
   ],
   "metadata": {
    "collapsed": false,
    "pycharm": {
     "name": "#%% md\n"
    }
   }
  },
  {
   "cell_type": "markdown",
   "source": [
    "## Parameterized Decorators\n",
    "\n",
    "Ví dụ"
   ],
   "metadata": {
    "collapsed": false,
    "pycharm": {
     "name": "#%% md\n"
    }
   }
  },
  {
   "cell_type": "code",
   "execution_count": 43,
   "outputs": [
    {
     "name": "stdout",
     "output_type": "stream",
     "text": [
      "running register(<function f1 at 0x7fcd217200d0>)\n",
      "running main()\n",
      "registry -> [<function f1 at 0x7fcd217200d0>]\n",
      "running f1()\n"
     ]
    }
   ],
   "source": [
    "registry = []\n",
    "\n",
    "def register(func):\n",
    "    print(f'running register({func})')\n",
    "    registry.append(func)\n",
    "    return func\n",
    "\n",
    "@register\n",
    "def f1():\n",
    "    print('running f1()')\n",
    "\n",
    "print('running main()')\n",
    "print('registry ->', registry)\n",
    "f1()"
   ],
   "metadata": {
    "collapsed": false,
    "pycharm": {
     "name": "#%%\n"
    }
   }
  },
  {
   "cell_type": "markdown",
   "source": [
    "### A Parameterized Registration Decorator"
   ],
   "metadata": {
    "collapsed": false,
    "pycharm": {
     "name": "#%% md\n"
    }
   }
  },
  {
   "cell_type": "code",
   "execution_count": 44,
   "outputs": [
    {
     "name": "stdout",
     "output_type": "stream",
     "text": [
      "running register(active=False)->decorate(<function f1 at 0x7fcd000477f0>)\n",
      "running register(active=True)->decorate(<function f2 at 0x7fcd21720280>)\n"
     ]
    }
   ],
   "source": [
    "# Example 9-22. To accept parameters,\n",
    "# the new register decorator must be called as a function\n",
    "\n",
    "# is now a set, so adding and removing functions is faster.\n",
    "registry = set()\n",
    "\n",
    "def register(active=True):\n",
    "    def decorate(func):\n",
    "        print('running register'\n",
    "              f'(active={active})->decorate({func})')\n",
    "        if active:\n",
    "            registry.add(func)\n",
    "        else:\n",
    "            registry.discard(func)\n",
    "        return func\n",
    "    return decorate\n",
    "\n",
    "@register(active=False)\n",
    "def f1():\n",
    "    print('running f1()')\n",
    "\n",
    "@register()\n",
    "def f2():\n",
    "    print('running f2()')\n",
    "\n",
    "def f3():\n",
    "    print('running f3()')"
   ],
   "metadata": {
    "collapsed": false,
    "pycharm": {
     "name": "#%%\n"
    }
   }
  },
  {
   "cell_type": "code",
   "execution_count": 45,
   "outputs": [
    {
     "data": {
      "text/plain": "{<function __main__.f2()>}"
     },
     "execution_count": 45,
     "metadata": {},
     "output_type": "execute_result"
    }
   ],
   "source": [
    "registry # only f2"
   ],
   "metadata": {
    "collapsed": false,
    "pycharm": {
     "name": "#%%\n"
    }
   }
  },
  {
   "cell_type": "code",
   "execution_count": 46,
   "outputs": [
    {
     "name": "stdout",
     "output_type": "stream",
     "text": [
      "running register(active=True)->decorate(<function f3 at 0x7fcd217201f0>)\n"
     ]
    },
    {
     "data": {
      "text/plain": "<function __main__.f3()>"
     },
     "execution_count": 46,
     "metadata": {},
     "output_type": "execute_result"
    }
   ],
   "source": [
    "# register() expression returns decorate, which is then applied to f3.\n",
    "register()(f3)"
   ],
   "metadata": {
    "collapsed": false,
    "pycharm": {
     "name": "#%%\n"
    }
   }
  },
  {
   "cell_type": "code",
   "execution_count": 47,
   "outputs": [
    {
     "data": {
      "text/plain": "{<function __main__.f2()>, <function __main__.f3()>}"
     },
     "execution_count": 47,
     "metadata": {},
     "output_type": "execute_result"
    }
   ],
   "source": [
    "registry # có f2 và f3"
   ],
   "metadata": {
    "collapsed": false,
    "pycharm": {
     "name": "#%%\n"
    }
   }
  },
  {
   "cell_type": "code",
   "execution_count": 48,
   "outputs": [
    {
     "name": "stdout",
     "output_type": "stream",
     "text": [
      "running register(active=False)->decorate(<function f2 at 0x7fcd21720280>)\n"
     ]
    },
    {
     "data": {
      "text/plain": "<function __main__.f2()>"
     },
     "execution_count": 48,
     "metadata": {},
     "output_type": "execute_result"
    }
   ],
   "source": [
    "register(active=False)(f2)"
   ],
   "metadata": {
    "collapsed": false,
    "pycharm": {
     "name": "#%%\n"
    }
   }
  },
  {
   "cell_type": "code",
   "execution_count": 49,
   "outputs": [
    {
     "data": {
      "text/plain": "{<function __main__.f3()>}"
     },
     "execution_count": 49,
     "metadata": {},
     "output_type": "execute_result"
    }
   ],
   "source": [
    "registry # chỉ còn f3"
   ],
   "metadata": {
    "collapsed": false,
    "pycharm": {
     "name": "#%%\n"
    }
   }
  },
  {
   "cell_type": "markdown",
   "source": [
    "### The Parameterized Clock Decorator\n",
    "\n",
    "Khi mà user truyền vào format string để kiểm soát đầu ra"
   ],
   "metadata": {
    "collapsed": false,
    "pycharm": {
     "name": "#%% md\n"
    }
   }
  },
  {
   "cell_type": "code",
   "execution_count": 50,
   "outputs": [
    {
     "name": "stdout",
     "output_type": "stream",
     "text": [
      "[0.12802854s] snooze(0.123) -> None\n",
      "[0.12803387s] snooze(0.123) -> None\n",
      "[0.12808967s] snooze(0.123) -> None\n"
     ]
    }
   ],
   "source": [
    "# Example 9-24. Module clockdeco_param.py:\n",
    "# the parameterized clock decorator\n",
    "\n",
    "import time\n",
    "\n",
    "DEFAULT_FMT = '[{elapsed:0.8f}s] {name}({args}) -> {result}'\n",
    "\n",
    "def clock(fmt=DEFAULT_FMT): # clock is our parameterized decorator factory\n",
    "    def decorate(func): # is the actual decorator.\n",
    "        def clocked(*_args): # wraps the decorated function\n",
    "            t0 = time.perf_counter()\n",
    "            _result = func(*_args) # _args holds the actual arguments of clocked, while args is str used for display.\n",
    "            elapsed = time.perf_counter() - t0\n",
    "            name = func.__name__\n",
    "            args = ', '.join(repr(arg) for arg in _args)\n",
    "            result = repr(_result)\n",
    "            print(fmt.format(**locals())) # **locals() here allows any local variable of clocked to be referenced\n",
    "            return _result\n",
    "        return clocked\n",
    "    return decorate\n",
    "\n",
    "if __name__ == '__main__':\n",
    "\n",
    "    @clock()\n",
    "    def snooze(seconds):\n",
    "        time.sleep(seconds)\n",
    "\n",
    "    for i in range(3):\n",
    "        snooze(.123)"
   ],
   "metadata": {
    "collapsed": false,
    "pycharm": {
     "name": "#%%\n"
    }
   }
  },
  {
   "cell_type": "code",
   "execution_count": 51,
   "outputs": [
    {
     "name": "stdout",
     "output_type": "stream",
     "text": [
      "snooze: 0.12804358299763408s\n",
      "snooze: 0.12519683400751092s\n",
      "snooze: 0.12805595800455194s\n"
     ]
    }
   ],
   "source": [
    "@clock('{name}: {elapsed}s')\n",
    "def snooze(seconds):\n",
    "    time.sleep(seconds)\n",
    "\n",
    "for i in range(3):\n",
    "    snooze(.123)"
   ],
   "metadata": {
    "collapsed": false,
    "pycharm": {
     "name": "#%%\n"
    }
   }
  },
  {
   "cell_type": "markdown",
   "source": [
    "### A Class-Based Clock Decorator\n",
    "\n",
    "decorators are best coded as classes implementing `__call__`, and not as functions like the examples in this chapter"
   ],
   "metadata": {
    "collapsed": false,
    "pycharm": {
     "name": "#%% md\n"
    }
   }
  },
  {
   "cell_type": "code",
   "execution_count": 62,
   "outputs": [],
   "source": [
    "# Example 9-27. Module clockdeco_cls.py: parameterized clock decorator implemented as class\n",
    "\n",
    "# So sánh vs Example 9-24\n",
    "\n",
    "import time\n",
    "\n",
    "DEFAULT_FMT = '[{elapsed:0.8f}s] {name}({args}) -> {result}'\n",
    "\n",
    "# Instead of a clock outer function,\n",
    "# the clock class is our parameterized decorator factory\n",
    "class Clock:\n",
    "\n",
    "    def __init__(self, fmt=DEFAULT_FMT):\n",
    "        self.fmt = fmt\n",
    "\n",
    "    def __call__(self, func):\n",
    "        def clocked(*_args):\n",
    "            t0 = time.perf_counter()\n",
    "            _result = func(*_args)\n",
    "            elapsed = time.perf_counter() - t0\n",
    "            name = func.__name__\n",
    "            args = ', '.join(repr(arg) for arg in _args)\n",
    "            result = repr(_result)\n",
    "            print(self.fmt.format(**locals()))\n",
    "            return _result\n",
    "        return clocked"
   ],
   "metadata": {
    "collapsed": false,
    "pycharm": {
     "name": "#%%\n"
    }
   }
  },
  {
   "cell_type": "code",
   "execution_count": 70,
   "outputs": [
    {
     "name": "stdout",
     "output_type": "stream",
     "text": [
      "[0.12803833s] snooze(0.123) -> None\n"
     ]
    }
   ],
   "source": [
    "@Clock()\n",
    "def snooze(seconds):\n",
    "    time.sleep(seconds)\n",
    "\n",
    "snooze(.123)"
   ],
   "metadata": {
    "collapsed": false,
    "pycharm": {
     "name": "#%%\n"
    }
   }
  },
  {
   "cell_type": "code",
   "execution_count": null,
   "outputs": [],
   "source": [],
   "metadata": {
    "collapsed": false,
    "pycharm": {
     "name": "#%%\n"
    }
   }
  }
 ],
 "metadata": {
  "kernelspec": {
   "display_name": "Python 3",
   "language": "python",
   "name": "python3"
  },
  "language_info": {
   "codemirror_mode": {
    "name": "ipython",
    "version": 2
   },
   "file_extension": ".py",
   "mimetype": "text/x-python",
   "name": "python",
   "nbconvert_exporter": "python",
   "pygments_lexer": "ipython2",
   "version": "2.7.6"
  }
 },
 "nbformat": 4,
 "nbformat_minor": 0
}